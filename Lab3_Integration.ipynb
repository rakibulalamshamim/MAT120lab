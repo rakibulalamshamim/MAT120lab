{
  "nbformat": 4,
  "nbformat_minor": 0,
  "metadata": {
    "colab": {
      "provenance": [],
      "include_colab_link": true
    },
    "kernelspec": {
      "name": "python3",
      "display_name": "Python 3"
    },
    "language_info": {
      "name": "python"
    }
  },
  "cells": [
    {
      "cell_type": "markdown",
      "metadata": {
        "id": "view-in-github",
        "colab_type": "text"
      },
      "source": [
        "<a href=\"https://colab.research.google.com/github/rakibulalamshamim/MAT120lab/blob/main/Lab3_Integration.ipynb\" target=\"_parent\"><img src=\"https://colab.research.google.com/assets/colab-badge.svg\" alt=\"Open In Colab\"/></a>"
      ]
    },
    {
      "cell_type": "markdown",
      "source": [
        "# Import Sympy and define variables first"
      ],
      "metadata": {
        "id": "dpgTVfuYdE_F"
      }
    },
    {
      "cell_type": "code",
      "source": [
        "from sympy import *\n",
        "import numpy as np\n",
        "x = Symbol('x')\n",
        "f= sin(x)\n",
        "Integral(f,(x,0,pi))"
      ],
      "metadata": {
        "id": "vAnCwPPLdAPS",
        "colab": {
          "base_uri": "https://localhost:8080/",
          "height": 77
        },
        "outputId": "cc318539-8c25-4542-a1c1-345e1f933968"
      },
      "execution_count": null,
      "outputs": [
        {
          "output_type": "execute_result",
          "data": {
            "text/plain": [
              "Integral(sin(x), (x, 0, pi))"
            ],
            "text/latex": "$\\displaystyle \\int\\limits_{0}^{\\pi} \\sin{\\left(x \\right)}\\, dx$"
          },
          "metadata": {},
          "execution_count": 2
        }
      ]
    },
    {
      "cell_type": "code",
      "source": [
        "integrate(f, (x))"
      ],
      "metadata": {
        "colab": {
          "base_uri": "https://localhost:8080/",
          "height": 39
        },
        "id": "eKORdtxO269j",
        "outputId": "237d41be-e608-497b-da57-7dada678e313"
      },
      "execution_count": null,
      "outputs": [
        {
          "output_type": "execute_result",
          "data": {
            "text/plain": [
              "-cos(x)"
            ],
            "text/latex": "$\\displaystyle - \\cos{\\left(x \\right)}$"
          },
          "metadata": {},
          "execution_count": 11
        }
      ]
    },
    {
      "cell_type": "markdown",
      "source": [
        "# Integration\n",
        "Write the integral using `Integral(f, x)` and to do the indefinite integration write `integrate(f, x)`."
      ],
      "metadata": {
        "id": "iBxhvvm7cxjW"
      }
    },
    {
      "cell_type": "markdown",
      "source": [
        "##Indefinite Integral\n",
        "Let's integrate $\\sin(x)$"
      ],
      "metadata": {
        "id": "R05vdZrFc59i"
      }
    },
    {
      "cell_type": "code",
      "execution_count": null,
      "metadata": {
        "colab": {
          "base_uri": "https://localhost:8080/",
          "height": 39
        },
        "id": "yWVn3-DJcqLV",
        "outputId": "81850972-834c-4fb5-9a87-369d0b70fb3c"
      },
      "outputs": [
        {
          "output_type": "execute_result",
          "data": {
            "text/plain": [
              "-cos(x)"
            ],
            "text/latex": "$\\displaystyle - \\cos{\\left(x \\right)}$"
          },
          "metadata": {},
          "execution_count": 2
        }
      ],
      "source": [
        "integrate(sin(x))"
      ]
    },
    {
      "cell_type": "code",
      "source": [
        "integrate(sin(x), (x, -2*pi, pi))"
      ],
      "metadata": {
        "colab": {
          "base_uri": "https://localhost:8080/",
          "height": 37
        },
        "id": "Mq0Ktc54PjPC",
        "outputId": "92cc4f1e-72fd-4952-dde4-6f677a905114"
      },
      "execution_count": null,
      "outputs": [
        {
          "output_type": "execute_result",
          "data": {
            "text/plain": [
              "2"
            ],
            "text/latex": "$\\displaystyle 2$"
          },
          "metadata": {},
          "execution_count": 14
        }
      ]
    },
    {
      "cell_type": "markdown",
      "source": [
        "##Definite Integral\n",
        "To get the definite integral, just write the integral in this format:\n",
        "`integrate(f,(x, lower_limit, upper_limit))`. Let's finish the integral  $$\\Gamma(1)= \\int^{∞}_0 e^{-x}dx$$"
      ],
      "metadata": {
        "id": "hHLDcp5Ydzg-"
      }
    },
    {
      "cell_type": "code",
      "source": [
        "f = exp(-x)\n",
        "integrate(f, (x, 0, oo))"
      ],
      "metadata": {
        "id": "6Jj0Jlffd7ol",
        "colab": {
          "base_uri": "https://localhost:8080/",
          "height": 37
        },
        "outputId": "76ca5f3c-e8cd-4919-b55d-30e5d3debeaa"
      },
      "execution_count": null,
      "outputs": [
        {
          "output_type": "execute_result",
          "data": {
            "text/plain": [
              "1"
            ],
            "text/latex": "$\\displaystyle 1$"
          },
          "metadata": {},
          "execution_count": 16
        }
      ]
    },
    {
      "cell_type": "markdown",
      "source": [
        "###Integrate\n",
        "$$\\int_{-∞}^∞ \\frac{\\cos x}{x^2+1}dx= \\frac{\\pi}{e} $$"
      ],
      "metadata": {
        "id": "tkuyaVcLeI39"
      }
    },
    {
      "cell_type": "code",
      "source": [
        "f = cos(x)/(x**2+1)\n",
        "integrate(f, (x, -oo, +oo)).simplify()"
      ],
      "metadata": {
        "id": "IsHoJAFSeNsJ",
        "colab": {
          "base_uri": "https://localhost:8080/",
          "height": 47
        },
        "outputId": "04ed03fc-7185-425e-a1c6-801f5fbf908c"
      },
      "execution_count": null,
      "outputs": [
        {
          "output_type": "execute_result",
          "data": {
            "text/plain": [
              "pi*exp(-1)"
            ],
            "text/latex": "$\\displaystyle \\frac{\\pi}{e}$"
          },
          "metadata": {},
          "execution_count": 3
        }
      ]
    },
    {
      "cell_type": "markdown",
      "source": [
        "##Classwork\n",
        "Find:\n",
        "\n",
        "\n",
        "1.  Gaussian integral: $$\\int^∞_{-∞} e^{-x^2}dx$$\n",
        "2.  Dirichlet integral: $$\\int^{∞}_0 \\frac{\\sin{(x)}}{x} dx$$\n",
        "\n"
      ],
      "metadata": {
        "id": "krkx2rGeeUrt"
      }
    },
    {
      "cell_type": "code",
      "source": [
        "#Gaussian\n",
        "f = exp(-x**2)\n",
        "integrate(f, (x, -oo, oo))"
      ],
      "metadata": {
        "colab": {
          "base_uri": "https://localhost:8080/",
          "height": 37
        },
        "id": "ihOnZzg0UZvr",
        "outputId": "f67711d2-4403-42b5-8120-26dfa8798e57"
      },
      "execution_count": null,
      "outputs": [
        {
          "output_type": "execute_result",
          "data": {
            "text/plain": [
              "sqrt(pi)"
            ],
            "text/latex": "$\\displaystyle \\sqrt{\\pi}$"
          },
          "metadata": {},
          "execution_count": 31
        }
      ]
    },
    {
      "cell_type": "code",
      "source": [
        "f = sin(x)/x\n",
        "integrate(f, (x, 0, oo))"
      ],
      "metadata": {
        "colab": {
          "base_uri": "https://localhost:8080/",
          "height": 47
        },
        "id": "aZcrLnSxVVTi",
        "outputId": "a36c26cc-6acb-4e97-ecc6-43a998ce8a06"
      },
      "execution_count": null,
      "outputs": [
        {
          "output_type": "execute_result",
          "data": {
            "text/plain": [
              "pi/2"
            ],
            "text/latex": "$\\displaystyle \\frac{\\pi}{2}$"
          },
          "metadata": {},
          "execution_count": 33
        }
      ]
    },
    {
      "cell_type": "markdown",
      "source": [
        "#Factorial using Gamma function\n",
        "The **Gamma** function\n",
        "$$\\Gamma(t) = \\int^∞_0 x^{t-1}e^{-x} dx $$\n",
        "From this, the factorial of a number $n= t-1$ is given by,\n",
        "$$n! = \\int^∞_0 x^{n}e^{-x} dx $$"
      ],
      "metadata": {
        "id": "_QjAeqgYecJd"
      }
    },
    {
      "cell_type": "code",
      "source": [
        "n = symbols('n')\n",
        "f = x**n*exp(-x)\n",
        "i = integrate(f, (x, 0, oo))\n",
        "i.subs(n,10.5)"
      ],
      "metadata": {
        "colab": {
          "base_uri": "https://localhost:8080/",
          "height": 37
        },
        "id": "jm-cf6wO7Ix0",
        "outputId": "c12fd813-55f9-467c-ad79-930ebcf66871"
      },
      "execution_count": null,
      "outputs": [
        {
          "output_type": "execute_result",
          "data": {
            "text/plain": [
              "11899423.0839622"
            ],
            "text/latex": "$\\displaystyle 11899423.0839622$"
          },
          "metadata": {},
          "execution_count": 26
        }
      ]
    },
    {
      "cell_type": "code",
      "source": [
        "n = 10.5\n",
        "f = x**n*exp(-x)\n",
        "integrate(f, (x, 0, oo))"
      ],
      "metadata": {
        "colab": {
          "base_uri": "https://localhost:8080/",
          "height": 37
        },
        "id": "RvgnpRQTWgz8",
        "outputId": "06bdeaab-6eee-4774-ea06-abda66123b26"
      },
      "execution_count": null,
      "outputs": [
        {
          "output_type": "execute_result",
          "data": {
            "text/plain": [
              "11899423.0839622"
            ],
            "text/latex": "$\\displaystyle 11899423.0839622$"
          },
          "metadata": {},
          "execution_count": 35
        }
      ]
    },
    {
      "cell_type": "code",
      "source": [
        "n = 10.5\n",
        "f = x**n*exp(-x)\n",
        "Int= integrate(f, (x, 0, oo))\n",
        "Int"
      ],
      "metadata": {
        "id": "zq4IJzbxelDY",
        "colab": {
          "base_uri": "https://localhost:8080/",
          "height": 37
        },
        "outputId": "5d3553cf-e8c3-46ac-a723-a21e6efa9eb9"
      },
      "execution_count": null,
      "outputs": [
        {
          "output_type": "execute_result",
          "data": {
            "text/plain": [
              "11899423.0839622"
            ],
            "text/latex": "$\\displaystyle 11899423.0839622$"
          },
          "metadata": {},
          "execution_count": 5
        }
      ]
    },
    {
      "cell_type": "markdown",
      "source": [
        "# **Next section is not necessary for Lab Final Quiz**"
      ],
      "metadata": {
        "id": "69SKa2xx4dsv"
      }
    },
    {
      "cell_type": "markdown",
      "source": [
        "# Problems:"
      ],
      "metadata": {
        "id": "spPYj4yeN8Wc"
      }
    },
    {
      "cell_type": "markdown",
      "source": [
        "## 1. Projectile motion\n",
        "Given, \\\\\n",
        "> $y_2= -g$ \\\\\n",
        "> $x_2= 0$ \\\\\n",
        "where, $\\ x(0)=0$,  $\\ \\ y(0)=0$, $\\ \\ x_1(0)=3\\ \\ $ and $y_1(0)=2$ \\\\\n",
        "\n",
        "We first find $x_1(t)$ and $y_1(t)$ using  $$x_1(t)= x_1(0) + \\int_0^t x_2 \\ dt $$  \n",
        "$$y_1(t) = y_1(0) + \\int_0^t y_2 \\ dt $$\n"
      ],
      "metadata": {
        "id": "goHe0unNOA_I"
      }
    },
    {
      "cell_type": "code",
      "source": [
        "x2 = 0\n",
        "y2 = -9.8\n",
        "x10 = 3\n",
        "y10 = 2\n",
        "t= symbols('t')\n",
        "\n",
        "x1 = x10 + integrate(x2, (t,0,t))\n",
        "y1 = y10 + integrate(y2, (t,0,t))\n",
        "x1, y1"
      ],
      "metadata": {
        "colab": {
          "base_uri": "https://localhost:8080/"
        },
        "id": "c3WNjD1wU4P6",
        "outputId": "c9929710-0110-4424-cf64-ca11fd39f3ee"
      },
      "execution_count": null,
      "outputs": [
        {
          "output_type": "execute_result",
          "data": {
            "text/plain": [
              "(3, 2 - 9.8*t)"
            ]
          },
          "metadata": {},
          "execution_count": 6
        }
      ]
    },
    {
      "cell_type": "markdown",
      "source": [
        "We have, $ \\ \\ x_1(t)= 3 \\ \\ $ and $ \\ \\ y_1(t)= 2- 9.8t$. Now,\n",
        "$$x(t) =  \\int_0^t x_1 \\ dt $$\n",
        "$$y(t) =  \\int_0^t y_1 \\ dt $$"
      ],
      "metadata": {
        "id": "AukXTt6CXjJH"
      }
    },
    {
      "cell_type": "code",
      "source": [
        "x, y = symbols('x y')"
      ],
      "metadata": {
        "id": "jTuCAMEkYiOW"
      },
      "execution_count": null,
      "outputs": []
    },
    {
      "cell_type": "code",
      "source": [
        "X_final  = integrate(x1,  (t, 0, t))\n",
        "e1 = Eq(x, X_final)\n",
        "e1"
      ],
      "metadata": {
        "colab": {
          "base_uri": "https://localhost:8080/",
          "height": 39
        },
        "id": "vhLzXCWnadm1",
        "outputId": "632a50f4-c685-44d7-bb24-d25486e16015"
      },
      "execution_count": null,
      "outputs": [
        {
          "output_type": "execute_result",
          "data": {
            "text/plain": [
              "Eq(x, 3*t)"
            ],
            "text/latex": "$\\displaystyle x = 3 t$"
          },
          "metadata": {},
          "execution_count": 8
        }
      ]
    },
    {
      "cell_type": "code",
      "source": [
        "Y_final  = integrate(y1,  (t, 0, t))\n",
        "e2 = Eq(y , Y_final)\n",
        "e2"
      ],
      "metadata": {
        "colab": {
          "base_uri": "https://localhost:8080/",
          "height": 39
        },
        "id": "RoeyeO9WafYN",
        "outputId": "e8937a83-2267-4d7a-9f7a-58beb78227a5"
      },
      "execution_count": null,
      "outputs": [
        {
          "output_type": "execute_result",
          "data": {
            "text/plain": [
              "Eq(y, -4.9*t**2 + 2.0*t)"
            ],
            "text/latex": "$\\displaystyle y = - 4.9 t^{2} + 2.0 t$"
          },
          "metadata": {},
          "execution_count": 9
        }
      ]
    },
    {
      "cell_type": "markdown",
      "source": [
        "So, we have, $\\ \\ x = 3t \\ \\ $ and $\\ \\ y= 2t- 4.9t^2$\n",
        "## Now plot $y$ vs. $x$.\n",
        "First, solve for $t$ in terms of x. Which should give, $t=x/3$. And then substitute $t$ in the second equation above."
      ],
      "metadata": {
        "id": "pUO43YPAbs-v"
      }
    },
    {
      "cell_type": "code",
      "source": [
        "T = solve(e1 , t)\n",
        "print(\"t= \", T[0])\n",
        "\n",
        "Y_new = Y_final.subs(t , T[0])\n",
        "Y_new"
      ],
      "metadata": {
        "colab": {
          "base_uri": "https://localhost:8080/",
          "height": 56
        },
        "id": "OhORUdWNdIa9",
        "outputId": "143e1e96-ac33-4798-afa1-453d1fc7b859"
      },
      "execution_count": null,
      "outputs": [
        {
          "output_type": "stream",
          "name": "stdout",
          "text": [
            "t=  x/3\n"
          ]
        },
        {
          "output_type": "execute_result",
          "data": {
            "text/plain": [
              "-0.544444444444445*x**2 + 0.666666666666667*x"
            ],
            "text/latex": "$\\displaystyle - 0.544444444444445 x^{2} + 0.666666666666667 x$"
          },
          "metadata": {},
          "execution_count": 10
        }
      ]
    },
    {
      "cell_type": "code",
      "source": [
        "plot(Y_new, (x, 0, 1.25))"
      ],
      "metadata": {
        "colab": {
          "base_uri": "https://localhost:8080/",
          "height": 503
        },
        "id": "dnmkHMMrhlUt",
        "outputId": "d54b518c-598c-4e63-a458-09bfd5940588"
      },
      "execution_count": null,
      "outputs": [
        {
          "output_type": "display_data",
          "data": {
            "text/plain": [
              "<Figure size 640x480 with 1 Axes>"
            ],
            "image/png": "[encoded data removed]"
          },
          "metadata": {}
        },
        {
          "output_type": "execute_result",
          "data": {
            "text/plain": [
              "<sympy.plotting.plot.Plot at 0x7e9dcef3b220>"
            ]
          },
          "metadata": {},
          "execution_count": 11
        }
      ]
    }
  ]
}