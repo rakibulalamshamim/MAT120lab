{
  "nbformat": 4,
  "nbformat_minor": 0,
  "metadata": {
    "colab": {
      "provenance": [],
      "include_colab_link": true
    },
    "kernelspec": {
      "name": "python3",
      "display_name": "Python 3"
    },
    "language_info": {
      "name": "python"
    }
  },
  "cells": [
    {
      "cell_type": "markdown",
      "metadata": {
        "id": "view-in-github",
        "colab_type": "text"
      },
      "source": [
        "<a href=\"https://colab.research.google.com/github/rakibulalamshamim/MAT120lab/blob/main/Lab3_Integration.ipynb\" target=\"_parent\"><img src=\"https://colab.research.google.com/assets/colab-badge.svg\" alt=\"Open In Colab\"/></a>"
      ]
    },
    {
      "cell_type": "markdown",
      "source": [
        "# Import Sympy and define variables first"
      ],
      "metadata": {
        "id": "dpgTVfuYdE_F"
      }
    },
    {
      "cell_type": "code",
      "source": [
        "from sympy import *\n",
        "x = Symbol('x')"
      ],
      "metadata": {
        "id": "vAnCwPPLdAPS"
      },
      "execution_count": null,
      "outputs": []
    },
    {
      "cell_type": "markdown",
      "source": [
        "# Integration\n",
        "Write the integral using `Integral(f, x)` and to do the indefinite integration write `integrate(f, x)`."
      ],
      "metadata": {
        "id": "iBxhvvm7cxjW"
      }
    },
    {
      "cell_type": "markdown",
      "source": [
        "##Indefinite Integral\n",
        "Let's integrate $\\sin(x)$"
      ],
      "metadata": {
        "id": "R05vdZrFc59i"
      }
    },
    {
      "cell_type": "code",
      "execution_count": null,
      "metadata": {
        "colab": {
          "base_uri": "https://localhost:8080/",
          "height": 39
        },
        "id": "yWVn3-DJcqLV",
        "outputId": "129fa688-6aaf-495a-c66b-956df38a1dc0"
      },
      "outputs": [
        {
          "output_type": "execute_result",
          "data": {
            "text/plain": [
              "-cos(x)"
            ],
            "text/latex": "$\\displaystyle - \\cos{\\left(x \\right)}$"
          },
          "metadata": {},
          "execution_count": 2
        }
      ],
      "source": [
        "integrate(sin(x))"
      ]
    },
    {
      "cell_type": "markdown",
      "source": [
        "##Definite Integral\n",
        "To get the definite integral, just write the integral in this format:\n",
        "`integrate(f,(x, lower_limit, upper_limit))`. Let's finish the integral  $$\\Gamma(1)= \\int^{∞}_0 e^{-x}dx$$"
      ],
      "metadata": {
        "id": "hHLDcp5Ydzg-"
      }
    },
    {
      "cell_type": "code",
      "source": [
        "f = exp(-x)\n",
        "integrate(f, (x, 0, oo))"
      ],
      "metadata": {
        "id": "6Jj0Jlffd7ol"
      },
      "execution_count": null,
      "outputs": []
    },
    {
      "cell_type": "markdown",
      "source": [
        "###Integrate\n",
        "$$\\int_{-∞}^∞ \\frac{\\cos x}{x^2+1}dx= \\frac{\\pi}{e} $$"
      ],
      "metadata": {
        "id": "tkuyaVcLeI39"
      }
    },
    {
      "cell_type": "code",
      "source": [
        "f = cos(x)/(x**2+1)\n",
        "integrate(f, (x, -oo, +oo))"
      ],
      "metadata": {
        "id": "IsHoJAFSeNsJ"
      },
      "execution_count": null,
      "outputs": []
    },
    {
      "cell_type": "markdown",
      "source": [
        "##Classwork\n",
        "Find:\n",
        "\n",
        "\n",
        "1.  Gaussian integral: $$\\int^∞_{-∞} e^{-x^2}dx$$\n",
        "2.  Dirichlet integral: $$\\int^{∞}_0 \\frac{\\sin{(x)}}{x} dx$$\n",
        "\n"
      ],
      "metadata": {
        "id": "krkx2rGeeUrt"
      }
    },
    {
      "cell_type": "markdown",
      "source": [
        "#Factorial using Gamma function\n",
        "The **Gamma** function\n",
        "$$\\Gamma(t) = \\int^∞_0 x^{t-1}e^{-x} dx $$\n",
        "From this, the factorial of a number $n= t-1$ is given by,\n",
        "$$n! = \\int^∞_0 x^{n}e^{-x} dx $$"
      ],
      "metadata": {
        "id": "_QjAeqgYecJd"
      }
    },
    {
      "cell_type": "code",
      "source": [
        "n = 10.5\n",
        "f = x**n*exp(-x)\n",
        "Int= integrate(f, (x, 0, oo))\n",
        "Int"
      ],
      "metadata": {
        "id": "zq4IJzbxelDY"
      },
      "execution_count": null,
      "outputs": []
    },
    {
      "cell_type": "markdown",
      "source": [
        "# Problems:"
      ],
      "metadata": {
        "id": "spPYj4yeN8Wc"
      }
    },
    {
      "cell_type": "markdown",
      "source": [
        "## 1. Projectile motion\n",
        "Given, \\\\\n",
        "> $y_2= -g$ \\\\\n",
        "> $x_2= 0$ \\\\\n",
        "where, $\\ x(0)=0$,  $\\ \\ y(0)=0$, $\\ \\ x_1(0)=3\\ \\ $ and $y_1(0)=2$ \\\\\n",
        "\n",
        "We first find $x_1(t)$ and $y_1(t)$ using  $$x_1(t)= x_1(0) + \\int_0^t x_2 \\ dt $$  \n",
        "$$y_1(t) = y_1(0) + \\int_0^t y_2 \\ dt $$\n"
      ],
      "metadata": {
        "id": "goHe0unNOA_I"
      }
    },
    {
      "cell_type": "code",
      "source": [
        "x2 = 0\n",
        "y2 = -9.8\n",
        "x10 = 3\n",
        "y10 = 2\n",
        "t= symbols('t')\n",
        "\n",
        "x1 = x10 + integrate(x2, (t,0,t))\n",
        "y1 = y10 + integrate(y2, (t,0,t))\n",
        "x1, y1"
      ],
      "metadata": {
        "colab": {
          "base_uri": "https://localhost:8080/"
        },
        "id": "c3WNjD1wU4P6",
        "outputId": "f69bef55-b934-4ae6-c11a-bb1fb4894c93"
      },
      "execution_count": null,
      "outputs": [
        {
          "output_type": "execute_result",
          "data": {
            "text/plain": [
              "(3, 2 - 9.8*t)"
            ]
          },
          "metadata": {},
          "execution_count": 13
        }
      ]
    },
    {
      "cell_type": "markdown",
      "source": [
        "We have, $ \\ \\ x_1(t)= 3 \\ \\ $ and $ \\ \\ y_1(t)= 2- 9.8t$. Now,\n",
        "$$x(t) =  \\int_0^t x_1 \\ dt $$\n",
        "$$y(t) =  \\int_0^t y_1 \\ dt $$"
      ],
      "metadata": {
        "id": "AukXTt6CXjJH"
      }
    },
    {
      "cell_type": "code",
      "source": [
        "x, y = symbols('x y')"
      ],
      "metadata": {
        "id": "jTuCAMEkYiOW"
      },
      "execution_count": null,
      "outputs": []
    },
    {
      "cell_type": "code",
      "source": [
        "X_final  = integrate(x1,  (t, 0, t))\n",
        "e1 = Eq(x, X_final)\n",
        "e1"
      ],
      "metadata": {
        "colab": {
          "base_uri": "https://localhost:8080/",
          "height": 39
        },
        "id": "vhLzXCWnadm1",
        "outputId": "ddae7c70-517e-4e90-dca6-880fd57736e5"
      },
      "execution_count": null,
      "outputs": [
        {
          "output_type": "execute_result",
          "data": {
            "text/plain": [
              "Eq(x, 3*t)"
            ],
            "text/latex": "$\\displaystyle x = 3 t$"
          },
          "metadata": {},
          "execution_count": 44
        }
      ]
    },
    {
      "cell_type": "code",
      "source": [
        "Y_final  = integrate(y1,  (t, 0, t))\n",
        "e2 = Eq(y , Y_final)\n",
        "e2"
      ],
      "metadata": {
        "colab": {
          "base_uri": "https://localhost:8080/",
          "height": 39
        },
        "id": "RoeyeO9WafYN",
        "outputId": "2a7eecfd-98b0-4cba-91a5-13655c6b8c7e"
      },
      "execution_count": null,
      "outputs": [
        {
          "output_type": "execute_result",
          "data": {
            "text/plain": [
              "Eq(y, -4.9*t**2 + 2.0*t)"
            ],
            "text/latex": "$\\displaystyle y = - 4.9 t^{2} + 2.0 t$"
          },
          "metadata": {},
          "execution_count": 45
        }
      ]
    },
    {
      "cell_type": "markdown",
      "source": [
        "So, we have, $\\ \\ x = 3t \\ \\ $ and $\\ \\ y= 2t- 4.9t^2$\n",
        "## Now plot $y$ vs. $x$.\n",
        "First, solve for $t$ in terms of x. Which should give, $t=x/3$. And then substitute $t$ in the second equation above."
      ],
      "metadata": {
        "id": "pUO43YPAbs-v"
      }
    },
    {
      "cell_type": "code",
      "source": [
        "T = solve(e1 , t)\n",
        "print(\"t= \", T[0])\n",
        "\n",
        "Y_new = Y_final.subs(t , T[0])\n",
        "Y_new"
      ],
      "metadata": {
        "colab": {
          "base_uri": "https://localhost:8080/",
          "height": 56
        },
        "id": "OhORUdWNdIa9",
        "outputId": "61fd5596-a7b6-4a85-fbf5-2081ebd813de"
      },
      "execution_count": null,
      "outputs": [
        {
          "output_type": "stream",
          "name": "stdout",
          "text": [
            "t=  x/3\n"
          ]
        },
        {
          "output_type": "execute_result",
          "data": {
            "text/plain": [
              "-0.544444444444445*x**2 + 0.666666666666667*x"
            ],
            "text/latex": "$\\displaystyle - 0.544444444444445 x^{2} + 0.666666666666667 x$"
          },
          "metadata": {},
          "execution_count": 47
        }
      ]
    },
    {
      "cell_type": "code",
      "source": [
        "plot(Y_new, (x, 0, 1.25))"
      ],
      "metadata": {
        "colab": {
          "base_uri": "https://localhost:8080/",
          "height": 503
        },
        "id": "dnmkHMMrhlUt",
        "outputId": "ffb81a74-45c3-4a9e-d00f-5018cf644b09"
      },
      "execution_count": null,
      "outputs": [
        {
          "output_type": "display_data",
          "data": {
            "text/plain": [
              "<Figure size 640x480 with 1 Axes>"
            ],
            "image/png": "[encoded data removed]"
          },
          "metadata": {}
        },
        {
          "output_type": "execute_result",
          "data": {
            "text/plain": [
              "<sympy.plotting.plot.Plot at 0x7d4cfd9fd000>"
            ]
          },
          "metadata": {},
          "execution_count": 51
        }
      ]
    }
  ]
}