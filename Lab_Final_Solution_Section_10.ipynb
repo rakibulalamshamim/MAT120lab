{
  "nbformat": 4,
  "nbformat_minor": 0,
  "metadata": {
    "colab": {
      "provenance": [],
      "authorship_tag": "ABX9TyOp99muD9KrTFCdGXpAl3ZD",
      "include_colab_link": true
    },
    "kernelspec": {
      "name": "python3",
      "display_name": "Python 3"
    },
    "language_info": {
      "name": "python"
    }
  },
  "cells": [
    {
      "cell_type": "markdown",
      "metadata": {
        "id": "view-in-github",
        "colab_type": "text"
      },
      "source": [
        "<a href=\"https://colab.research.google.com/github/rakibulalamshamim/MAT120lab/blob/main/Lab_Final_Solution_Section_10.ipynb\" target=\"_parent\"><img src=\"https://colab.research.google.com/assets/colab-badge.svg\" alt=\"Open In Colab\"/></a>"
      ]
    },
    {
      "cell_type": "code",
      "execution_count": 1,
      "metadata": {
        "id": "HtOsTpWesJ9y"
      },
      "outputs": [],
      "source": [
        "import numpy as np\n",
        "from sympy import *\n",
        "\n",
        "p, q = 2, 3                  #for example"
      ]
    },
    {
      "cell_type": "code",
      "source": [
        "#1a.\n",
        "x = symbols('x')\n",
        "y = (sin(x)**p + tan(q*x))/(1+p*x+q*x**2)\n",
        "\n",
        "dy = diff(y,x)\n",
        "ddy= diff(y,x,2)\n",
        "\n",
        "display(dy.subs(x, pi/2), dy.subs(x, 2*pi), ddy.subs(x, pi/2), ddy.subs(x, 2*pi))"
      ],
      "metadata": {
        "colab": {
          "base_uri": "https://localhost:8080/",
          "height": 143
        },
        "id": "Lrdnq75Zskkj",
        "outputId": "3524542f-38a2-4787-fe7e-850ab6b316ef"
      },
      "execution_count": 3,
      "outputs": [
        {
          "output_type": "display_data",
          "data": {
            "text/plain": [
              "nan"
            ],
            "text/latex": "$\\displaystyle \\text{NaN}$"
          },
          "metadata": {}
        },
        {
          "output_type": "display_data",
          "data": {
            "text/plain": [
              "3/(1 + 4*pi + 12*pi**2)"
            ],
            "text/latex": "$\\displaystyle \\frac{3}{1 + 4 \\pi + 12 \\pi^{2}}$"
          },
          "metadata": {}
        },
        {
          "output_type": "display_data",
          "data": {
            "text/plain": [
              "nan"
            ],
            "text/latex": "$\\displaystyle \\text{NaN}$"
          },
          "metadata": {}
        },
        {
          "output_type": "display_data",
          "data": {
            "text/plain": [
              "2*(-6*(1 + 6*pi)/(1 + 4*pi + 12*pi**2) + 1)/(1 + 4*pi + 12*pi**2)"
            ],
            "text/latex": "$\\displaystyle \\frac{2 \\left(- \\frac{6 \\cdot \\left(1 + 6 \\pi\\right)}{1 + 4 \\pi + 12 \\pi^{2}} + 1\\right)}{1 + 4 \\pi + 12 \\pi^{2}}$"
          },
          "metadata": {}
        }
      ]
    },
    {
      "cell_type": "code",
      "source": [
        "#1b\n",
        "x, y, z = symbols('x y z')\n",
        "phi = 3*x**2*z*asin(p*y)\n",
        "\n",
        "phixx= diff(phi, x, x)\n",
        "phiyy= diff(phi, y, y)\n",
        "phizz= diff(phi, z, z)\n",
        "display(phixx, phiyy, phizz)\n",
        "Laplacian = phixx+phiyy+phizz\n",
        "\n",
        "display(\"Laplacian=\", Laplacian)"
      ],
      "metadata": {
        "colab": {
          "base_uri": "https://localhost:8080/",
          "height": 170
        },
        "id": "h9b_7A_vtos0",
        "outputId": "b9b5bcaa-2c66-4070-e066-f020fde2d2a9"
      },
      "execution_count": 8,
      "outputs": [
        {
          "output_type": "display_data",
          "data": {
            "text/plain": [
              "6*z*asin(2*y)"
            ],
            "text/latex": "$\\displaystyle 6 z \\operatorname{asin}{\\left(2 y \\right)}$"
          },
          "metadata": {}
        },
        {
          "output_type": "display_data",
          "data": {
            "text/plain": [
              "24*x**2*y*z/(1 - 4*y**2)**(3/2)"
            ],
            "text/latex": "$\\displaystyle \\frac{24 x^{2} y z}{\\left(1 - 4 y^{2}\\right)^{\\frac{3}{2}}}$"
          },
          "metadata": {}
        },
        {
          "output_type": "display_data",
          "data": {
            "text/plain": [
              "0"
            ],
            "text/latex": "$\\displaystyle 0$"
          },
          "metadata": {}
        },
        {
          "output_type": "display_data",
          "data": {
            "text/plain": [
              "'Laplacian='"
            ],
            "application/vnd.google.colaboratory.intrinsic+json": {
              "type": "string"
            }
          },
          "metadata": {}
        },
        {
          "output_type": "display_data",
          "data": {
            "text/plain": [
              "24*x**2*y*z/(1 - 4*y**2)**(3/2) + 6*z*asin(2*y)"
            ],
            "text/latex": "$\\displaystyle \\frac{24 x^{2} y z}{\\left(1 - 4 y^{2}\\right)^{\\frac{3}{2}}} + 6 z \\operatorname{asin}{\\left(2 y \\right)}$"
          },
          "metadata": {}
        }
      ]
    },
    {
      "cell_type": "code",
      "source": [
        "#2a\n",
        "x=symbols('x')\n",
        "y = sin(p*x)\n",
        "\n",
        "f= diff(y, x, 2) + 3*diff(y)-q*y\n",
        "df = diff(f)\n",
        "\n",
        "roots= solveset(df,x, Interval(-3*pi/2, 5*pi/2))\n",
        "\n",
        "print('Number of extrema = ', len(roots))"
      ],
      "metadata": {
        "colab": {
          "base_uri": "https://localhost:8080/"
        },
        "id": "ipUCRW4ouvTT",
        "outputId": "ee6e89cc-a929-4992-91d2-37ab603b63e4"
      },
      "execution_count": 12,
      "outputs": [
        {
          "output_type": "stream",
          "name": "stdout",
          "text": [
            "Number of extrema =  8\n"
          ]
        }
      ]
    },
    {
      "cell_type": "code",
      "source": [
        "#2b\n",
        "x = symbols('x')\n",
        "y = 4*x**p- x**3\n",
        "f = diff(y, x, 2) - 3*diff(y) + 2*y\n",
        "df = diff(f)\n",
        "ddf = diff(f,x,2)\n",
        "roots = solve(df,x)\n",
        "\n",
        "for i in roots:\n",
        "  if np.imag(complex(i)) != 0:\n",
        "    print(\"No extremum for x= \", i)\n",
        "  elif ddf.subs(x, i)>0:\n",
        "    display(\"Minima= \", f.subs(x,i), \"for x= \", i)"
      ],
      "metadata": {
        "colab": {
          "base_uri": "https://localhost:8080/",
          "height": 147
        },
        "id": "9i2OLB8PvuoN",
        "outputId": "83ebfe51-b454-4d19-cc75-fe0026ee744b"
      },
      "execution_count": 16,
      "outputs": [
        {
          "output_type": "display_data",
          "data": {
            "text/plain": [
              "'Minima= '"
            ],
            "application/vnd.google.colaboratory.intrinsic+json": {
              "type": "string"
            }
          },
          "metadata": {}
        },
        {
          "output_type": "display_data",
          "data": {
            "text/plain": [
              "-77 - 2*(17/6 - sqrt(109)/6)**3 + 17*(17/6 - sqrt(109)/6)**2 + 5*sqrt(109)"
            ],
            "text/latex": "$\\displaystyle -77 - 2 \\left(\\frac{17}{6} - \\frac{\\sqrt{109}}{6}\\right)^{3} + 17 \\left(\\frac{17}{6} - \\frac{\\sqrt{109}}{6}\\right)^{2} + 5 \\sqrt{109}$"
          },
          "metadata": {}
        },
        {
          "output_type": "display_data",
          "data": {
            "text/plain": [
              "'for x= '"
            ],
            "application/vnd.google.colaboratory.intrinsic+json": {
              "type": "string"
            }
          },
          "metadata": {}
        },
        {
          "output_type": "display_data",
          "data": {
            "text/plain": [
              "17/6 - sqrt(109)/6"
            ],
            "text/latex": "$\\displaystyle \\frac{17}{6} - \\frac{\\sqrt{109}}{6}$"
          },
          "metadata": {}
        }
      ]
    },
    {
      "cell_type": "code",
      "source": [
        "#3a\n",
        "x = symbols('x')\n",
        "display(integrate(cos(ln(x))/x, (x, 1, 3)))"
      ],
      "metadata": {
        "colab": {
          "base_uri": "https://localhost:8080/",
          "height": 37
        },
        "id": "L441sRsXxmYN",
        "outputId": "379f39dc-1439-486f-99db-70933c259662"
      },
      "execution_count": 15,
      "outputs": [
        {
          "output_type": "display_data",
          "data": {
            "text/plain": [
              "sin(log(3))"
            ],
            "text/latex": "$\\displaystyle \\sin{\\left(\\log{\\left(3 \\right)} \\right)}$"
          },
          "metadata": {}
        }
      ]
    },
    {
      "cell_type": "markdown",
      "source": [
        "3b.\n",
        "Here, $\\ \\ \\ y(x)=\\sin(x)\\cos(x)/x$. $ \\ \\ $ So, we must predefine  $\\ \\ \\ \\ y_0=y(a)=1$ for $a=0$. Since we know $$\\lim_{x \\to 0}\\frac{\\sin(x)}{x}=1$$"
      ],
      "metadata": {
        "id": "1XaDVfTizhW-"
      }
    },
    {
      "cell_type": "code",
      "source": [
        "import numpy as np\n",
        "a = 0\n",
        "b = 100\n",
        "h = 0.01\n",
        "t = 10**(-3)\n",
        "dummy_var = 10\n",
        "\n",
        "def y(x): return np.sin(x)*np.cos(x)/x\n",
        "\n",
        "while True:\n",
        "  x = np.arange(a, b+h, h)\n",
        "  I = 1 + y(b)                                  # Predefining y(a)=1\n",
        "\n",
        "  for i in range(1, len(x)-1):\n",
        "    I = I + 2*y(x[i])\n",
        "  Trapzoid = I*h/2\n",
        "\n",
        "  if np.fabs(Trapzoid - dummy_var)<t:\n",
        "    break\n",
        "  else:\n",
        "    dummy_var = Trapzoid\n",
        "    b+=1\n",
        "\n",
        "Trapzoid"
      ],
      "metadata": {
        "colab": {
          "base_uri": "https://localhost:8080/"
        },
        "id": "2Dwnj-_Ex-7t",
        "outputId": "e438b093-ace1-41aa-e2a5-316e9674679c"
      },
      "execution_count": 19,
      "outputs": [
        {
          "output_type": "execute_result",
          "data": {
            "text/plain": [
              "0.7839246772481516"
            ]
          },
          "metadata": {},
          "execution_count": 19
        }
      ]
    },
    {
      "cell_type": "code",
      "source": [
        "#4a\n",
        "\n",
        "L, R, t = symbols('L R t')\n",
        "I = symbols('I', cls= Function)\n",
        "V = 5*exp(-q*t) + 10*sin(p*t)\n",
        "LHS = L*diff(I(t),t) + R*I(t)\n",
        "eqn = Eq(LHS, V)\n",
        "soln= dsolve(eqn, ics= {I(0):0})\n",
        "soln"
      ],
      "metadata": {
        "colab": {
          "base_uri": "https://localhost:8080/",
          "height": 59
        },
        "id": "ui-FZqqJ0Sny",
        "outputId": "e3ee7d5d-9dba-46e9-c219-b5078a8b751f"
      },
      "execution_count": 33,
      "outputs": [
        {
          "output_type": "execute_result",
          "data": {
            "text/plain": [
              "Eq(I(t), -20*L*cos(2*t)/(4*L**2 + R**2) + 10*R*sin(2*t)/(4*L**2 + R**2) + (80*L**2 - 20*L*R + 5*R**2)*exp(-R*t/L)/(12*L**3 - 4*L**2*R + 3*L*R**2 - R**3) - 5*exp(-3*t)/(3*L - R))"
            ],
            "text/latex": "$\\displaystyle I{\\left(t \\right)} = - \\frac{20 L \\cos{\\left(2 t \\right)}}{4 L^{2} + R^{2}} + \\frac{10 R \\sin{\\left(2 t \\right)}}{4 L^{2} + R^{2}} + \\frac{\\left(80 L^{2} - 20 L R + 5 R^{2}\\right) e^{- \\frac{R t}{L}}}{12 L^{3} - 4 L^{2} R + 3 L R^{2} - R^{3}} - \\frac{5 e^{- 3 t}}{3 L - R}$"
          },
          "metadata": {},
          "execution_count": 33
        }
      ]
    },
    {
      "cell_type": "code",
      "source": [
        "#4b\n",
        "rl = soln.subs(L, p).subs(R, 10+q)\n",
        "plot(rl.rhs, (t, 0, 10))"
      ],
      "metadata": {
        "colab": {
          "base_uri": "https://localhost:8080/",
          "height": 503
        },
        "id": "1T8oMCad1XrE",
        "outputId": "f73823bb-ec1f-4e70-ebbd-924d090922fc"
      },
      "execution_count": 34,
      "outputs": [
        {
          "output_type": "display_data",
          "data": {
            "text/plain": [
              "<Figure size 640x480 with 1 Axes>"
            ],
            "image/png": "[encoded data removed]"
          },
          "metadata": {}
        },
        {
          "output_type": "execute_result",
          "data": {
            "text/plain": [
              "<sympy.plotting.plot.Plot at 0x7cb3a1fada80>"
            ]
          },
          "metadata": {},
          "execution_count": 34
        }
      ]
    },
    {
      "cell_type": "code",
      "source": [
        "#5a\n",
        "\n",
        "L, R, C, t = symbols('L R C t')\n",
        "Q = symbols('Q', cls= Function)\n",
        "V = 10\n",
        "LHS = L*diff(Q(t),t, 2) + R*diff(Q(t),t) + Q(t)/C\n",
        "eqn = Eq(LHS, V)\n",
        "soln= dsolve(eqn, ics= {Q(0):0, diff(Q(t),t).subs(t, 0):10})\n",
        "soln"
      ],
      "metadata": {
        "colab": {
          "base_uri": "https://localhost:8080/",
          "height": 152
        },
        "id": "FM3eM2Dr4aYg",
        "outputId": "d76bc04f-138b-41e2-9a94-152dfa114e53"
      },
      "execution_count": 25,
      "outputs": [
        {
          "output_type": "execute_result",
          "data": {
            "text/plain": [
              "Eq(Q(t), 10*C + (-5*C**2*R/sqrt(C**2*R**2 - 4*C*L) + 10*C*L/sqrt(C**2*R**2 - 4*C*L) - 5*C)*exp(t*(-R + sqrt(C*(C*R**2 - 4*L))/C)/(2*L)) + (5*C**2*R/sqrt(C**2*R**2 - 4*C*L) - 10*C*L/sqrt(C**2*R**2 - 4*C*L) - 5*C)*exp(-t*(R + sqrt(C*(C*R**2 - 4*L))/C)/(2*L)))"
            ],
            "text/latex": "$\\displaystyle Q{\\left(t \\right)} = 10 C + \\left(- \\frac{5 C^{2} R}{\\sqrt{C^{2} R^{2} - 4 C L}} + \\frac{10 C L}{\\sqrt{C^{2} R^{2} - 4 C L}} - 5 C\\right) e^{\\frac{t \\left(- R + \\frac{\\sqrt{C \\left(C R^{2} - 4 L\\right)}}{C}\\right)}{2 L}} + \\left(\\frac{5 C^{2} R}{\\sqrt{C^{2} R^{2} - 4 C L}} - \\frac{10 C L}{\\sqrt{C^{2} R^{2} - 4 C L}} - 5 C\\right) e^{- \\frac{t \\left(R + \\frac{\\sqrt{C \\left(C R^{2} - 4 L\\right)}}{C}\\right)}{2 L}}$"
          },
          "metadata": {},
          "execution_count": 25
        }
      ]
    },
    {
      "cell_type": "code",
      "source": [
        "#5b\n",
        "I = diff(soln.rhs, t)\n",
        "plot(I.subs(L, p).subs(R, 10+q).subs(C, 0.1*p), (t, 0, 50))"
      ],
      "metadata": {
        "colab": {
          "base_uri": "https://localhost:8080/",
          "height": 501
        },
        "id": "tEAapL405T4F",
        "outputId": "6e923f38-1df8-4d49-c949-12089b6a9d64"
      },
      "execution_count": 28,
      "outputs": [
        {
          "output_type": "display_data",
          "data": {
            "text/plain": [
              "<Figure size 640x480 with 1 Axes>"
            ],
            "image/png": "[encoded data removed]"
          },
          "metadata": {}
        },
        {
          "output_type": "execute_result",
          "data": {
            "text/plain": [
              "<sympy.plotting.plot.Plot at 0x7cb3a234cee0>"
            ]
          },
          "metadata": {},
          "execution_count": 28
        }
      ]
    },
    {
      "cell_type": "code",
      "source": [
        "#6a\n",
        "\n",
        "m, r, t = symbols('m r t')\n",
        "y = symbols('y', cls= Function)\n",
        "LHS = m*diff(y(t),t,2) + r*diff(y(t),t) - 9.8*m\n",
        "eqn = Eq(LHS, 0)\n",
        "soln= dsolve(eqn, ics= {y(0):0, diff(y(t),t).subs(t, 0):0})\n",
        "soln"
      ],
      "metadata": {
        "colab": {
          "base_uri": "https://localhost:8080/",
          "height": 69
        },
        "id": "efdUSvpf5509",
        "outputId": "d2292b01-5f29-45a8-bb39-34a404dc816e"
      },
      "execution_count": 29,
      "outputs": [
        {
          "output_type": "execute_result",
          "data": {
            "text/plain": [
              "Eq(y(t), 9.8*m**2*exp(-r*t/m)**1.0/r**2 - 9.8*m**2/r**2 + 9.8*m*t/r)"
            ],
            "text/latex": "$\\displaystyle y{\\left(t \\right)} = \\frac{9.8 m^{2} \\left(e^{- \\frac{r t}{m}}\\right)^{1.0}}{r^{2}} - \\frac{9.8 m^{2}}{r^{2}} + \\frac{9.8 m t}{r}$"
          },
          "metadata": {},
          "execution_count": 29
        }
      ]
    },
    {
      "cell_type": "code",
      "source": [
        "#6b\n",
        "\n",
        "v = diff(soln.rhs, t).subs(m, 1).subs(r, 0.5*p)\n",
        "plot(v, (t, 0, 20))"
      ],
      "metadata": {
        "colab": {
          "base_uri": "https://localhost:8080/",
          "height": 501
        },
        "id": "Sdh1ZuPn6rYf",
        "outputId": "4ad87d0a-8e8a-4a8b-8e0a-e8d21fe39b04"
      },
      "execution_count": 31,
      "outputs": [
        {
          "output_type": "display_data",
          "data": {
            "text/plain": [
              "<Figure size 640x480 with 1 Axes>"
            ],
            "image/png": "[encoded data removed]"
          },
          "metadata": {}
        },
        {
          "output_type": "execute_result",
          "data": {
            "text/plain": [
              "<sympy.plotting.plot.Plot at 0x7cb3a1fb9420>"
            ]
          },
          "metadata": {},
          "execution_count": 31
        }
      ]
    },
    {
      "cell_type": "markdown",
      "source": [
        "6c. The velocity reaches to a steady constant value called terminal velocity as time becomes very large."
      ],
      "metadata": {
        "id": "4OY-jL5s7JC8"
      }
    }
  ]
}