{
  "cells": [
    {
      "cell_type": "markdown",
      "metadata": {
        "id": "view-in-github",
        "colab_type": "text"
      },
      "source": [
        "<a href=\"https://colab.research.google.com/github/rakibulalamshamim/MAT120lab/blob/main/Lab2_Differentiation_and_Root_Finding.ipynb\" target=\"_parent\"><img src=\"https://colab.research.google.com/assets/colab-badge.svg\" alt=\"Open In Colab\"/></a>"
      ]
    },
    {
      "cell_type": "markdown",
      "metadata": {
        "id": "Cdgmhl0_6yLr"
      },
      "source": [
        "# `sympy`\n",
        "The library `sympy` is used for **symbolic computation**. It carries out the computer algebra through expressions only containing variables that have no given value and are manipulated as symbols. Writing `Symbol('x')` will create a symbolic variable $x$."
      ]
    },
    {
      "cell_type": "code",
      "execution_count": null,
      "metadata": {
        "id": "Qomp7VNytL7Y"
      },
      "outputs": [],
      "source": [
        "from sympy import *"
      ]
    },
    {
      "cell_type": "code",
      "execution_count": null,
      "metadata": {
        "id": "Hzrh0OYD77op"
      },
      "outputs": [],
      "source": [
        "x = Symbol('x')                         # for single variable\n",
        "x, y, z = symbols('x y z')              # for multiple variable"
      ]
    },
    {
      "cell_type": "code",
      "source": [],
      "metadata": {
        "id": "IOWGPRifXKru"
      },
      "execution_count": null,
      "outputs": []
    },
    {
      "cell_type": "code",
      "source": [],
      "metadata": {
        "id": "CJSgFKQmXOwu"
      },
      "execution_count": null,
      "outputs": []
    },
    {
      "cell_type": "markdown",
      "metadata": {
        "id": "irDP_S5h4GVV"
      },
      "source": [
        "# Root Finding with `Sympy`\n",
        "Let's say we want to solve the equation: $f(x)=0$. \\\\\n",
        "Use `solve(f, x)` function."
      ]
    },
    {
      "cell_type": "code",
      "execution_count": null,
      "metadata": {
        "id": "ovn18WFS5H1D",
        "colab": {
          "base_uri": "https://localhost:8080/"
        },
        "outputId": "30156d8f-3aad-4f0e-d2cf-64d6165fe287"
      },
      "outputs": [
        {
          "output_type": "execute_result",
          "data": {
            "text/plain": [
              "[2, 3]"
            ]
          },
          "metadata": {},
          "execution_count": 70
        }
      ],
      "source": [
        "f= x**2 - 5*x + 6\n",
        "solve(f)"
      ]
    },
    {
      "cell_type": "markdown",
      "metadata": {
        "id": "WENypJVM8qkT"
      },
      "source": [
        "Solve $\\cos{x}-\\sin{x}=1$"
      ]
    },
    {
      "cell_type": "code",
      "execution_count": null,
      "metadata": {
        "id": "M4cCKU-e9MqR",
        "colab": {
          "base_uri": "https://localhost:8080/",
          "height": 58
        },
        "outputId": "419cd7b9-f847-403f-de95-ffd42e17afb2"
      },
      "outputs": [
        {
          "output_type": "execute_result",
          "data": {
            "text/plain": [
              "{0, -2*pi, -pi/2, 3*pi/2, 2*pi}"
            ],
            "text/latex": "$\\displaystyle \\left\\{0, - 2 \\pi, - \\frac{\\pi}{2}, \\frac{3 \\pi}{2}, 2 \\pi\\right\\}$"
          },
          "metadata": {},
          "execution_count": 71
        }
      ],
      "source": [
        "f = cos(x) -sin(x) -1\n",
        "i  = Interval(-2*pi , 2*pi)\n",
        "solveset(f,x,i)"
      ]
    },
    {
      "cell_type": "markdown",
      "metadata": {
        "id": "XxV0XUnjDtgh"
      },
      "source": [
        "The `solveset()` function will give you the family of solutions. To solve $f(x)=0$ for $x$ in an interval write `solveset(f,x,Interval)`. Now, let's solve  $\\ \\ \\ \\cos{x}-\\sin{x}=1 \\ \\ \\ $\n",
        "in interval:  $-2\\pi \\leq x \\leq 2\\pi $."
      ]
    },
    {
      "cell_type": "code",
      "execution_count": null,
      "metadata": {
        "id": "wPqUneNuERVF",
        "colab": {
          "base_uri": "https://localhost:8080/",
          "height": 48
        },
        "outputId": "8911ce62-761f-43c2-eccc-f3f559164220"
      },
      "outputs": [
        {
          "output_type": "execute_result",
          "data": {
            "text/plain": [
              "{0, -pi/2}"
            ],
            "text/latex": "$\\displaystyle \\left\\{0, - \\frac{\\pi}{2}\\right\\}$"
          },
          "metadata": {},
          "execution_count": 72
        }
      ],
      "source": [
        "i = Interval(-pi, pi)\n",
        "f = cos(x) -sin(x) -1\n",
        "solveset(f,x,i)"
      ]
    },
    {
      "cell_type": "markdown",
      "metadata": {
        "id": "YnsD0mncCYU2"
      },
      "source": [
        "#Excercise 1:\n",
        "Solve\n",
        "\n",
        "\n",
        "1.   $4\\cos{(x)}\\cos{(2x)}\\cos{(3x)}=1$\n",
        "2.   $4\\sin^2{x} + \\cos{x} =5$\n",
        "\n"
      ]
    },
    {
      "cell_type": "code",
      "source": [],
      "metadata": {
        "id": "myH3wCLgXQu_"
      },
      "execution_count": null,
      "outputs": []
    },
    {
      "cell_type": "code",
      "source": [],
      "metadata": {
        "id": "lLg8P4BvXQy_"
      },
      "execution_count": null,
      "outputs": []
    },
    {
      "cell_type": "code",
      "source": [],
      "metadata": {
        "id": "fJVfE3bNXRYu"
      },
      "execution_count": null,
      "outputs": []
    },
    {
      "cell_type": "code",
      "source": [],
      "metadata": {
        "id": "f2bEI6I9Xbj3"
      },
      "execution_count": null,
      "outputs": []
    },
    {
      "cell_type": "markdown",
      "metadata": {
        "id": "zhuFAtI1ZA53"
      },
      "source": [
        "#Differentiation with `sympy`\n",
        "Start with simple functions:\n",
        "$f(x)= \\sin{x} $. Use\n",
        "`diff(f,x)`\n",
        " to find the first derivative, `diff(f, x, x)` for the second derivative and so on.\n",
        " \\\\\n",
        " Or just write `f.diff(x)` to get the derivative. `f.diff(x,x)` to get the second derivative and so on."
      ]
    },
    {
      "cell_type": "code",
      "source": [
        "f = sin(x)\n",
        "f.diff(x)"
      ],
      "metadata": {
        "colab": {
          "base_uri": "https://localhost:8080/",
          "height": 38
        },
        "id": "ztzPiCYw5H6h",
        "outputId": "0e137c28-4591-44d8-cd23-1da1903c9024"
      },
      "execution_count": null,
      "outputs": [
        {
          "output_type": "execute_result",
          "data": {
            "text/plain": [
              "cos(x)"
            ],
            "text/latex": "$\\displaystyle \\cos{\\left(x \\right)}$"
          },
          "metadata": {},
          "execution_count": 111
        }
      ]
    },
    {
      "cell_type": "markdown",
      "metadata": {
        "id": "kz5GNLoPblb4"
      },
      "source": [
        "Let's say we want to calculate $n^{th}$ derivative. Use `diff(f,x,n)` to compute $\\frac{d^nf}{dx^n}$"
      ]
    },
    {
      "cell_type": "code",
      "execution_count": null,
      "metadata": {
        "id": "iRt04vD_bjzg",
        "colab": {
          "base_uri": "https://localhost:8080/",
          "height": 38
        },
        "outputId": "54cec6c0-a829-421d-923b-5e51a4f8783a"
      },
      "outputs": [
        {
          "output_type": "execute_result",
          "data": {
            "text/plain": [
              "-sin(x)"
            ],
            "text/latex": "$\\displaystyle - \\sin{\\left(x \\right)}$"
          },
          "metadata": {},
          "execution_count": 112
        }
      ],
      "source": [
        "diff(f,x,2)"
      ]
    },
    {
      "cell_type": "markdown",
      "source": [
        "Let's try $e^x$, $\\ln(x)$, $\\tan^{-1}(x)$"
      ],
      "metadata": {
        "id": "B-Y0UYc55quh"
      }
    },
    {
      "cell_type": "code",
      "execution_count": null,
      "metadata": {
        "id": "8ahrNoM8EVt-",
        "colab": {
          "base_uri": "https://localhost:8080/",
          "height": 38
        },
        "outputId": "352d5937-3c3b-4c82-f097-68443371b37b"
      },
      "outputs": [
        {
          "output_type": "execute_result",
          "data": {
            "text/plain": [
              "exp(x)"
            ],
            "text/latex": "$\\displaystyle e^{x}$"
          },
          "metadata": {},
          "execution_count": 77
        }
      ],
      "source": [
        "diff(exp(x), x)"
      ]
    },
    {
      "cell_type": "code",
      "execution_count": null,
      "metadata": {
        "id": "tzAnFTTgEX7M",
        "colab": {
          "base_uri": "https://localhost:8080/",
          "height": 51
        },
        "outputId": "22fd0df1-adb8-452d-b285-868679357fbf"
      },
      "outputs": [
        {
          "output_type": "execute_result",
          "data": {
            "text/plain": [
              "1/x"
            ],
            "text/latex": "$\\displaystyle \\frac{1}{x}$"
          },
          "metadata": {},
          "execution_count": 78
        }
      ],
      "source": [
        "diff(ln(x), x)"
      ]
    },
    {
      "cell_type": "code",
      "execution_count": null,
      "metadata": {
        "id": "SRaPvgFpEfVd",
        "colab": {
          "base_uri": "https://localhost:8080/",
          "height": 52
        },
        "outputId": "5265469e-8c67-4015-b587-01a3317a1970"
      },
      "outputs": [
        {
          "output_type": "execute_result",
          "data": {
            "text/plain": [
              "1/(x**2 + 1)"
            ],
            "text/latex": "$\\displaystyle \\frac{1}{x^{2} + 1}$"
          },
          "metadata": {},
          "execution_count": 80
        }
      ],
      "source": [
        "diff(atan(x), x)"
      ]
    },
    {
      "cell_type": "code",
      "source": [],
      "metadata": {
        "id": "kiLnAdYWXdM-"
      },
      "execution_count": null,
      "outputs": []
    },
    {
      "cell_type": "code",
      "source": [],
      "metadata": {
        "id": "xwrcWQ01XdQH"
      },
      "execution_count": null,
      "outputs": []
    },
    {
      "cell_type": "markdown",
      "metadata": {
        "id": "z2HEOQdDrWkE"
      },
      "source": [
        "##Partial derivatives:\n",
        "\n",
        "\n",
        "\n",
        "$f(x)= x^3y^2z-3xz^3$ \\\\\n",
        "\n",
        "Find $\\ \\ \\frac{∂f}{∂x}$, $\\ \\ \\frac{∂f}{∂y}$, and $\\ \\ \\frac{∂^2f}{∂x∂y}$"
      ]
    },
    {
      "cell_type": "code",
      "execution_count": null,
      "metadata": {
        "id": "LOFyFIGdsGXr"
      },
      "outputs": [],
      "source": [
        "x, y, z = symbols('x y z')\n",
        "f = x**3*y**2*z - 3*x*z**3\n",
        "dfdx = diff(f,x)                      # df/dx\n",
        "dfdy = diff(f,y)                      # df/dy\n",
        "ddfdxy= diff(f, x, y)"
      ]
    },
    {
      "cell_type": "markdown",
      "source": [
        "# Excercise 2:\n",
        "\n",
        "## $$f(x)= \\sin(x)\\tan(yz)-e^{x^3y}$$\n",
        "\n",
        "Calculate the Laplacian\n",
        "\n",
        "##  $$\\nabla^2 f = \\frac{\\partial^2f}{\\partial x^2}+\\frac{\\partial^2f}{\\partial y^2}+\\frac{\\partial^2f}{\\partial z^2} $$\n",
        "Also find the value of this at point $(2, 1, 2)$"
      ],
      "metadata": {
        "id": "Gq_c2rs7FYYj"
      }
    },
    {
      "cell_type": "code",
      "execution_count": null,
      "metadata": {
        "id": "vxgphz0UZw6n",
        "colab": {
          "base_uri": "https://localhost:8080/",
          "height": 83
        },
        "outputId": "b27a142e-2d50-4cc2-c5ed-bc3dedb00b92"
      },
      "outputs": [
        {
          "output_type": "display_data",
          "data": {
            "text/plain": [
              "'Laplacian='"
            ],
            "application/vnd.google.colaboratory.intrinsic+json": {
              "type": "string"
            }
          },
          "metadata": {}
        },
        {
          "output_type": "display_data",
          "data": {
            "text/plain": [
              "-x**6*exp(x**3*y) + 2*y**2*(tan(y*z)**2 + 1)*sin(x)*tan(y*z) + 2*z**2*(tan(y*z)**2 + 1)*sin(x)*tan(y*z) - (9*x**4*y**2*exp(x**3*y) + 6*x*y*exp(x**3*y) + sin(x)*tan(y*z))"
            ],
            "text/latex": "$\\displaystyle - x^{6} e^{x^{3} y} + 2 y^{2} \\left(\\tan^{2}{\\left(y z \\right)} + 1\\right) \\sin{\\left(x \\right)} \\tan{\\left(y z \\right)} + 2 z^{2} \\left(\\tan^{2}{\\left(y z \\right)} + 1\\right) \\sin{\\left(x \\right)} \\tan{\\left(y z \\right)} - \\left(9 x^{4} y^{2} e^{x^{3} y} + 6 x y e^{x^{3} y} + \\sin{\\left(x \\right)} \\tan{\\left(y z \\right)}\\right)$"
          },
          "metadata": {}
        },
        {
          "output_type": "stream",
          "name": "stdout",
          "text": [
            "value at point (2,1,2)= -655923.499013613\n"
          ]
        }
      ],
      "source": [
        "from sympy import *\n",
        "x, y, z = symbols('x y z')\n",
        "\n",
        "f = sin(x)*tan(y*z)-exp(x**3*y)\n",
        "dxx= diff(f,x,2)\n",
        "dyy= diff(f,y,2)\n",
        "dzz= diff(f,z,2)\n",
        "Laplacian = dxx+dyy+dzz\n",
        "display('Laplacian=', Laplacian)\n",
        "print ('value at point (2,1,2)=', Laplacian.subs(x,2).subs(y,1).subs(z,2).evalf())"
      ]
    },
    {
      "cell_type": "code",
      "source": [],
      "metadata": {
        "id": "8hpbUzbgcM6A"
      },
      "execution_count": null,
      "outputs": []
    },
    {
      "cell_type": "code",
      "source": [],
      "metadata": {
        "id": "BnEBxTfTcM-Z"
      },
      "execution_count": null,
      "outputs": []
    },
    {
      "cell_type": "code",
      "source": [],
      "metadata": {
        "id": "1HR_tr4VcNDp"
      },
      "execution_count": null,
      "outputs": []
    },
    {
      "cell_type": "code",
      "source": [],
      "metadata": {
        "id": "1Hnq2bo5cNQX"
      },
      "execution_count": null,
      "outputs": []
    },
    {
      "cell_type": "markdown",
      "metadata": {
        "id": "KuLrYY5ZwqNv"
      },
      "source": [
        "# Evaluating value of Sympy expressions\n",
        "* To evaluate the value of any expression $f$, write `f.evalf()` or `N(f)`.\n",
        "* To substitute value of variables (let's say $x$) in any expression $f$, write `f.subs(x, new value)`.\\\\\n",
        "\n",
        "Let's try to find the value of the sympy expression: $f = \\pi^2$"
      ]
    },
    {
      "cell_type": "code",
      "source": [
        "f = pi**2\n",
        "f"
      ],
      "metadata": {
        "id": "e6WTkjiQe7lV",
        "colab": {
          "base_uri": "https://localhost:8080/",
          "height": 38
        },
        "outputId": "b662e274-ac2c-4d33-8314-a447c65ae2cf"
      },
      "execution_count": null,
      "outputs": [
        {
          "output_type": "execute_result",
          "data": {
            "text/plain": [
              "pi**2"
            ],
            "text/latex": "$\\displaystyle \\pi^{2}$"
          },
          "metadata": {},
          "execution_count": 83
        }
      ]
    },
    {
      "cell_type": "code",
      "source": [
        "f.evalf()"
      ],
      "metadata": {
        "colab": {
          "base_uri": "https://localhost:8080/",
          "height": 37
        },
        "id": "UabiBdLIYYBx",
        "outputId": "43773807-d660-44f2-e48b-f190167ee897"
      },
      "execution_count": null,
      "outputs": [
        {
          "output_type": "execute_result",
          "data": {
            "text/plain": [
              "9.86960440108936"
            ],
            "text/latex": "$\\displaystyle 9.86960440108936$"
          },
          "metadata": {},
          "execution_count": 84
        }
      ]
    },
    {
      "cell_type": "code",
      "execution_count": null,
      "metadata": {
        "id": "ssLjSiKYyB98",
        "colab": {
          "base_uri": "https://localhost:8080/",
          "height": 37
        },
        "outputId": "cb2eac9a-314d-4be6-dd9a-5f1dce99a575"
      },
      "outputs": [
        {
          "output_type": "execute_result",
          "data": {
            "text/plain": [
              "-1 - cos(2) + sin(2)"
            ],
            "text/latex": "$\\displaystyle -1 - \\cos{\\left(2 \\right)} + \\sin{\\left(2 \\right)}$"
          },
          "metadata": {},
          "execution_count": 85
        }
      ],
      "source": [
        "f = sin(x) - cos(x) -1\n",
        "f.subs(x,2)"
      ]
    },
    {
      "cell_type": "code",
      "source": [
        "f.subs(x,2).evalf()"
      ],
      "metadata": {
        "id": "xa_Vw9Vye-3Y",
        "colab": {
          "base_uri": "https://localhost:8080/",
          "height": 37
        },
        "outputId": "788546d8-a822-4009-c4bc-9c907d9b3a7c"
      },
      "execution_count": null,
      "outputs": [
        {
          "output_type": "execute_result",
          "data": {
            "text/plain": [
              "0.325444263372824"
            ],
            "text/latex": "$\\displaystyle 0.325444263372824$"
          },
          "metadata": {},
          "execution_count": 86
        }
      ]
    },
    {
      "cell_type": "markdown",
      "metadata": {
        "id": "AuQPdFn0sZpU"
      },
      "source": [
        "\n",
        "# Excercise 3:\n",
        "Differentiate differentiate and evaluate at point $x = 0.5$\n",
        "$$f(x)= \\frac{sin^{-1}(x)x^{\\cos{(x^2)}}}{x^3ln(x^2+1)}$$"
      ]
    },
    {
      "cell_type": "code",
      "execution_count": null,
      "metadata": {
        "id": "BdQ-r_euI3mn"
      },
      "outputs": [],
      "source": [
        "f = asin(x) *x**(cos(x**2))/(x**3*ln(x**2+1))\n",
        "df = diff(f)"
      ]
    },
    {
      "cell_type": "code",
      "source": [
        "df.subs(x,0.5).evalf()"
      ],
      "metadata": {
        "id": "oy7HhwZye4j4",
        "colab": {
          "base_uri": "https://localhost:8080/",
          "height": 37
        },
        "outputId": "6d9878a4-47c9-41ae-db3e-e855eb30a37d"
      },
      "execution_count": null,
      "outputs": [
        {
          "output_type": "execute_result",
          "data": {
            "text/plain": [
              "-50.5457993743116"
            ],
            "text/latex": "$\\displaystyle -50.5457993743116$"
          },
          "metadata": {},
          "execution_count": 88
        }
      ]
    },
    {
      "cell_type": "code",
      "source": [],
      "metadata": {
        "id": "wHbCV-XG1ib3"
      },
      "execution_count": null,
      "outputs": []
    },
    {
      "cell_type": "code",
      "source": [],
      "metadata": {
        "id": "2f_vlMPm1ie4"
      },
      "execution_count": null,
      "outputs": []
    },
    {
      "cell_type": "code",
      "source": [],
      "metadata": {
        "id": "vq4RVRt11iiA"
      },
      "execution_count": null,
      "outputs": []
    },
    {
      "cell_type": "code",
      "source": [],
      "metadata": {
        "id": "ovTrBSeC1jgR"
      },
      "execution_count": null,
      "outputs": []
    },
    {
      "cell_type": "markdown",
      "source": [
        "#`Sympy` plotting:\n",
        "Let's, for example, plot $\\sin(x)$ using the Sympy `plot()` function."
      ],
      "metadata": {
        "id": "dJZzKAXr1nZB"
      }
    },
    {
      "cell_type": "code",
      "source": [
        "import matplotlib.pyplot as plt\n",
        "%matplotlib inline\n",
        "plt.rcParams['figure.figsize'] = 5, 2           #   No needs to concern with this. It's only use is to change the size of the plot."
      ],
      "metadata": {
        "id": "YxscJznJ2cMz"
      },
      "execution_count": null,
      "outputs": []
    },
    {
      "cell_type": "code",
      "source": [
        "plot(sin(x))"
      ],
      "metadata": {
        "colab": {
          "base_uri": "https://localhost:8080/",
          "height": 223
        },
        "id": "ELhp41711way",
        "outputId": "81dcb698-fbda-4a2f-ddeb-735b79953499"
      },
      "execution_count": null,
      "outputs": [
        {
          "output_type": "display_data",
          "data": {
            "text/plain": [
              "<Figure size 500x200 with 1 Axes>"
            ],
            "image/png": "[encoded data removed]"
          },
          "metadata": {}
        },
        {
          "output_type": "execute_result",
          "data": {
            "text/plain": [
              "<sympy.plotting.plot.Plot at 0x7e510c9ecd90>"
            ]
          },
          "metadata": {},
          "execution_count": 105
        }
      ]
    },
    {
      "cell_type": "code",
      "source": [
        "plot(sin(x), (x, -pi, pi))        # Plotting from -pi to pi"
      ],
      "metadata": {
        "colab": {
          "base_uri": "https://localhost:8080/",
          "height": 223
        },
        "id": "T2H4lDnl3EQR",
        "outputId": "eecb5a1d-bd1d-4aba-b69d-7d37b15ca0f5"
      },
      "execution_count": null,
      "outputs": [
        {
          "output_type": "display_data",
          "data": {
            "text/plain": [
              "<Figure size 500x200 with 1 Axes>"
            ],
            "image/png": "[encoded data removed]"
          },
          "metadata": {}
        },
        {
          "output_type": "execute_result",
          "data": {
            "text/plain": [
              "<sympy.plotting.plot.Plot at 0x7e5111663580>"
            ]
          },
          "metadata": {},
          "execution_count": 106
        }
      ]
    },
    {
      "cell_type": "code",
      "source": [
        "plot((tanh(x), (x, -2*pi, 2*pi)), (sin(x), (x, -pi, pi)))           # Plotting multiple graphs"
      ],
      "metadata": {
        "colab": {
          "base_uri": "https://localhost:8080/",
          "height": 223
        },
        "id": "nnhRfDEU3cFi",
        "outputId": "ed8224d4-04fa-4f4b-e579-2833e994a6d7"
      },
      "execution_count": null,
      "outputs": [
        {
          "output_type": "display_data",
          "data": {
            "text/plain": [
              "<Figure size 500x200 with 1 Axes>"
            ],
            "image/png": "[encoded data removed]"
          },
          "metadata": {}
        },
        {
          "output_type": "execute_result",
          "data": {
            "text/plain": [
              "<sympy.plotting.plot.Plot at 0x7e5111677c70>"
            ]
          },
          "metadata": {},
          "execution_count": 110
        }
      ]
    },
    {
      "cell_type": "markdown",
      "source": [
        "# Excercise 4:\n",
        " Now plot both $f(x)$ and $f'(x)$\n",
        "$$f(x)= 1+2\\sin{(x)}+3\\cos^2{(x)}\\ \\ \\ \\ \\text{where,} \\ \\ \\ x  \\in [0, \\pi/2] $$"
      ],
      "metadata": {
        "id": "eBqM7fmb_p8x"
      }
    },
    {
      "cell_type": "code",
      "source": [],
      "metadata": {
        "id": "Hmo0ShaA4c-B"
      },
      "execution_count": null,
      "outputs": []
    },
    {
      "cell_type": "code",
      "source": [],
      "metadata": {
        "id": "M-aqTdTj4dBM"
      },
      "execution_count": null,
      "outputs": []
    },
    {
      "cell_type": "code",
      "source": [],
      "metadata": {
        "id": "AQ4lw2sA4dEy"
      },
      "execution_count": null,
      "outputs": []
    },
    {
      "cell_type": "code",
      "source": [],
      "metadata": {
        "id": "85sQHgr34dJD"
      },
      "execution_count": null,
      "outputs": []
    },
    {
      "cell_type": "markdown",
      "source": [
        "# Root Finding Methods:\n",
        "\n",
        "\n",
        "1.   Bisection Method\n",
        "2.   Newton-Raphson Method \\\\\n",
        "\n",
        "(To understand the theory of these methods see the pdf named \"Root Finding Methods\" from my materials. You'll find all the materials from my github repository or in Google Classroom.)\n",
        "\n"
      ],
      "metadata": {
        "id": "JlnYSDkTW5bo"
      }
    },
    {
      "cell_type": "markdown",
      "source": [
        "## Bisection Method:\n",
        "Let's try to solve the equation $x^2-2=0$. Which means we have to find roots of the function $f(x)=x^2-2$\n",
        "Algorithm:\n",
        "\n",
        "1. **Initialization**:\n",
        "   - Choose $a$ and $b$ such that $f(a) \\cdot f(b) < 0$.\n",
        "   - Set tolerance ($tol$) close to zero.\n",
        "\n",
        "2. **Iteration**:\n",
        "   - While $|a-b| \\geq tol$ :\n",
        "     - Compute midpoint $c = \\frac{a + b}{2}$.\n",
        "     - If $f(a) \\cdot f(c) < 0$, set $b = c$; else, set $a = c$.\n",
        "\n",
        "3. **Termination**:\n",
        "   - Return the midpoint $c = \\frac{a + b}{2}$.\n",
        "\n",
        "\n",
        "***N.B.*** I used termination condition $|a-b|< tol$ in the iterative method but $|f(c)|< tol$ in the recursive method."
      ],
      "metadata": {
        "id": "Wxx0QdSUZWt_"
      }
    },
    {
      "cell_type": "markdown",
      "source": [
        "### Iterative method: with `while` loop"
      ],
      "metadata": {
        "id": "dXQLXvv4icPh"
      }
    },
    {
      "cell_type": "code",
      "source": [
        "import numpy as np\n",
        "def f(x): return x**2 - 2\n",
        "a, b, tol = 0, 2, 1e-5\n",
        "\n",
        "while np.abs(a-b) > tol:\n",
        "  c = (a+b)/2\n",
        "  if f(a)*f(c) < 0:\n",
        "    b = c\n",
        "  else:\n",
        "    a = c\n",
        "print('root = ', c)\n"
      ],
      "metadata": {
        "colab": {
          "base_uri": "https://localhost:8080/"
        },
        "id": "kbI8761ZiojQ",
        "outputId": "75c5a2bc-2f57-4ac9-edcc-8d7ffcc59d67"
      },
      "execution_count": null,
      "outputs": [
        {
          "output_type": "stream",
          "name": "stdout",
          "text": [
            "root =  1.4142074584960938\n"
          ]
        }
      ]
    },
    {
      "cell_type": "markdown",
      "source": [
        "###Recursive Method:\n",
        "***N.B.*** The termination condition I used here is $\\ \\ f(c) < tol \\ \\ $ instead of $\\ \\ |a-b| < tol \\ \\ $ as in the previous case."
      ],
      "metadata": {
        "id": "hlFmUaCp3okC"
      }
    },
    {
      "cell_type": "code",
      "source": [
        "def bisection(f, a, b, tol):\n",
        "  c = (a+b)/2\n",
        "  if np.abs(f(c)) < tol:\n",
        "    return c\n",
        "  elif f(a)*f(c) < 0:\n",
        "    return bisection(f, a, c, tol)\n",
        "  else:\n",
        "    return bisection(f, c, b, tol)\n",
        "def f(x): return x**2 - 2\n",
        "root = bisection(f, 0, 2, 1e-5)\n",
        "print('root= ', root)"
      ],
      "metadata": {
        "colab": {
          "base_uri": "https://localhost:8080/"
        },
        "id": "TvRP83llYmqP",
        "outputId": "3582922d-3edc-40c6-9e50-93e09e75e40b"
      },
      "execution_count": null,
      "outputs": [
        {
          "output_type": "stream",
          "name": "stdout",
          "text": [
            "root=  1.414215087890625\n"
          ]
        }
      ]
    },
    {
      "cell_type": "code",
      "source": [],
      "metadata": {
        "id": "xlG473XQ7Bvj"
      },
      "execution_count": null,
      "outputs": []
    },
    {
      "cell_type": "code",
      "source": [],
      "metadata": {
        "id": "CQa7e0-67Byi"
      },
      "execution_count": null,
      "outputs": []
    },
    {
      "cell_type": "markdown",
      "source": [
        "## Newton-Raphson Method:\n",
        "Algorithm:\n",
        "\n",
        "1. **Initialization**:\n",
        "   - Choose an initial guess $x_0$.\n",
        "   - Set tolerance ($tol$) close to zero.\n",
        "\n",
        "2. **Iteration**:\n",
        "   - while $f(x_i) > tol$:\n",
        "     - Compute $f(x_i)$ and $f'(x_i)$.\n",
        "     - Update $x_{i+1} = x_i - \\frac{f(x_i)}{f'(x_i)}$. \\\\\n",
        "     \n",
        "***N.B.*** **Here, we need `Sympy` to get the first derivative $f'(x).$ We will also need to use the function `sympy.lambdify(variable, expression)`  in order to get a `numpy` function from a `sympy` expression.**"
      ],
      "metadata": {
        "id": "QyJkWSCrcXtP"
      }
    },
    {
      "cell_type": "code",
      "source": [
        "import sympy as sp\n",
        "import numpy as np\n",
        "x = symbols('x')\n",
        "exp = x**2 - 2\n",
        "dexp = exp.diff(x)\n",
        "f = sp.lambdify(x, exp)\n",
        "df = sp.lambdify(x, dexp)\n",
        "\n",
        "x, tol = 4, 1e-5\n",
        "while f(x) > tol:\n",
        "  x -= f(x)/df(x)\n",
        "\n",
        "print('The root= ', x)"
      ],
      "metadata": {
        "colab": {
          "base_uri": "https://localhost:8080/"
        },
        "id": "V_Rupo9M30hd",
        "outputId": "5033e519-ec28-4d9c-c5a6-2ebb2a1dc336"
      },
      "execution_count": null,
      "outputs": [
        {
          "output_type": "stream",
          "name": "stdout",
          "text": [
            "The root=  1.4142135625249321\n"
          ]
        }
      ]
    },
    {
      "cell_type": "code",
      "source": [],
      "metadata": {
        "id": "4nWWpjvI7MPb"
      },
      "execution_count": null,
      "outputs": []
    },
    {
      "cell_type": "code",
      "source": [],
      "metadata": {
        "id": "EFrMWJHz7I4E"
      },
      "execution_count": null,
      "outputs": []
    },
    {
      "cell_type": "code",
      "source": [],
      "metadata": {
        "id": "3-TdZcLY7I7O"
      },
      "execution_count": null,
      "outputs": []
    },
    {
      "cell_type": "code",
      "source": [],
      "metadata": {
        "id": "PaxSBI9O7I-l"
      },
      "execution_count": null,
      "outputs": []
    },
    {
      "cell_type": "markdown",
      "source": [
        "#Maxima and Minima\n",
        "Let $f(x)$ be a function whose extremums need to be found.\n",
        "* Solve $f'(x)= \\frac{df}{dx}=0$ for $x$ and obtain the roots {$\\alpha$}.\n",
        "* If $f''(\\alpha) <0 $ , then $f(\\alpha)$ is a **maxima**.\n",
        "* If $f''(\\alpha) >0 $ , then $f(\\alpha)$ is a **minima**."
      ],
      "metadata": {
        "id": "wFbBJ0nefglY"
      }
    },
    {
      "cell_type": "markdown",
      "metadata": {
        "id": "66WZZLW5hAwU"
      },
      "source": [
        "\n",
        "##Find extrema of\n",
        "$$f(x)= x^3+3x^2-9x-5$$"
      ]
    },
    {
      "cell_type": "code",
      "source": [
        "import numpy as np\n",
        "from sympy import *\n",
        "x = symbols('x')"
      ],
      "metadata": {
        "id": "78klPCe878pz"
      },
      "execution_count": null,
      "outputs": []
    },
    {
      "cell_type": "code",
      "execution_count": null,
      "metadata": {
        "id": "P7iVdsdzzPY5",
        "colab": {
          "base_uri": "https://localhost:8080/"
        },
        "outputId": "aedc14b9-aa5a-4665-aa3b-82422c35e15a"
      },
      "outputs": [
        {
          "output_type": "stream",
          "name": "stdout",
          "text": [
            "f'(x)=  3*x**2 + 6*x - 9\n",
            "f''(x)=  6*(x + 1)\n",
            "Roots=  [-3, 1]\n",
            "extrema are= 22\n",
            "extrema are= -10\n"
          ]
        }
      ],
      "source": [
        "\n",
        "f = x**3 + 3*x**2 - 9*x -5\n",
        "df = diff(f)\n",
        "ddf = diff(f,x,2)\n",
        "roots = solve(df,x)\n",
        "\n",
        "print(\"f'(x)= \", df)\n",
        "print(\"f''(x)= \", ddf)\n",
        "print(\"Roots= \", roots)\n",
        "\n",
        "for i in roots:\n",
        "  print('extrema are=', f.subs(x,i))\n"
      ]
    },
    {
      "cell_type": "markdown",
      "source": [
        "##When roots are not real\n",
        "Let's try for\n",
        "$$f(x)= x^3+3x^2+9x-5$$"
      ],
      "metadata": {
        "id": "FYrs02GagoZ-"
      }
    },
    {
      "cell_type": "code",
      "source": [
        "import numpy as np\n",
        "f = x**3 + 3*x**2 + 9*x -5\n",
        "df = diff(f)\n",
        "ddf = diff(f,x,2)\n",
        "roots = solve(df,x)\n",
        "\n",
        "print(\"f'(x)= \", df)\n",
        "print(\"f''(x)= \", ddf)\n",
        "print(\"Roots= \", roots)\n",
        "\n",
        "for i in roots:\n",
        "  if np.imag(complex(i)) != 0:\n",
        "    print(\"No extremum for x= \", i)\n",
        "  elif ddf.subs(x, i)<0:\n",
        "    print(\"Maxima= \", f.subs(x,i), \"for x= \", i)\n",
        "  else:\n",
        "    print(\"Minima= \", f.subs(x,i), \"for x= \", i)"
      ],
      "metadata": {
        "colab": {
          "base_uri": "https://localhost:8080/"
        },
        "id": "Q2ufoco-g2ic",
        "outputId": "2b04215a-ba7b-418a-af6a-2a8b3744c6f3"
      },
      "execution_count": null,
      "outputs": [
        {
          "output_type": "stream",
          "name": "stdout",
          "text": [
            "f'(x)=  3*x**2 + 6*x + 9\n",
            "f''(x)=  6*(x + 1)\n",
            "Roots=  [-1 - sqrt(2)*I, -1 + sqrt(2)*I]\n",
            "No extremum for x=  -1 - sqrt(2)*I\n",
            "No extremum for x=  -1 + sqrt(2)*I\n"
          ]
        }
      ]
    },
    {
      "cell_type": "markdown",
      "source": [
        "## Find extrema for $f(x)= 4e^x+9e^{-x}$"
      ],
      "metadata": {
        "id": "-pLz2FVbiG1U"
      }
    },
    {
      "cell_type": "markdown",
      "source": [
        "## Show that the function $f(x)= x^3-6x^2+24x+4 \\ \\ $ has no extremum."
      ],
      "metadata": {
        "id": "EJmtlCy2BvjJ"
      }
    },
    {
      "cell_type": "markdown",
      "source": [
        "## Finding Extrema in interval\n",
        "$$f(x)= 1+2\\sin{(x)}+3\\cos^2{(x)}\\ \\ \\ \\ \\text{where,} \\ \\ \\ x  \\in [0, 2\\pi] $$"
      ],
      "metadata": {
        "id": "W9zkJ7uCyD9X"
      }
    },
    {
      "cell_type": "code",
      "source": [
        "f = 1 + 2*sin(x) + 3*cos(x)**2\n",
        "I = Interval(0, 2*pi)\n",
        "df = diff(f)\n",
        "ddf = diff(f,x,2)\n",
        "roots = solveset(df,x,I)\n",
        "print(roots)\n",
        "\n",
        "for i in roots:\n",
        "  if np.imag(complex(i)) != 0:\n",
        "    print(\"No extremum for x= \", i)\n",
        "  elif ddf.subs(x, i)<0:\n",
        "    print(\"Maxima= \", f.subs(x,i), \"for x= \", i)\n",
        "  else:\n",
        "    print(\"Minima= \", f.subs(x,i), \"for x= \", i)"
      ],
      "metadata": {
        "colab": {
          "base_uri": "https://localhost:8080/"
        },
        "id": "34nOmxUO9FQF",
        "outputId": "299d8aeb-b26e-443d-d10d-cf6036c49385"
      },
      "execution_count": null,
      "outputs": [
        {
          "output_type": "stream",
          "name": "stdout",
          "text": [
            "{pi/2, 3*pi/2, pi - atan(sqrt(2)/4), atan(sqrt(2)/4)}\n",
            "Minima=  3 for x=  pi/2\n",
            "Minima=  -1 for x=  3*pi/2\n",
            "Maxima=  13/3 for x=  atan(sqrt(2)/4)\n",
            "Maxima=  13/3 for x=  pi - atan(sqrt(2)/4)\n"
          ]
        }
      ]
    }
  ],
  "metadata": {
    "colab": {
      "provenance": [],
      "toc_visible": true,
      "include_colab_link": true
    },
    "kernelspec": {
      "display_name": "Python 3",
      "name": "python3"
    },
    "language_info": {
      "name": "python"
    }
  },
  "nbformat": 4,
  "nbformat_minor": 0
}