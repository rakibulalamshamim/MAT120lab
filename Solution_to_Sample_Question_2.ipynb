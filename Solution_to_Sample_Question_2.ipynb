{
  "nbformat": 4,
  "nbformat_minor": 0,
  "metadata": {
    "colab": {
      "provenance": [],
      "authorship_tag": "ABX9TyOp99muD9KrTFCdGXpAl3ZD",
      "include_colab_link": true
    },
    "kernelspec": {
      "name": "python3",
      "display_name": "Python 3"
    },
    "language_info": {
      "name": "python"
    }
  },
  "cells": [
    {
      "cell_type": "markdown",
      "metadata": {
        "id": "view-in-github",
        "colab_type": "text"
      },
      "source": [
        "<a href=\"https://colab.research.google.com/github/rakibulalamshamim/MAT120lab/blob/main/Solution_to_Sample_Question_2.ipynb\" target=\"_parent\"><img src=\"https://colab.research.google.com/assets/colab-badge.svg\" alt=\"Open In Colab\"/></a>"
      ]
    },
    {
      "cell_type": "code",
      "execution_count": null,
      "metadata": {
        "id": "HtOsTpWesJ9y"
      },
      "outputs": [],
      "source": [
        "import numpy as np\n",
        "from sympy import *\n",
        "\n",
        "p, q = 2, 3                  #for example"
      ]
    },
    {
      "cell_type": "code",
      "source": [
        "#1a.\n",
        "x = symbols('x')\n",
        "y = (sin(x)**p + tan(q*x))/(1+p*x+q*x**2)\n",
        "\n",
        "dy = diff(y,x)\n",
        "ddy= diff(y,x,2)\n",
        "\n",
        "display(dy.subs(x, pi/2), dy.subs(x, 2*pi), ddy.subs(x, pi/2), ddy.subs(x, 2*pi))"
      ],
      "metadata": {
        "colab": {
          "base_uri": "https://localhost:8080/",
          "height": 143
        },
        "id": "Lrdnq75Zskkj",
        "outputId": "63858627-a83c-4b14-c3ef-ab994c9f45dc"
      },
      "execution_count": null,
      "outputs": [
        {
          "output_type": "display_data",
          "data": {
            "text/plain": [
              "nan"
            ],
            "text/latex": "$\\displaystyle \\text{NaN}$"
          },
          "metadata": {}
        },
        {
          "output_type": "display_data",
          "data": {
            "text/plain": [
              "3/(1 + 4*pi + 12*pi**2)"
            ],
            "text/latex": "$\\displaystyle \\frac{3}{1 + 4 \\pi + 12 \\pi^{2}}$"
          },
          "metadata": {}
        },
        {
          "output_type": "display_data",
          "data": {
            "text/plain": [
              "nan"
            ],
            "text/latex": "$\\displaystyle \\text{NaN}$"
          },
          "metadata": {}
        },
        {
          "output_type": "display_data",
          "data": {
            "text/plain": [
              "2*(-6*(1 + 6*pi)/(1 + 4*pi + 12*pi**2) + 1)/(1 + 4*pi + 12*pi**2)"
            ],
            "text/latex": "$\\displaystyle \\frac{2 \\left(- \\frac{6 \\cdot \\left(1 + 6 \\pi\\right)}{1 + 4 \\pi + 12 \\pi^{2}} + 1\\right)}{1 + 4 \\pi + 12 \\pi^{2}}$"
          },
          "metadata": {}
        }
      ]
    },
    {
      "cell_type": "code",
      "source": [
        "#1b\n",
        "x, y, z = symbols('x y z')\n",
        "phi = 3*x**2*z*asin(p*y)\n",
        "\n",
        "phixx= diff(phi, x, x)\n",
        "phiyy= diff(phi, y, y)\n",
        "phizz= diff(phi, z, z)\n",
        "display(phixx, phiyy, phizz)\n",
        "Laplacian = phixx+phiyy+phizz\n",
        "\n",
        "display(\"Laplacian=\", Laplacian)"
      ],
      "metadata": {
        "colab": {
          "base_uri": "https://localhost:8080/",
          "height": 170
        },
        "id": "h9b_7A_vtos0",
        "outputId": "e508c2cc-b438-47c5-8ce2-2a6ea0b4acf7"
      },
      "execution_count": null,
      "outputs": [
        {
          "output_type": "display_data",
          "data": {
            "text/plain": [
              "6*z*asin(2*y)"
            ],
            "text/latex": "$\\displaystyle 6 z \\operatorname{asin}{\\left(2 y \\right)}$"
          },
          "metadata": {}
        },
        {
          "output_type": "display_data",
          "data": {
            "text/plain": [
              "24*x**2*y*z/(1 - 4*y**2)**(3/2)"
            ],
            "text/latex": "$\\displaystyle \\frac{24 x^{2} y z}{\\left(1 - 4 y^{2}\\right)^{\\frac{3}{2}}}$"
          },
          "metadata": {}
        },
        {
          "output_type": "display_data",
          "data": {
            "text/plain": [
              "0"
            ],
            "text/latex": "$\\displaystyle 0$"
          },
          "metadata": {}
        },
        {
          "output_type": "display_data",
          "data": {
            "text/plain": [
              "'Laplacian='"
            ],
            "application/vnd.google.colaboratory.intrinsic+json": {
              "type": "string"
            }
          },
          "metadata": {}
        },
        {
          "output_type": "display_data",
          "data": {
            "text/plain": [
              "24*x**2*y*z/(1 - 4*y**2)**(3/2) + 6*z*asin(2*y)"
            ],
            "text/latex": "$\\displaystyle \\frac{24 x^{2} y z}{\\left(1 - 4 y^{2}\\right)^{\\frac{3}{2}}} + 6 z \\operatorname{asin}{\\left(2 y \\right)}$"
          },
          "metadata": {}
        }
      ]
    },
    {
      "cell_type": "code",
      "source": [
        "#2a\n",
        "x=symbols('x')\n",
        "y = sin(p*x)\n",
        "\n",
        "f= diff(y, x, 2) + 3*diff(y)-q*y\n",
        "df = diff(f)\n",
        "\n",
        "roots= solveset(df,x, Interval(-3*pi/2, 5*pi/2))\n",
        "\n",
        "print('Number of extrema = ', len(roots))"
      ],
      "metadata": {
        "colab": {
          "base_uri": "https://localhost:8080/"
        },
        "id": "ipUCRW4ouvTT",
        "outputId": "15cd0be7-2b93-4c72-f10b-9e117863cb95"
      },
      "execution_count": null,
      "outputs": [
        {
          "output_type": "stream",
          "name": "stdout",
          "text": [
            "Number of extrema =  8\n"
          ]
        }
      ]
    },
    {
      "cell_type": "code",
      "source": [
        "#2b\n",
        "x = symbols('x')\n",
        "y = 4*x**p- x**3\n",
        "f = diff(y, x, 2) - 3*diff(y) + 2*y\n",
        "df = diff(f)\n",
        "ddf = diff(f,x,2)\n",
        "roots = solve(df,x)\n",
        "\n",
        "for i in roots:\n",
        "  if np.imag(complex(i)) != 0:\n",
        "    print(\"No extremum for x= \", i)\n",
        "  elif ddf.subs(x, i)>0:\n",
        "    display(\"Minima= \", f.subs(x,i), \"for x= \", i)"
      ],
      "metadata": {
        "colab": {
          "base_uri": "https://localhost:8080/",
          "height": 147
        },
        "id": "9i2OLB8PvuoN",
        "outputId": "fb25bb3b-4b57-4239-c477-0b9fd9660a9d"
      },
      "execution_count": null,
      "outputs": [
        {
          "output_type": "display_data",
          "data": {
            "text/plain": [
              "'Minima= '"
            ],
            "application/vnd.google.colaboratory.intrinsic+json": {
              "type": "string"
            }
          },
          "metadata": {}
        },
        {
          "output_type": "display_data",
          "data": {
            "text/plain": [
              "-77 - 2*(17/6 - sqrt(109)/6)**3 + 17*(17/6 - sqrt(109)/6)**2 + 5*sqrt(109)"
            ],
            "text/latex": "$\\displaystyle -77 - 2 \\left(\\frac{17}{6} - \\frac{\\sqrt{109}}{6}\\right)^{3} + 17 \\left(\\frac{17}{6} - \\frac{\\sqrt{109}}{6}\\right)^{2} + 5 \\sqrt{109}$"
          },
          "metadata": {}
        },
        {
          "output_type": "display_data",
          "data": {
            "text/plain": [
              "'for x= '"
            ],
            "application/vnd.google.colaboratory.intrinsic+json": {
              "type": "string"
            }
          },
          "metadata": {}
        },
        {
          "output_type": "display_data",
          "data": {
            "text/plain": [
              "17/6 - sqrt(109)/6"
            ],
            "text/latex": "$\\displaystyle \\frac{17}{6} - \\frac{\\sqrt{109}}{6}$"
          },
          "metadata": {}
        }
      ]
    },
    {
      "cell_type": "code",
      "source": [
        "#3a\n",
        "x = symbols('x')\n",
        "display(integrate(cos(ln(x))/x, (x, 1, 3)))"
      ],
      "metadata": {
        "colab": {
          "base_uri": "https://localhost:8080/",
          "height": 37
        },
        "id": "L441sRsXxmYN",
        "outputId": "a7788d35-ede6-4b90-9396-272fbc2d2079"
      },
      "execution_count": null,
      "outputs": [
        {
          "output_type": "display_data",
          "data": {
            "text/plain": [
              "sin(log(3))"
            ],
            "text/latex": "$\\displaystyle \\sin{\\left(\\log{\\left(3 \\right)} \\right)}$"
          },
          "metadata": {}
        }
      ]
    },
    {
      "cell_type": "markdown",
      "source": [
        "3b.\n",
        "Here, $\\ \\ \\ y(x)=\\sin(x)\\cos(x)/x$. $ \\ \\ $ So, we must predefine  $\\ \\ \\ \\ y_0=y(a)=1$ for $a=0$. Since we know $$\\lim_{x \\to 0}\\frac{\\sin(x)}{x}=1$$"
      ],
      "metadata": {
        "id": "1XaDVfTizhW-"
      }
    },
    {
      "cell_type": "code",
      "source": [
        "import numpy as np\n",
        "a = 0\n",
        "b = 100\n",
        "h = 0.01\n",
        "t = 10**(-3)\n",
        "dummy_var = 10\n",
        "\n",
        "def y(x): return np.sin(x)*np.cos(x)/x\n",
        "\n",
        "while True:\n",
        "  x = np.arange(a, b+h, h)\n",
        "  I = 1 + y(b)                                  # Predefining y(a)=1\n",
        "\n",
        "  for i in range(1, len(x)-1):\n",
        "    I = I + 2*y(x[i])\n",
        "  Trapzoid = I*h/2\n",
        "\n",
        "  if np.fabs(Trapzoid - dummy_var)<t:\n",
        "    break\n",
        "  else:\n",
        "    dummy_var = Trapzoid\n",
        "    b+=1\n",
        "\n",
        "Trapzoid"
      ],
      "metadata": {
        "colab": {
          "base_uri": "https://localhost:8080/"
        },
        "id": "2Dwnj-_Ex-7t",
        "outputId": "191ab82c-33d2-4840-a9cc-a674f123b4d6"
      },
      "execution_count": null,
      "outputs": [
        {
          "output_type": "execute_result",
          "data": {
            "text/plain": [
              "0.7839246772481516"
            ]
          },
          "metadata": {},
          "execution_count": 8
        }
      ]
    },
    {
      "cell_type": "code",
      "source": [
        "#4a\n",
        "\n",
        "L, R, t = symbols('L R t')\n",
        "I = symbols('I', cls= Function)\n",
        "V = 5*exp(-q*t) + 10*sin(p*t)\n",
        "LHS = L*diff(I(t),t) + R*I(t)\n",
        "eqn = Eq(LHS, V)\n",
        "soln= dsolve(eqn, ics= {I(0):0})\n",
        "soln"
      ],
      "metadata": {
        "colab": {
          "base_uri": "https://localhost:8080/",
          "height": 59
        },
        "id": "ui-FZqqJ0Sny",
        "outputId": "71584a77-850c-41c2-87af-57150b47120c"
      },
      "execution_count": null,
      "outputs": [
        {
          "output_type": "execute_result",
          "data": {
            "text/plain": [
              "Eq(I(t), -20*L*cos(2*t)/(4*L**2 + R**2) + 10*R*sin(2*t)/(4*L**2 + R**2) + (80*L**2 - 20*L*R + 5*R**2)*exp(-R*t/L)/(12*L**3 - 4*L**2*R + 3*L*R**2 - R**3) - 5*exp(-3*t)/(3*L - R))"
            ],
            "text/latex": "$\\displaystyle I{\\left(t \\right)} = - \\frac{20 L \\cos{\\left(2 t \\right)}}{4 L^{2} + R^{2}} + \\frac{10 R \\sin{\\left(2 t \\right)}}{4 L^{2} + R^{2}} + \\frac{\\left(80 L^{2} - 20 L R + 5 R^{2}\\right) e^{- \\frac{R t}{L}}}{12 L^{3} - 4 L^{2} R + 3 L R^{2} - R^{3}} - \\frac{5 e^{- 3 t}}{3 L - R}$"
          },
          "metadata": {},
          "execution_count": 9
        }
      ]
    },
    {
      "cell_type": "code",
      "source": [
        "#4b\n",
        "rl = soln.subs(L, p).subs(R, 10+q)\n",
        "plot(rl.rhs, (t, 0, 10))"
      ],
      "metadata": {
        "colab": {
          "base_uri": "https://localhost:8080/",
          "height": 503
        },
        "id": "1T8oMCad1XrE",
        "outputId": "dd3e8713-92da-4116-a117-e38c7073d5d1"
      },
      "execution_count": null,
      "outputs": [
        {
          "output_type": "display_data",
          "data": {
            "text/plain": [
              "<Figure size 640x480 with 1 Axes>"
            ],
            "image/png": "[encoded data removed]"
          },
          "metadata": {}
        },
        {
          "output_type": "execute_result",
          "data": {
            "text/plain": [
              "<sympy.plotting.plot.Plot at 0x7c6268a58430>"
            ]
          },
          "metadata": {},
          "execution_count": 10
        }
      ]
    },
    {
      "cell_type": "code",
      "source": [
        "#5a\n",
        "\n",
        "L, R, C, t = symbols('L R C t')\n",
        "Q = symbols('Q', cls= Function)\n",
        "V = 10\n",
        "LHS = L*diff(Q(t),t, 2) + R*diff(Q(t),t) + Q(t)/C\n",
        "eqn = Eq(LHS, V)\n",
        "soln= dsolve(eqn, ics= {Q(0):0, diff(Q(t),t).subs(t, 0):10})\n",
        "soln"
      ],
      "metadata": {
        "colab": {
          "base_uri": "https://localhost:8080/",
          "height": 152
        },
        "id": "FM3eM2Dr4aYg",
        "outputId": "75c39fdd-f106-42b5-9b7c-180e69060444"
      },
      "execution_count": null,
      "outputs": [
        {
          "output_type": "execute_result",
          "data": {
            "text/plain": [
              "Eq(Q(t), 10*C + (-5*C**2*R/sqrt(C**2*R**2 - 4*C*L) + 10*C*L/sqrt(C**2*R**2 - 4*C*L) - 5*C)*exp(t*(-R + sqrt(C*(C*R**2 - 4*L))/C)/(2*L)) + (5*C**2*R/sqrt(C**2*R**2 - 4*C*L) - 10*C*L/sqrt(C**2*R**2 - 4*C*L) - 5*C)*exp(-t*(R + sqrt(C*(C*R**2 - 4*L))/C)/(2*L)))"
            ],
            "text/latex": "$\\displaystyle Q{\\left(t \\right)} = 10 C + \\left(- \\frac{5 C^{2} R}{\\sqrt{C^{2} R^{2} - 4 C L}} + \\frac{10 C L}{\\sqrt{C^{2} R^{2} - 4 C L}} - 5 C\\right) e^{\\frac{t \\left(- R + \\frac{\\sqrt{C \\left(C R^{2} - 4 L\\right)}}{C}\\right)}{2 L}} + \\left(\\frac{5 C^{2} R}{\\sqrt{C^{2} R^{2} - 4 C L}} - \\frac{10 C L}{\\sqrt{C^{2} R^{2} - 4 C L}} - 5 C\\right) e^{- \\frac{t \\left(R + \\frac{\\sqrt{C \\left(C R^{2} - 4 L\\right)}}{C}\\right)}{2 L}}$"
          },
          "metadata": {},
          "execution_count": 11
        }
      ]
    },
    {
      "cell_type": "code",
      "source": [
        "#5b\n",
        "I = diff(soln.rhs, t)\n",
        "plot(I.subs(L, p).subs(R, 10+q).subs(C, 0.1*p), (t, 0, 50))"
      ],
      "metadata": {
        "colab": {
          "base_uri": "https://localhost:8080/",
          "height": 501
        },
        "id": "tEAapL405T4F",
        "outputId": "8671ce87-a193-46c7-e2b6-166f1fb6d8e7"
      },
      "execution_count": null,
      "outputs": [
        {
          "output_type": "display_data",
          "data": {
            "text/plain": [
              "<Figure size 640x480 with 1 Axes>"
            ],
            "image/png": "[encoded data removed]"
          },
          "metadata": {}
        },
        {
          "output_type": "execute_result",
          "data": {
            "text/plain": [
              "<sympy.plotting.plot.Plot at 0x7c6268adb8b0>"
            ]
          },
          "metadata": {},
          "execution_count": 12
        }
      ]
    },
    {
      "cell_type": "code",
      "source": [
        "#6a\n",
        "\n",
        "m, r, t = symbols('m r t')\n",
        "y = symbols('y', cls= Function)\n",
        "LHS = m*diff(y(t),t,2) + r*diff(y(t),t) - 9.8*m\n",
        "eqn = Eq(LHS, 0)\n",
        "soln= dsolve(eqn, ics= {y(0):0, diff(y(t),t).subs(t, 0):0})\n",
        "soln"
      ],
      "metadata": {
        "colab": {
          "base_uri": "https://localhost:8080/",
          "height": 69
        },
        "id": "efdUSvpf5509",
        "outputId": "e15e48b2-1a62-4c73-af66-54cadee40633"
      },
      "execution_count": null,
      "outputs": [
        {
          "output_type": "execute_result",
          "data": {
            "text/plain": [
              "Eq(y(t), 9.8*m**2*exp(-r*t/m)**1.0/r**2 - 9.8*m**2/r**2 + 9.8*m*t/r)"
            ],
            "text/latex": "$\\displaystyle y{\\left(t \\right)} = \\frac{9.8 m^{2} \\left(e^{- \\frac{r t}{m}}\\right)^{1.0}}{r^{2}} - \\frac{9.8 m^{2}}{r^{2}} + \\frac{9.8 m t}{r}$"
          },
          "metadata": {},
          "execution_count": 13
        }
      ]
    },
    {
      "cell_type": "code",
      "source": [
        "#6b\n",
        "\n",
        "v = diff(soln.rhs, t).subs(m, 1).subs(r, 0.5*p)\n",
        "plot(v, (t, 0, 20))"
      ],
      "metadata": {
        "colab": {
          "base_uri": "https://localhost:8080/",
          "height": 501
        },
        "id": "Sdh1ZuPn6rYf",
        "outputId": "4056745b-d8a6-4f2b-93f2-4f498ea2e4d3"
      },
      "execution_count": null,
      "outputs": [
        {
          "output_type": "display_data",
          "data": {
            "text/plain": [
              "<Figure size 640x480 with 1 Axes>"
            ],
            "image/png": "[encoded data removed]"
          },
          "metadata": {}
        },
        {
          "output_type": "execute_result",
          "data": {
            "text/plain": [
              "<sympy.plotting.plot.Plot at 0x7c626867d000>"
            ]
          },
          "metadata": {},
          "execution_count": 14
        }
      ]
    },
    {
      "cell_type": "markdown",
      "source": [
        "6c. The velocity reaches to a steady constant value called terminal velocity as time becomes very large."
      ],
      "metadata": {
        "id": "4OY-jL5s7JC8"
      }
    }
  ]
}