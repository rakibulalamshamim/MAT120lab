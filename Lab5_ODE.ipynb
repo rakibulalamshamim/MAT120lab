{
  "nbformat": 4,
  "nbformat_minor": 0,
  "metadata": {
    "colab": {
      "provenance": [],
      "authorship_tag": "ABX9TyNOtEb4yfu+rekZTsjNK58E",
      "include_colab_link": true
    },
    "kernelspec": {
      "name": "python3",
      "display_name": "Python 3"
    },
    "language_info": {
      "name": "python"
    }
  },
  "cells": [
    {
      "cell_type": "markdown",
      "metadata": {
        "id": "view-in-github",
        "colab_type": "text"
      },
      "source": [
        "<a href=\"https://colab.research.google.com/github/rakibulalamshamim/MAT120lab/blob/main/Lab5_ODE.ipynb\" target=\"_parent\"><img src=\"https://colab.research.google.com/assets/colab-badge.svg\" alt=\"Open In Colab\"/></a>"
      ]
    },
    {
      "cell_type": "markdown",
      "source": [
        "# Ordinary Differential Equation (ODE)\n",
        "We'll look into\n",
        "\n",
        "1. First order ODE:\n",
        "> 1. $\\frac{dx}{dt}=v(t) \\ \\ $ is an example first order ODE. If $v$ is constant of time, the solution of this ODE is $x = vt + C \\ \\ $. Where $C$ is some arbitrary constant fixed by **initial condition**. \\\\\n",
        "> 2. Another example is the radioactive decay equation:\n",
        "$\\frac{dN}{dt}= -\\lambda N$. Whose solution is given by $N= N_0e^{-\\lambda t}$. \\\\\n",
        "\n",
        "2. Second order ODE:\n",
        "> 1. Newaton's equation of motion: $F=ma \\ \\ $ or,  $\\ \\ \\frac{d^2x}{dt^2}=F/m$.\n",
        "> 2. Simple Harmonic Oscillator (Hooke's law: $F=-kx) \\ \\ $, the ODE is $\\ \\ \\frac{d^2x}{dt^2}=-\\frac{k}{m}x$. The $sol^n$ is $x= A \\sin(\\omega t) \\ \\ $ or,  $x= B \\cos(\\omega t) \\ \\ $ with $\\ \\ \\omega = \\sqrt{k/m}$.\n",
        "> 3. 1D Schrödinger equation: $$-\\frac{\\hbar^2}{2m}\\frac{d^2\\psi}{dx^2}+ V(x)\\psi= E\\psi$$\n",
        "The solution depends on the potential $V(x)$.\n",
        "\n",
        "\n"
      ],
      "metadata": {
        "id": "sNP2jCKpT25Q"
      }
    },
    {
      "cell_type": "markdown",
      "source": [
        "## Initial conditions:\n",
        "For First order ODE, we need only one initial condition. But for second order, we need two."
      ],
      "metadata": {
        "id": "-8_2sj5gHK2P"
      }
    },
    {
      "cell_type": "code",
      "execution_count": null,
      "metadata": {
        "id": "p9-GD3EpTgzG"
      },
      "outputs": [],
      "source": [
        "from sympy import *"
      ]
    },
    {
      "cell_type": "markdown",
      "source": [
        "#First order ODE"
      ],
      "metadata": {
        "id": "ZlAKPfTLu1P4"
      }
    },
    {
      "cell_type": "markdown",
      "source": [
        "##Let's try\n",
        " $\\ \\ \\frac{dN}{dt}= -\\lambda N$. \\\\\n",
        "\n",
        "You need to first define $N$ as a function of $t$ using `Function('N')(t)` or, `symbols('N', cls=Function)`. Then, convert Sympy expression to Sympy equation using the `Eq(LHS, RHS)` function."
      ],
      "metadata": {
        "id": "vcpfrLwMguei"
      }
    },
    {
      "cell_type": "code",
      "source": [
        "l, t = symbols('lambda t')\n",
        "N = symbols('N', cls=Function)\n",
        "dNdt = diff(N(t),t)\n",
        "ode1 = Eq(dNdt, -l*N(t))\n",
        "dsolve(ode1)"
      ],
      "metadata": {
        "colab": {
          "base_uri": "https://localhost:8080/",
          "height": 39
        },
        "id": "onxm99Wwg2N7",
        "outputId": "36ce63ff-ace4-4a94-b808-4709a4ea67b4"
      },
      "execution_count": null,
      "outputs": [
        {
          "output_type": "execute_result",
          "data": {
            "text/plain": [
              "Eq(N(t), C1*exp(-lambda*t))"
            ],
            "text/latex": "$\\displaystyle N{\\left(t \\right)} = C_{1} e^{- \\lambda t}$"
          },
          "metadata": {},
          "execution_count": 39
        }
      ]
    },
    {
      "cell_type": "markdown",
      "source": [
        "##Initial condition:\n",
        "$N(0)= N_0 \\ \\ $, we have $C_1=N_0$. Hence, $\\ \\ N= N_0e^{-\\lambda t}$. \\\\\n",
        "\n",
        "Now, let $N(0)= N_0= 5000$"
      ],
      "metadata": {
        "id": "aclU3dgdifXK"
      }
    },
    {
      "cell_type": "code",
      "source": [
        "initial_condition= {N(t).subs(t,0): 5000}\n",
        "decay= dsolve(ode1, ics= initial_condition)\n",
        "decay"
      ],
      "metadata": {
        "colab": {
          "base_uri": "https://localhost:8080/",
          "height": 39
        },
        "id": "anaiNXjLsjMp",
        "outputId": "b40e136a-0313-4a96-949a-845f704a8f4f"
      },
      "execution_count": null,
      "outputs": [
        {
          "output_type": "execute_result",
          "data": {
            "text/plain": [
              "Eq(N(t), 5000*exp(-lambda*t))"
            ],
            "text/latex": "$\\displaystyle N{\\left(t \\right)} = 5000 e^{- \\lambda t}$"
          },
          "metadata": {},
          "execution_count": 41
        }
      ]
    },
    {
      "cell_type": "markdown",
      "source": [
        "###To plot, let $\\lambda=0.1$"
      ],
      "metadata": {
        "id": "ObRHFND1rFnH"
      }
    },
    {
      "cell_type": "code",
      "source": [
        "decay = decay.subs({l:0.1})\n",
        "plot(decay.rhs, (t,0,80), ylabel = 'N(t)')"
      ],
      "metadata": {
        "colab": {
          "base_uri": "https://localhost:8080/",
          "height": 501
        },
        "id": "5_7b5jbKrRmk",
        "outputId": "93550cd6-ba23-46bf-aded-880a10e50a9a"
      },
      "execution_count": null,
      "outputs": [
        {
          "output_type": "display_data",
          "data": {
            "text/plain": [
              "<Figure size 640x480 with 1 Axes>"
            ],
            "image/png": "[encoded data removed]"
          },
          "metadata": {}
        },
        {
          "output_type": "execute_result",
          "data": {
            "text/plain": [
              "<sympy.plotting.plot.Plot at 0x799fac539d20>"
            ]
          },
          "metadata": {},
          "execution_count": 47
        }
      ]
    },
    {
      "cell_type": "markdown",
      "source": [
        "## $\\frac{dy}{dx}=y(1-x^2)$"
      ],
      "metadata": {
        "id": "9QUXUxjlpBkZ"
      }
    },
    {
      "cell_type": "code",
      "source": [
        "x = symbols('x')\n",
        "y = symbols('y', cls=Function)\n",
        "dy = diff(y(x),x)\n",
        "eqn = Eq(dy, y(x)*(1-x**2))\n",
        "dsolve(eqn)"
      ],
      "metadata": {
        "colab": {
          "base_uri": "https://localhost:8080/",
          "height": 46
        },
        "id": "Gy0Ya-ojqNOE",
        "outputId": "f950ac87-5d24-4006-9a88-5a74be138b5e"
      },
      "execution_count": null,
      "outputs": [
        {
          "output_type": "execute_result",
          "data": {
            "text/plain": [
              "Eq(y(x), C1*exp(x*(1 - x**2/3)))"
            ],
            "text/latex": "$\\displaystyle y{\\left(x \\right)} = C_{1} e^{x \\left(1 - \\frac{x^{2}}{3}\\right)}$"
          },
          "metadata": {},
          "execution_count": 4
        }
      ]
    },
    {
      "cell_type": "markdown",
      "source": [
        "## A falling ball with mass $m$ under quadratic drag, *i.e.*  force due to air resistance $F_D= q v^2$. Equation of motion: $F= mg - F_D$. Or,\n",
        "$$m\\frac{dv}{dt}=mg-qv^2$$"
      ],
      "metadata": {
        "id": "-fgbcRTiknJD"
      }
    },
    {
      "cell_type": "code",
      "source": [
        "m, g, q = symbols('m g q')\n",
        "v = symbols('v', cls=Function)\n",
        "LHS = m*diff(v(t), t)\n",
        "RHS = m*g-q*v(t)**2\n",
        "eqn = Eq(LHS, RHS)\n",
        "quad_drag= dsolve(eqn)\n",
        "quad_drag"
      ],
      "metadata": {
        "colab": {
          "base_uri": "https://localhost:8080/",
          "height": 82
        },
        "id": "O1pylpharWBR",
        "outputId": "65f3318d-165c-4233-c78e-a76eed44496f"
      },
      "execution_count": null,
      "outputs": [
        {
          "output_type": "execute_result",
          "data": {
            "text/plain": [
              "Eq(v(t), -sqrt(g)*sqrt(m)/(sqrt(q)*tanh(sqrt(g)*sqrt(q)*log(exp(C1*m - 2*t))/(2*sqrt(m)))))"
            ],
            "text/latex": "$\\displaystyle v{\\left(t \\right)} = - \\frac{\\sqrt{g} \\sqrt{m}}{\\sqrt{q} \\tanh{\\left(\\frac{\\sqrt{g} \\sqrt{q} \\log{\\left(e^{C_{1} m - 2 t} \\right)}}{2 \\sqrt{m}} \\right)}}$"
          },
          "metadata": {},
          "execution_count": 50
        }
      ]
    },
    {
      "cell_type": "markdown",
      "source": [
        "##Classwork: Linear drag problem\n",
        "Solve the previous problem with Stoke's formula for air resistance, $F_D= qv$ with initial condition: $v(0)=0$. Also take $m=10$, $q=0.5$, $g=-9.8$. Then plot $v(t)$ vs. $t$."
      ],
      "metadata": {
        "id": "du2_-YU-uMYM"
      }
    },
    {
      "cell_type": "markdown",
      "source": [
        "#Second order ODE:"
      ],
      "metadata": {
        "id": "AJss_GSMu-dx"
      }
    },
    {
      "cell_type": "markdown",
      "source": [
        "##Simple Harmonic Oscillator: $\\ \\ \\frac{d^2x}{dt^2}+\\omega^2x=0 \\ \\ $ with $\\ \\ \\omega=\\sqrt{k/m}$\n"
      ],
      "metadata": {
        "id": "A2u3CywSvzbh"
      }
    },
    {
      "cell_type": "code",
      "source": [
        "o, t = symbols('omega t')\n",
        "x    = symbols('x', cls=Function)\n",
        "ddx  = diff(x(t),t,2)\n",
        "ode2 = Eq(ddx+o**2*x(t),0)\n",
        "dsolve(ode2)"
      ],
      "metadata": {
        "colab": {
          "base_uri": "https://localhost:8080/",
          "height": 39
        },
        "id": "rkMHoWjkE2LY",
        "outputId": "efd3a569-e3a6-4ce7-8e62-87817dc587d9"
      },
      "execution_count": null,
      "outputs": [
        {
          "output_type": "execute_result",
          "data": {
            "text/plain": [
              "Eq(x(t), C1*exp(-I*omega*t) + C2*exp(I*omega*t))"
            ],
            "text/latex": "$\\displaystyle x{\\left(t \\right)} = C_{1} e^{- i \\omega t} + C_{2} e^{i \\omega t}$"
          },
          "metadata": {},
          "execution_count": 71
        }
      ]
    },
    {
      "cell_type": "markdown",
      "source": [
        "###Let $\\omega=2$"
      ],
      "metadata": {
        "id": "Fwvf1Ks1JAAp"
      }
    },
    {
      "cell_type": "code",
      "source": [
        "o=2\n",
        "ode2 = Eq(ddx+o**2*x(t),0)\n",
        "dsolve(ode2)"
      ],
      "metadata": {
        "colab": {
          "base_uri": "https://localhost:8080/",
          "height": 39
        },
        "id": "s9RBzG5RI2GH",
        "outputId": "98592d0d-bcf8-464f-eddd-3554705fdd40"
      },
      "execution_count": null,
      "outputs": [
        {
          "output_type": "execute_result",
          "data": {
            "text/plain": [
              "Eq(x(t), C1*sin(2*t) + C2*cos(2*t))"
            ],
            "text/latex": "$\\displaystyle x{\\left(t \\right)} = C_{1} \\sin{\\left(2 t \\right)} + C_{2} \\cos{\\left(2 t \\right)}$"
          },
          "metadata": {},
          "execution_count": 73
        }
      ]
    },
    {
      "cell_type": "markdown",
      "source": [
        "###Let $\\omega=2$ and the initial conditions: $x(0)=0 \\ \\ $ and $\\ \\ \\dot{x}(o)=10$."
      ],
      "metadata": {
        "id": "2nx0Cia4GWEm"
      }
    },
    {
      "cell_type": "code",
      "source": [
        "o    = 2\n",
        "IC   = {x(t).subs(t,0): 0, diff(x(t),t).subs(t,0):10}\n",
        "d2   = dsolve(ode2, ics=IC)\n",
        "d2.subs({o:2})"
      ],
      "metadata": {
        "colab": {
          "base_uri": "https://localhost:8080/",
          "height": 39
        },
        "id": "dZQiE43GH15G",
        "outputId": "b6af97dc-61f4-45bf-d48e-ef0c29de2ada"
      },
      "execution_count": null,
      "outputs": [
        {
          "output_type": "execute_result",
          "data": {
            "text/plain": [
              "Eq(x(t), 5*sin(2*t))"
            ],
            "text/latex": "$\\displaystyle x{\\left(t \\right)} = 5 \\sin{\\left(2 t \\right)}$"
          },
          "metadata": {},
          "execution_count": 74
        }
      ]
    },
    {
      "cell_type": "markdown",
      "source": [
        "## Damped Harmonic Oscillator: $F= -kx - 2m\\lambda v$\n",
        "$$\\frac{d^2x}{dt^2}+2\\lambda \\frac{dx}{dt}+\\omega^2x=0$$"
      ],
      "metadata": {
        "id": "QlpwFT6gwirA"
      }
    },
    {
      "cell_type": "code",
      "source": [
        "l,o = symbols('lambda omega')\n",
        "x   = symbols('x', cls=Function)\n",
        "dx  = diff(x(t), t)\n",
        "ddx = diff(x(t), t, 2)\n",
        "LHS = ddx + 2*l*dx + o**2*x(t)\n",
        "eqn2= Eq(LHS, 0)\n",
        "dsolve(eqn2)"
      ],
      "metadata": {
        "colab": {
          "base_uri": "https://localhost:8080/",
          "height": 43
        },
        "id": "OBCULWmhzwRr",
        "outputId": "e42c1e64-ff9a-46eb-83ce-f3591ac2e2ad"
      },
      "execution_count": null,
      "outputs": [
        {
          "output_type": "execute_result",
          "data": {
            "text/plain": [
              "Eq(x(t), C1*exp(t*(-lambda + sqrt(lambda**2 - omega**2))) + C2*exp(-t*(lambda + sqrt(lambda**2 - omega**2))))"
            ],
            "text/latex": "$\\displaystyle x{\\left(t \\right)} = C_{1} e^{t \\left(- \\lambda + \\sqrt{\\lambda^{2} - \\omega^{2}}\\right)} + C_{2} e^{- t \\left(\\lambda + \\sqrt{\\lambda^{2} - \\omega^{2}}\\right)}$"
          },
          "metadata": {},
          "execution_count": 75
        }
      ]
    },
    {
      "cell_type": "markdown",
      "source": [
        "###IC: $x(0)=0$, $\\ \\ \\dot{x}(0)=10$"
      ],
      "metadata": {
        "id": "aZ5WwdeO0ugo"
      }
    },
    {
      "cell_type": "code",
      "source": [
        "IC   = {x(t).subs(t,0): 0, diff(x(t),t).subs(t,0):10}\n",
        "damped_SH = dsolve(eqn2, ics=IC)\n",
        "damped_SH"
      ],
      "metadata": {
        "colab": {
          "base_uri": "https://localhost:8080/",
          "height": 63
        },
        "id": "nFazCm7z1Hdo",
        "outputId": "75ddb119-f8ef-4508-ceb6-fd08387304a5"
      },
      "execution_count": null,
      "outputs": [
        {
          "output_type": "execute_result",
          "data": {
            "text/plain": [
              "Eq(x(t), 5*exp(t*(-lambda + sqrt(lambda**2 - omega**2)))/sqrt(lambda**2 - omega**2) - 5*exp(-t*(lambda + sqrt(lambda**2 - omega**2)))/sqrt(lambda**2 - omega**2))"
            ],
            "text/latex": "$\\displaystyle x{\\left(t \\right)} = \\frac{5 e^{t \\left(- \\lambda + \\sqrt{\\lambda^{2} - \\omega^{2}}\\right)}}{\\sqrt{\\lambda^{2} - \\omega^{2}}} - \\frac{5 e^{- t \\left(\\lambda + \\sqrt{\\lambda^{2} - \\omega^{2}}\\right)}}{\\sqrt{\\lambda^{2} - \\omega^{2}}}$"
          },
          "metadata": {},
          "execution_count": 76
        }
      ]
    },
    {
      "cell_type": "markdown",
      "source": [
        "###Let $\\lambda=5$ and $\\ \\ \\omega=3$"
      ],
      "metadata": {
        "id": "upnWrkc_1lCH"
      }
    },
    {
      "cell_type": "code",
      "source": [
        "damped_SH = damped_SH.subs({l:5, o:3})\n",
        "damped_SH"
      ],
      "metadata": {
        "colab": {
          "base_uri": "https://localhost:8080/",
          "height": 54
        },
        "id": "ngtZGWz41yfy",
        "outputId": "aed9a60d-cbf6-4618-a931-32114782ea24"
      },
      "execution_count": null,
      "outputs": [
        {
          "output_type": "execute_result",
          "data": {
            "text/plain": [
              "Eq(x(t), 5*exp(-t)/4 - 5*exp(-9*t)/4)"
            ],
            "text/latex": "$\\displaystyle x{\\left(t \\right)} = \\frac{5 e^{- t}}{4} - \\frac{5 e^{- 9 t}}{4}$"
          },
          "metadata": {},
          "execution_count": 77
        }
      ]
    },
    {
      "cell_type": "code",
      "source": [
        "plot(damped_SH.rhs, (t,0,5))"
      ],
      "metadata": {
        "colab": {
          "base_uri": "https://localhost:8080/",
          "height": 501
        },
        "id": "pn1AzxkF2EsP",
        "outputId": "6bd3c136-234b-47e9-925a-b6cac59e9b99"
      },
      "execution_count": null,
      "outputs": [
        {
          "output_type": "display_data",
          "data": {
            "text/plain": [
              "<Figure size 640x480 with 1 Axes>"
            ],
            "image/png": "[encoded data removed]"
          },
          "metadata": {}
        },
        {
          "output_type": "execute_result",
          "data": {
            "text/plain": [
              "<sympy.plotting.plot.Plot at 0x799fac4e0eb0>"
            ]
          },
          "metadata": {},
          "execution_count": 79
        }
      ]
    },
    {
      "cell_type": "markdown",
      "source": [
        "## The linear drag problem revisited $F= mg - F_D$ with $F_D= qv$:\n",
        "$$ \\begin{align}\n",
        "&m\\frac{d^2y}{dt^2} = mg - qv \\\\\n",
        "\\text{or,} \\ \\ \\ &m\\frac{d^2y}{dt^2} + q \\frac{dy}{dt}- mg=0\n",
        "\\end{align} $$"
      ],
      "metadata": {
        "id": "ovR0lN1_fZgx"
      }
    },
    {
      "cell_type": "code",
      "source": [
        "m, q, g = symbols('m q g')\n",
        "y       = symbols('y', cls=Function)\n",
        "dy      = diff(y(t), t)\n",
        "ddy     = diff(y(t), t, 2)\n",
        "\n",
        "LHS     = m*ddy + q*dy - m*g\n",
        "ode3    = Eq(LHS, 0)\n",
        "dsolve(ode3)"
      ],
      "metadata": {
        "colab": {
          "base_uri": "https://localhost:8080/",
          "height": 54
        },
        "id": "5w41WZsOhacn",
        "outputId": "9a466165-976e-4efc-e994-d8aa7721fef1"
      },
      "execution_count": null,
      "outputs": [
        {
          "output_type": "execute_result",
          "data": {
            "text/plain": [
              "Eq(y(t), C1 + C2*exp(-q*t/m) + g*m*t/q)"
            ],
            "text/latex": "$\\displaystyle y{\\left(t \\right)} = C_{1} + C_{2} e^{- \\frac{q t}{m}} + \\frac{g m t}{q}$"
          },
          "metadata": {},
          "execution_count": 25
        }
      ]
    },
    {
      "cell_type": "markdown",
      "source": [
        "###Initial Conditions:\n",
        "$y(0)=100$, $\\ \\ \\dot{y}(0)=0$"
      ],
      "metadata": {
        "id": "gIPe5Qe8iv6I"
      }
    },
    {
      "cell_type": "code",
      "source": [
        "IC = {y(t).subs(t,0):100, dy.subs(t,0):0}\n",
        "dsolve(ode3, ics=IC)"
      ],
      "metadata": {
        "colab": {
          "base_uri": "https://localhost:8080/",
          "height": 60
        },
        "id": "Lca9V7hXj9cd",
        "outputId": "55d427bf-c229-4a98-d345-16b755c09778"
      },
      "execution_count": null,
      "outputs": [
        {
          "output_type": "execute_result",
          "data": {
            "text/plain": [
              "Eq(y(t), g*m**2*exp(-q*t/m)/q**2 + g*m*t/q + (-g*m**2 + 100*q**2)/q**2)"
            ],
            "text/latex": "$\\displaystyle y{\\left(t \\right)} = \\frac{g m^{2} e^{- \\frac{q t}{m}}}{q^{2}} + \\frac{g m t}{q} + \\frac{- g m^{2} + 100 q^{2}}{q^{2}}$"
          },
          "metadata": {},
          "execution_count": 26
        }
      ]
    },
    {
      "cell_type": "markdown",
      "source": [
        "###Insert $m=10$, $q=0.5$, $g=-9.8$"
      ],
      "metadata": {
        "id": "iJcopO53pz8B"
      }
    },
    {
      "cell_type": "code",
      "source": [
        "lin_drag= dsolve(ode3, ics=IC)\n",
        "lin_drag= lin_drag.subs({m:10, q: 0.5, g:-9.8})\n",
        "lin_drag"
      ],
      "metadata": {
        "colab": {
          "base_uri": "https://localhost:8080/",
          "height": 39
        },
        "id": "FCsdu6BNlCYb",
        "outputId": "32777fb0-5f5a-458f-fb4e-4952ae98aedc"
      },
      "execution_count": null,
      "outputs": [
        {
          "output_type": "execute_result",
          "data": {
            "text/plain": [
              "Eq(y(t), -196.0*t + 4020.0 - 3920.0*exp(-0.05*t))"
            ],
            "text/latex": "$\\displaystyle y{\\left(t \\right)} = - 196.0 t + 4020.0 - 3920.0 e^{- 0.05 t}$"
          },
          "metadata": {},
          "execution_count": 32
        }
      ]
    },
    {
      "cell_type": "code",
      "source": [
        "plot(lin_drag.rhs, (t, 0, 5))"
      ],
      "metadata": {
        "colab": {
          "base_uri": "https://localhost:8080/",
          "height": 504
        },
        "id": "Rat2bwfIlqFi",
        "outputId": "2137fe1e-1705-4f6a-8351-e6da5029b7f4"
      },
      "execution_count": null,
      "outputs": [
        {
          "output_type": "display_data",
          "data": {
            "text/plain": [
              "<Figure size 640x480 with 1 Axes>"
            ],
            "image/png": "[encoded data removed]"
          },
          "metadata": {}
        },
        {
          "output_type": "execute_result",
          "data": {
            "text/plain": [
              "<sympy.plotting.plot.Plot at 0x799f9f121840>"
            ]
          },
          "metadata": {},
          "execution_count": 34
        }
      ]
    }
  ]
}