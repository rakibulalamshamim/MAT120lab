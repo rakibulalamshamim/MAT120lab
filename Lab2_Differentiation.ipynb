{
  "cells": [
    {
      "cell_type": "markdown",
      "metadata": {
        "id": "view-in-github",
        "colab_type": "text"
      },
      "source": [
        "<a href=\"https://colab.research.google.com/github/rakibulalamshamim/MAT120lab/blob/main/Lab2_Differentiation.ipynb\" target=\"_parent\"><img src=\"https://colab.research.google.com/assets/colab-badge.svg\" alt=\"Open In Colab\"/></a>"
      ]
    },
    {
      "cell_type": "markdown",
      "metadata": {
        "id": "Cdgmhl0_6yLr"
      },
      "source": [
        "# `sympy`\n",
        "The library `sympy` is used for **symbolic computation**. It carries out the computer algebra through expressions only containing variables that have no given value and are manipulated as symbols. Writing `Symbol('x')` will create a symbolic variable $x$."
      ]
    },
    {
      "cell_type": "code",
      "execution_count": null,
      "metadata": {
        "id": "Qomp7VNytL7Y"
      },
      "outputs": [],
      "source": [
        "from sympy import *"
      ]
    },
    {
      "cell_type": "code",
      "execution_count": null,
      "metadata": {
        "id": "Hzrh0OYD77op"
      },
      "outputs": [],
      "source": [
        "x = Symbol('x')                         # for single variable\n",
        "x, y, z = symbols('x y z')              # for multiple variable"
      ]
    },
    {
      "cell_type": "markdown",
      "metadata": {
        "id": "irDP_S5h4GVV"
      },
      "source": [
        "Let's say we want to solve the equation: $f(x)=0$. \\\\\n",
        "Use `solve(f, x)` function."
      ]
    },
    {
      "cell_type": "code",
      "execution_count": null,
      "metadata": {
        "id": "ovn18WFS5H1D",
        "colab": {
          "base_uri": "https://localhost:8080/"
        },
        "outputId": "750b7521-b479-49dc-c814-52559e552d4f"
      },
      "outputs": [
        {
          "output_type": "execute_result",
          "data": {
            "text/plain": [
              "[2, 3]"
            ]
          },
          "metadata": {},
          "execution_count": 29
        }
      ],
      "source": [
        "f= x**2 - 5*x + 6\n",
        "solve(f)"
      ]
    },
    {
      "cell_type": "markdown",
      "metadata": {
        "id": "WENypJVM8qkT"
      },
      "source": [
        "Solve $\\cos{x}-\\sin{x}=1$"
      ]
    },
    {
      "cell_type": "code",
      "execution_count": null,
      "metadata": {
        "id": "M4cCKU-e9MqR",
        "colab": {
          "base_uri": "https://localhost:8080/"
        },
        "outputId": "95d46886-a5b3-43d8-8790-d33e57c9eec8"
      },
      "outputs": [
        {
          "output_type": "execute_result",
          "data": {
            "text/plain": [
              "[0, -pi/2]"
            ]
          },
          "metadata": {},
          "execution_count": 4
        }
      ],
      "source": [
        "f = cos(x) -sin(x) -1\n",
        "solve(f,x)"
      ]
    },
    {
      "cell_type": "markdown",
      "metadata": {
        "id": "XxV0XUnjDtgh"
      },
      "source": [
        "The `solveset()` function will give you the family of solutions. To solve $f(x)=0$ for $x$ in an interval write `solveset(f,x,Interval)`. Now, let's solve  $\\ \\ \\ \\cos{x}-\\sin{x}=1 \\ \\ \\ $\n",
        "in interval:  $-2\\pi \\leq x \\leq 2\\pi $."
      ]
    },
    {
      "cell_type": "code",
      "execution_count": null,
      "metadata": {
        "id": "wPqUneNuERVF",
        "colab": {
          "base_uri": "https://localhost:8080/",
          "height": 48
        },
        "outputId": "16c6948f-349a-45e9-a294-61be70da9249"
      },
      "outputs": [
        {
          "output_type": "execute_result",
          "data": {
            "text/plain": [
              "{0, -pi/2}"
            ],
            "text/latex": "$\\displaystyle \\left\\{0, - \\frac{\\pi}{2}\\right\\}$"
          },
          "metadata": {},
          "execution_count": 33
        }
      ],
      "source": [
        "i = Interval(-pi, pi)\n",
        "f = cos(x) -sin(x) -1\n",
        "solveset(f,x,i)"
      ]
    },
    {
      "cell_type": "markdown",
      "metadata": {
        "id": "YnsD0mncCYU2"
      },
      "source": [
        "## Solve:\n",
        "\n",
        "\n",
        "1.   $4\\cos{(x)}\\cos{(2x)}\\cos{(3x)}=1$\n",
        "2.   $4\\sin^2{x} + \\cos{x} =5$\n",
        "\n"
      ]
    },
    {
      "cell_type": "markdown",
      "metadata": {
        "id": "zhuFAtI1ZA53"
      },
      "source": [
        "#Differentiation with `sympy`\n",
        "Start with simple functions:\n",
        "$f(x)= \\sin{x} $. Use\n",
        "`diff(f,x)`\n",
        " to find the first derivative, `diff(f, x, x)` for the second derivative and so on.\n",
        " \\\\\n",
        " Or just write `f.diff(x)` to get the derivative. `f.diff(x,x)` to get the second derivative and so on."
      ]
    },
    {
      "cell_type": "code",
      "execution_count": null,
      "metadata": {
        "id": "vxgphz0UZw6n",
        "colab": {
          "base_uri": "https://localhost:8080/",
          "height": 39
        },
        "outputId": "9369869f-8439-477e-ec37-6e7ccbe414c5"
      },
      "outputs": [
        {
          "output_type": "execute_result",
          "data": {
            "text/plain": [
              "cos(x)"
            ],
            "text/latex": "$\\displaystyle \\cos{\\left(x \\right)}$"
          },
          "metadata": {},
          "execution_count": 5
        }
      ],
      "source": [
        "f = sin(x)\n",
        "diff(f)"
      ]
    },
    {
      "cell_type": "markdown",
      "metadata": {
        "id": "kz5GNLoPblb4"
      },
      "source": [
        "Let's say we want to calculate $n^{th}$ derivative. Use `diff(f,x,n)` to compute $\\frac{d^nf}{dx^n}$"
      ]
    },
    {
      "cell_type": "code",
      "execution_count": null,
      "metadata": {
        "id": "iRt04vD_bjzg",
        "colab": {
          "base_uri": "https://localhost:8080/",
          "height": 39
        },
        "outputId": "09f8cc1a-abca-4052-8640-aa87cbbfba39"
      },
      "outputs": [
        {
          "output_type": "execute_result",
          "data": {
            "text/plain": [
              "-sin(x)"
            ],
            "text/latex": "$\\displaystyle - \\sin{\\left(x \\right)}$"
          },
          "metadata": {},
          "execution_count": 38
        }
      ],
      "source": [
        "diff(f,x,2)"
      ]
    },
    {
      "cell_type": "markdown",
      "metadata": {
        "id": "e3JjODvOiD5e"
      },
      "source": [
        "Now let's find the derivatives of some usual functions: $x^n$, $\\ a^x$, $\\ e^x$, $\\ ln(x)$, $\\ log_a x$, $\\ $ and  $\\ \\ tan^{-1}x$"
      ]
    },
    {
      "cell_type": "code",
      "execution_count": null,
      "metadata": {
        "id": "quRrl2JJ8Wxc"
      },
      "outputs": [],
      "source": [
        "n, a = symbols('n a')"
      ]
    },
    {
      "cell_type": "code",
      "execution_count": null,
      "metadata": {
        "id": "OoHztEySEN3n"
      },
      "outputs": [],
      "source": [
        "diff(x**n, x)"
      ]
    },
    {
      "cell_type": "code",
      "execution_count": null,
      "metadata": {
        "id": "Ylm3iYfhEQqg"
      },
      "outputs": [],
      "source": [
        "diff(a**x, x)"
      ]
    },
    {
      "cell_type": "code",
      "execution_count": null,
      "metadata": {
        "id": "8ahrNoM8EVt-"
      },
      "outputs": [],
      "source": [
        "diff(exp(x), x)"
      ]
    },
    {
      "cell_type": "code",
      "execution_count": null,
      "metadata": {
        "id": "tzAnFTTgEX7M"
      },
      "outputs": [],
      "source": [
        "diff(log(x), x)"
      ]
    },
    {
      "cell_type": "code",
      "execution_count": null,
      "metadata": {
        "id": "a8iQprH2EbCf"
      },
      "outputs": [],
      "source": [
        "diff(log(x,a), x)"
      ]
    },
    {
      "cell_type": "code",
      "execution_count": null,
      "metadata": {
        "id": "SRaPvgFpEfVd",
        "colab": {
          "base_uri": "https://localhost:8080/",
          "height": 55
        },
        "outputId": "a7b76933-e813-4287-e406-eb7dbe2eaad9"
      },
      "outputs": [
        {
          "output_type": "execute_result",
          "data": {
            "text/plain": [
              "1/sqrt(1 - x**2)"
            ],
            "text/latex": "$\\displaystyle \\frac{1}{\\sqrt{1 - x^{2}}}$"
          },
          "metadata": {},
          "execution_count": 39
        }
      ],
      "source": [
        "diff(atan(x), x)"
      ]
    },
    {
      "cell_type": "markdown",
      "metadata": {
        "id": "z2HEOQdDrWkE"
      },
      "source": [
        "##Partial derivatives:\n",
        "$f(x)= x^3y^2z-3xz^3$ \\\\\n",
        "\n",
        "Find $\\ \\ \\frac{∂f}{∂x}$, $\\ \\ \\frac{∂f}{∂y}$, and $\\ \\ \\frac{∂^2f}{∂x∂y}$"
      ]
    },
    {
      "cell_type": "code",
      "execution_count": null,
      "metadata": {
        "id": "LOFyFIGdsGXr"
      },
      "outputs": [],
      "source": [
        "x, y, z = symbols('x y z')\n",
        "f = x**3*y**2*z - 3*x*z**3\n",
        "dfdx = diff(f,x)                      # df/dx\n",
        "dfdy = diff(f,y)                      # df/dy\n",
        "ddfdxy= diff(f, x, y)"
      ]
    },
    {
      "cell_type": "markdown",
      "metadata": {
        "id": "AuQPdFn0sZpU"
      },
      "source": [
        "\n",
        "## Differentiate\n",
        "$$f(x)= \\frac{sin^{-1}(x)x^{\\cos{(x^2)}}}{x^3ln(x^2+1)}$$"
      ]
    },
    {
      "cell_type": "code",
      "execution_count": null,
      "metadata": {
        "id": "BdQ-r_euI3mn",
        "colab": {
          "base_uri": "https://localhost:8080/",
          "height": 83
        },
        "outputId": "ea5a70d5-0082-40de-c738-8e00811f2892"
      },
      "outputs": [
        {
          "output_type": "execute_result",
          "data": {
            "text/plain": [
              "-2*x**cos(x**2)*asin(x)/(x**2*(x**2 + 1)*log(x**2 + 1)**2) + x**cos(x**2)*(-2*x*log(x)*sin(x**2) + cos(x**2)/x)*asin(x)/(x**3*log(x**2 + 1)) + x**cos(x**2)/(x**3*sqrt(1 - x**2)*log(x**2 + 1)) - 3*x**cos(x**2)*asin(x)/(x**4*log(x**2 + 1))"
            ],
            "text/latex": "$\\displaystyle - \\frac{2 x^{\\cos{\\left(x^{2} \\right)}} \\operatorname{asin}{\\left(x \\right)}}{x^{2} \\left(x^{2} + 1\\right) \\log{\\left(x^{2} + 1 \\right)}^{2}} + \\frac{x^{\\cos{\\left(x^{2} \\right)}} \\left(- 2 x \\log{\\left(x \\right)} \\sin{\\left(x^{2} \\right)} + \\frac{\\cos{\\left(x^{2} \\right)}}{x}\\right) \\operatorname{asin}{\\left(x \\right)}}{x^{3} \\log{\\left(x^{2} + 1 \\right)}} + \\frac{x^{\\cos{\\left(x^{2} \\right)}}}{x^{3} \\sqrt{1 - x^{2}} \\log{\\left(x^{2} + 1 \\right)}} - \\frac{3 x^{\\cos{\\left(x^{2} \\right)}} \\operatorname{asin}{\\left(x \\right)}}{x^{4} \\log{\\left(x^{2} + 1 \\right)}}$"
          },
          "metadata": {},
          "execution_count": 43
        }
      ],
      "source": [
        "f = asin(x) *x**(cos(x**2))/(x**3*log(x**2+1))\n",
        "diff(f)"
      ]
    },
    {
      "cell_type": "markdown",
      "metadata": {
        "id": "KuLrYY5ZwqNv"
      },
      "source": [
        "# Evaluating value of Sympy expressions\n",
        "* To evaluate the value of any expression $f$, write `f.evalf()` or `N(f)`.\n",
        "* To substitute value of variables (let's say $x$) in any expression $f$, write `f.subs(x, new value)`."
      ]
    },
    {
      "cell_type": "code",
      "execution_count": null,
      "metadata": {
        "id": "LYazs0kf8ara",
        "colab": {
          "base_uri": "https://localhost:8080/",
          "height": 37
        },
        "outputId": "6abd7af6-90a9-467b-fe42-6cca3a3fd971"
      },
      "outputs": [
        {
          "output_type": "execute_result",
          "data": {
            "text/plain": [
              "9.8696044010893586188344909998761511353136994072408"
            ],
            "text/latex": "$\\displaystyle 9.8696044010893586188344909998761511353136994072408$"
          },
          "metadata": {},
          "execution_count": 49
        }
      ],
      "source": [
        "f = pi**2"
      ]
    },
    {
      "cell_type": "code",
      "source": [
        "f.evalf()"
      ],
      "metadata": {
        "id": "oy7HhwZye4j4"
      },
      "execution_count": null,
      "outputs": []
    },
    {
      "cell_type": "code",
      "source": [
        "N(f)"
      ],
      "metadata": {
        "id": "e6WTkjiQe7lV"
      },
      "execution_count": null,
      "outputs": []
    },
    {
      "cell_type": "code",
      "execution_count": null,
      "metadata": {
        "id": "ssLjSiKYyB98",
        "colab": {
          "base_uri": "https://localhost:8080/",
          "height": 37
        },
        "outputId": "fa626f45-7920-4cbb-85e7-3ff0fe4f25f8"
      },
      "outputs": [
        {
          "output_type": "execute_result",
          "data": {
            "text/plain": [
              "-1 - cos(2) + sin(2)"
            ],
            "text/latex": "$\\displaystyle -1 - \\cos{\\left(2 \\right)} + \\sin{\\left(2 \\right)}$"
          },
          "metadata": {},
          "execution_count": 53
        }
      ],
      "source": [
        "f = sin(x) - cos(x) -1\n",
        "f.subs(x,2)"
      ]
    },
    {
      "cell_type": "code",
      "source": [
        "f.subs(x,2).evalf()"
      ],
      "metadata": {
        "id": "xa_Vw9Vye-3Y"
      },
      "execution_count": null,
      "outputs": []
    },
    {
      "cell_type": "markdown",
      "source": [
        "#Maxima and Minima again!\n",
        "Let $f(x)$ be a function whose extremums need to be found.\n",
        "* Solve $f'(x)= \\frac{df}{dx}=0$ for $x$ and obtain the roots {$\\alpha$}.\n",
        "* If $f''(\\alpha) <0 $ , then $f(\\alpha)$ is a **maxima**.\n",
        "* If $f''(\\alpha) >0 $ , then $f(\\alpha)$ is a **minima**."
      ],
      "metadata": {
        "id": "wFbBJ0nefglY"
      }
    },
    {
      "cell_type": "markdown",
      "metadata": {
        "id": "66WZZLW5hAwU"
      },
      "source": [
        "\n",
        "##Find extrema of\n",
        "$$f(x)= x^3+3x^2-9x-5$$"
      ]
    },
    {
      "cell_type": "code",
      "execution_count": null,
      "metadata": {
        "id": "P7iVdsdzzPY5",
        "colab": {
          "base_uri": "https://localhost:8080/"
        },
        "outputId": "a3596b67-c716-491f-bedf-f8620a3e8414"
      },
      "outputs": [
        {
          "output_type": "stream",
          "name": "stdout",
          "text": [
            "f'(x)=  3*x**2 + 6*x - 9\n",
            "f''(x)=  6*(x + 1)\n",
            "Roots=  [-3, 1]\n",
            "Maxima=  22 for x=  -3\n",
            "Minima=  -10 for x=  1\n"
          ]
        }
      ],
      "source": [
        "f = x**3 + 3*x**2 - 9*x -5\n",
        "df = diff(f)\n",
        "ddf = diff(f,x,2)\n",
        "roots = solve(df,x)\n",
        "\n",
        "print(\"f'(x)= \", df)\n",
        "print(\"f''(x)= \", ddf)\n",
        "print(\"Roots= \", roots)\n",
        "\n",
        "for i in roots:\n",
        "  if ddf.subs(x, i)<0:\n",
        "    print(\"Maxima= \", f.subs(x,i), \"for x= \", i)\n",
        "  else:\n",
        "    print(\"Minima= \", f.subs(x,i), \"for x= \", i)"
      ]
    },
    {
      "cell_type": "markdown",
      "source": [
        "##When roots are not real\n",
        "Let's try for\n",
        "$$f(x)= x^3+3x^2+9x-5$$"
      ],
      "metadata": {
        "id": "FYrs02GagoZ-"
      }
    },
    {
      "cell_type": "code",
      "source": [
        "import numpy as np\n",
        "f = x**3 + 3*x**2 + 9*x -5\n",
        "df = diff(f)\n",
        "ddf = diff(f,x,2)\n",
        "roots = solve(df,x)\n",
        "\n",
        "print(\"f'(x)= \", df)\n",
        "print(\"f''(x)= \", ddf)\n",
        "print(\"Roots= \", roots)\n",
        "\n",
        "for i in roots:\n",
        "  if np.imag(complex(i)) != 0:\n",
        "    print(\"No extremum for x= \", i)\n",
        "  elif ddf.subs(x, i)<0:\n",
        "    print(\"Maxima= \", f.subs(x,i), \"for x= \", i)\n",
        "  else:\n",
        "    print(\"Minima= \", f.subs(x,i), \"for x= \", i)"
      ],
      "metadata": {
        "colab": {
          "base_uri": "https://localhost:8080/"
        },
        "id": "Q2ufoco-g2ic",
        "outputId": "eda02648-0eb7-45c9-cbb9-8bdc29c32b38"
      },
      "execution_count": null,
      "outputs": [
        {
          "output_type": "stream",
          "name": "stdout",
          "text": [
            "f'(x)=  3*x**2 + 6*x + 9\n",
            "f''(x)=  6*(x + 1)\n",
            "Roots=  [-1 - sqrt(2)*I, -1 + sqrt(2)*I]\n",
            "No extremum for x=  -1 - sqrt(2)*I\n",
            "No extremum for x=  -1 + sqrt(2)*I\n"
          ]
        }
      ]
    },
    {
      "cell_type": "markdown",
      "source": [
        "## Find extrema for $f(x)= 4e^x+9e^{-x}$"
      ],
      "metadata": {
        "id": "-pLz2FVbiG1U"
      }
    },
    {
      "cell_type": "markdown",
      "source": [
        "## Show that the function $f(x)= x^3-6x^2+24x+4 \\ \\ $ has no extremum."
      ],
      "metadata": {
        "id": "EJmtlCy2BvjJ"
      }
    },
    {
      "cell_type": "markdown",
      "source": [
        "## Finding Extrema in interval\n",
        "$$f(x)= 1+2\\sin{(x)}+3\\cos^2{(x)}\\ \\ \\ \\ \\text{where,} \\ \\ \\ x  \\in [0, \\pi/2] $$"
      ],
      "metadata": {
        "id": "W9zkJ7uCyD9X"
      }
    },
    {
      "cell_type": "code",
      "source": [
        "f = 1 + 2*sin(x) + 3*cos(x)**2\n",
        "I = Interval(0, pi/2)\n",
        "df = diff(f)\n",
        "ddf = diff(f,x,2)\n",
        "roots = solveset(df,x,I)\n",
        "print(roots)\n",
        "\n",
        "for i in roots:\n",
        "  if np.imag(complex(i)) != 0:\n",
        "    print(\"No extremum for x= \", i)\n",
        "  elif ddf.subs(x, i)<0:\n",
        "    print(\"Maxima= \", f.subs(x,i), \"for x= \", i)\n",
        "  else:\n",
        "    print(\"Minima= \", f.subs(x,i), \"for x= \", i)"
      ],
      "metadata": {
        "colab": {
          "base_uri": "https://localhost:8080/"
        },
        "id": "34nOmxUO9FQF",
        "outputId": "7dfeb0be-c910-498a-b020-a4c2884c7a20"
      },
      "execution_count": null,
      "outputs": [
        {
          "output_type": "stream",
          "name": "stdout",
          "text": [
            "{pi/2, atan(sqrt(2)/4)}\n",
            "Minima=  3 for x=  pi/2\n",
            "Maxima=  13/3 for x=  atan(sqrt(2)/4)\n"
          ]
        }
      ]
    },
    {
      "cell_type": "markdown",
      "metadata": {
        "id": "cj6SsH6DrGr1"
      },
      "source": [
        "# Sympy Plotting\n",
        "Let's, for example, plot $\\sin(x)$ using the Sympy `plot()` function."
      ]
    },
    {
      "cell_type": "code",
      "execution_count": null,
      "metadata": {
        "id": "Hu1oEjjxqC4-"
      },
      "outputs": [],
      "source": [
        "plot(sin(x), title= 'sin(x) curve', xlabel= 'x', ylabel= 'sin(x)')"
      ]
    },
    {
      "cell_type": "code",
      "execution_count": null,
      "metadata": {
        "id": "Dox7F87-rE5d"
      },
      "outputs": [],
      "source": [
        "plot(sin(x), (x, -pi, pi))"
      ]
    },
    {
      "cell_type": "code",
      "execution_count": null,
      "metadata": {
        "id": "6W2Phsr-rbdL"
      },
      "outputs": [],
      "source": [
        "plot(sin(x), tanh(x), (x, -pi, pi))"
      ]
    },
    {
      "cell_type": "code",
      "execution_count": null,
      "metadata": {
        "id": "hekq5tM-rpAT"
      },
      "outputs": [],
      "source": [
        "plot((sin(x),(x, -pi, pi)), (tanh(x), (x, -2*pi, 2*pi)))"
      ]
    },
    {
      "cell_type": "markdown",
      "source": [
        "## Now plot both $f(x)$ and $f'(x)$\n",
        "$$f(x)= 1+2\\sin{(x)}+3\\cos^2{(x)}\\ \\ \\ \\ \\text{where,} \\ \\ \\ x  \\in [0, \\pi/2] $$"
      ],
      "metadata": {
        "id": "Nd72anl3Dt5P"
      }
    }
  ],
  "metadata": {
    "colab": {
      "provenance": [],
      "include_colab_link": true
    },
    "kernelspec": {
      "display_name": "Python 3",
      "name": "python3"
    },
    "language_info": {
      "name": "python"
    }
  },
  "nbformat": 4,
  "nbformat_minor": 0
}