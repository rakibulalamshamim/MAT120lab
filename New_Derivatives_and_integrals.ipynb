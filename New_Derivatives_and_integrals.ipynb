{
  "cells": [
    {
      "cell_type": "markdown",
      "metadata": {
        "id": "view-in-github",
        "colab_type": "text"
      },
      "source": [
        "<a href=\"https://colab.research.google.com/github/rakibulalamshamim/MAT120lab/blob/main/New_Derivatives_and_integrals.ipynb\" target=\"_parent\"><img src=\"https://colab.research.google.com/assets/colab-badge.svg\" alt=\"Open In Colab\"/></a>"
      ]
    },
    {
      "cell_type": "markdown",
      "metadata": {
        "id": "BenkYli_1zAa"
      },
      "source": [
        "# Class code: mo4soys\n",
        "##Or go to the following link to access material from github:  \n",
        "#bit.ly/mat120lab"
      ]
    },
    {
      "cell_type": "markdown",
      "metadata": {
        "id": "Cdgmhl0_6yLr"
      },
      "source": [
        "# `sympy`\n",
        "The library `sympy` is used for **symbolic computation**. It carries out the computer algebra through expressions only containing variables that have no given value and are manipulated as symbols. Writing `symbols('x')` will create a symbolic variable $x$."
      ]
    },
    {
      "cell_type": "code",
      "execution_count": null,
      "metadata": {
        "id": "Qomp7VNytL7Y"
      },
      "outputs": [],
      "source": [
        "from sympy import *"
      ]
    },
    {
      "cell_type": "code",
      "execution_count": null,
      "metadata": {
        "id": "Hzrh0OYD77op"
      },
      "outputs": [],
      "source": [
        "x = Symbol('x')\n",
        "x, y, z = symbols('x y z')"
      ]
    },
    {
      "cell_type": "code",
      "execution_count": null,
      "metadata": {
        "id": "ovn18WFS5H1D"
      },
      "outputs": [],
      "source": [
        "f= x**2 - 5*x + 6\n",
        "solve(f)"
      ]
    },
    {
      "cell_type": "markdown",
      "metadata": {
        "id": "WENypJVM8qkT"
      },
      "source": [
        "Solve $\\cos{x}-\\sin{x}=1$"
      ]
    },
    {
      "cell_type": "code",
      "execution_count": null,
      "metadata": {
        "id": "M4cCKU-e9MqR"
      },
      "outputs": [],
      "source": [
        "f = cos(x) -sin(x) -1\n",
        "solve(f,x)"
      ]
    },
    {
      "cell_type": "markdown",
      "metadata": {
        "id": "XxV0XUnjDtgh"
      },
      "source": [
        "In interval:  $-2\\pi \\leq x \\leq 2\\pi $"
      ]
    },
    {
      "cell_type": "code",
      "execution_count": null,
      "metadata": {
        "id": "wPqUneNuERVF"
      },
      "outputs": [],
      "source": [
        "i = Interval(-2*pi, 2*pi)\n",
        "solveset(f,x,i)"
      ]
    },
    {
      "cell_type": "markdown",
      "metadata": {
        "id": "irDP_S5h4GVV"
      },
      "source": [
        "Let's say we want to solve the equation: $f(x)=0$. \\\\\n",
        "Use `solve(f, x)` function."
      ]
    },
    {
      "cell_type": "markdown",
      "metadata": {
        "id": "YnsD0mncCYU2"
      },
      "source": [
        "## Solve:\n",
        "\n",
        "\n",
        "1.   $4\\cos{x}\\cos{2x}\\cos{3x}=1$\n",
        "2.   $4\\sin^2{x} + \\cos{x} =5$\n",
        "\n"
      ]
    },
    {
      "cell_type": "markdown",
      "metadata": {
        "id": "zhuFAtI1ZA53"
      },
      "source": [
        "#Differentiation with `sympy`\n",
        "Start with simple functions:\n",
        "$f(x)= \\sin{x} $. Use\n",
        "`diff(f,x)`\n",
        " to find the first derivative, `diff(f, x, x)` for the second derivative and so on.\n",
        " \\\\\n",
        " Or just write `f.diff(x)` to get the derivative. `f.diff(x,x)` to get the second derivative and so on."
      ]
    },
    {
      "cell_type": "code",
      "execution_count": null,
      "metadata": {
        "id": "vxgphz0UZw6n"
      },
      "outputs": [],
      "source": [
        "x = Symbol('x')\n",
        "f = sin(x)\n",
        "diff(f,x)"
      ]
    },
    {
      "cell_type": "markdown",
      "metadata": {
        "id": "kz5GNLoPblb4"
      },
      "source": [
        "Let's say we want to calculate $n^{th}$ derivative. Use `diff(f,x,n)` to compute $\\frac{d^nf}{dx^n}$"
      ]
    },
    {
      "cell_type": "code",
      "execution_count": null,
      "metadata": {
        "id": "iRt04vD_bjzg"
      },
      "outputs": [],
      "source": [
        "diff(f,x,2)"
      ]
    },
    {
      "cell_type": "markdown",
      "metadata": {
        "id": "e3JjODvOiD5e"
      },
      "source": [
        "Now let's find the derivatives of some usual functions: $x^n$, $\\ a^x$, $\\ e^x$, $\\ ln(x)$, $\\ log_a x$, $\\ $ and  $\\ \\ tan^{-1}x$"
      ]
    },
    {
      "cell_type": "code",
      "execution_count": null,
      "metadata": {
        "id": "quRrl2JJ8Wxc"
      },
      "outputs": [],
      "source": [
        "n, a = symbols('n a')"
      ]
    },
    {
      "cell_type": "code",
      "execution_count": null,
      "metadata": {
        "id": "OoHztEySEN3n"
      },
      "outputs": [],
      "source": [
        "diff(x**n, x)"
      ]
    },
    {
      "cell_type": "code",
      "execution_count": null,
      "metadata": {
        "id": "Ylm3iYfhEQqg"
      },
      "outputs": [],
      "source": [
        "diff(a**x, x)"
      ]
    },
    {
      "cell_type": "code",
      "execution_count": null,
      "metadata": {
        "id": "8ahrNoM8EVt-"
      },
      "outputs": [],
      "source": [
        "diff(exp(x), x)"
      ]
    },
    {
      "cell_type": "code",
      "execution_count": null,
      "metadata": {
        "id": "tzAnFTTgEX7M"
      },
      "outputs": [],
      "source": [
        "diff(log(x), x)"
      ]
    },
    {
      "cell_type": "code",
      "execution_count": null,
      "metadata": {
        "id": "a8iQprH2EbCf"
      },
      "outputs": [],
      "source": [
        "diff(log(x,a), x)"
      ]
    },
    {
      "cell_type": "code",
      "execution_count": null,
      "metadata": {
        "id": "SRaPvgFpEfVd"
      },
      "outputs": [],
      "source": [
        "diff(atan(x), x)"
      ]
    },
    {
      "cell_type": "markdown",
      "metadata": {
        "id": "z2HEOQdDrWkE"
      },
      "source": [
        "##Partial derivatives:\n",
        "$f(x)= x^3y^2z-3xz^3$"
      ]
    },
    {
      "cell_type": "code",
      "execution_count": null,
      "metadata": {
        "id": "LOFyFIGdsGXr"
      },
      "outputs": [],
      "source": [
        "x, y, z = symbols('x y z')\n",
        "f = x**3*y**2*z - 3*x*z**3\n",
        "dfdx = diff(f,x)                      # df/dx\n",
        "dfdy = diff(f,y)                      # df/dy\n",
        "\n",
        "ddfdxy= diff(f, x, y)\n"
      ]
    },
    {
      "cell_type": "markdown",
      "metadata": {
        "id": "AuQPdFn0sZpU"
      },
      "source": [
        "\n",
        "## Differentiate\n",
        "$$f(x)= \\frac{sin(x)e^{\\cos^{-1}{(x^2)}}}{x^3ln(x^2+1)}$$"
      ]
    },
    {
      "cell_type": "code",
      "execution_count": null,
      "metadata": {
        "id": "BdQ-r_euI3mn"
      },
      "outputs": [],
      "source": [
        "f = sin(x) *exp(acos(x**2))/(x**3*log(x**2+1))\n",
        "diff(f)"
      ]
    },
    {
      "cell_type": "markdown",
      "metadata": {
        "id": "zUQMt8OauEHy"
      },
      "source": [
        "# Integration\n",
        "Write the integral using `Integral(f, x)` and to do the indefinite integration write `integrate(f, x)`."
      ]
    },
    {
      "cell_type": "markdown",
      "metadata": {
        "id": "_lQsToFmPx6K"
      },
      "source": [
        "##Indefinite Integral"
      ]
    },
    {
      "cell_type": "code",
      "execution_count": null,
      "metadata": {
        "colab": {
          "base_uri": "https://localhost:8080/",
          "height": 55
        },
        "id": "BR8PQOc0wlyQ",
        "outputId": "ec8fb4ac-8d1c-40ef-f903-65df0c60b87b"
      },
      "outputs": [
        {
          "data": {
            "text/latex": "$\\displaystyle \\int \\sin{\\left(x \\right)}\\, dx$",
            "text/plain": [
              "Integral(sin(x), x)"
            ]
          },
          "execution_count": 18,
          "metadata": {},
          "output_type": "execute_result"
        }
      ],
      "source": [
        "x = Symbol('x')\n",
        "\n",
        "Integral(sin(x))"
      ]
    },
    {
      "cell_type": "code",
      "execution_count": null,
      "metadata": {
        "colab": {
          "base_uri": "https://localhost:8080/",
          "height": 39
        },
        "id": "K9yAgKx_xsmJ",
        "outputId": "31bc3591-37c1-4c98-8e47-6196d342c456"
      },
      "outputs": [
        {
          "data": {
            "text/latex": "$\\displaystyle - \\cos{\\left(x \\right)}$",
            "text/plain": [
              "-cos(x)"
            ]
          },
          "execution_count": 12,
          "metadata": {},
          "output_type": "execute_result"
        }
      ],
      "source": [
        "integrate(sin(x))"
      ]
    },
    {
      "cell_type": "markdown",
      "metadata": {
        "id": "8pjlYB2Cxz5P"
      },
      "source": [
        "##Definite Integral\n",
        "To get the definite integral, just write the integral in this format:\n",
        "`integrate(f,(x, lower_limit, upper_limit))`. Let's finish the integral  $$\\Gamma(1)= \\int^{∞}_0 e^{-x}dx$$"
      ]
    },
    {
      "cell_type": "code",
      "execution_count": null,
      "metadata": {
        "colab": {
          "base_uri": "https://localhost:8080/",
          "height": 37
        },
        "id": "yCWrb4yjyv9S",
        "outputId": "018bc06d-825d-456a-dee2-b2451de17b39"
      },
      "outputs": [
        {
          "data": {
            "text/latex": "$\\displaystyle 1$",
            "text/plain": [
              "1"
            ]
          },
          "execution_count": 14,
          "metadata": {},
          "output_type": "execute_result"
        }
      ],
      "source": [
        "f = exp(-x)\n",
        "\n",
        "integrate(f, (x, 0, oo))"
      ]
    },
    {
      "cell_type": "markdown",
      "metadata": {
        "id": "ey-JDCFYupnk"
      },
      "source": [
        "$$\\int_{-∞}^∞ \\frac{\\cos x}{x^2+1}dx= \\frac{\\pi}{e} $$"
      ]
    },
    {
      "cell_type": "code",
      "execution_count": null,
      "metadata": {
        "colab": {
          "base_uri": "https://localhost:8080/",
          "height": 38
        },
        "id": "OB8DVtQ1tUev",
        "outputId": "1bbd947d-52e8-42ac-ea5f-9546b707a6cd"
      },
      "outputs": [
        {
          "data": {
            "text/latex": "$\\displaystyle \\sqrt{\\pi} \\left(- \\sqrt{\\pi} \\sinh{\\left(1 \\right)} + \\sqrt{\\pi} \\cosh{\\left(1 \\right)}\\right)$",
            "text/plain": [
              "sqrt(pi)*(-sqrt(pi)*sinh(1) + sqrt(pi)*cosh(1))"
            ]
          },
          "execution_count": 12,
          "metadata": {},
          "output_type": "execute_result"
        }
      ],
      "source": [
        "f = cos(x)/(x**2+1)\n",
        "integrate(f, (x, -oo, +oo))"
      ]
    },
    {
      "cell_type": "markdown",
      "metadata": {
        "id": "scQUGWMRzfeo"
      },
      "source": [
        "##Classwork\n",
        "Find:\n",
        "\n",
        "\n",
        "1.  Gaussian integral: $$\\int^∞_{-∞} e^{-x^2}dx$$\n",
        "2.  Dirichlet integral: $$\\int^{∞}_0 \\frac{\\sin{x}}{x} dx$$\n",
        "\n"
      ]
    },
    {
      "cell_type": "markdown",
      "metadata": {
        "id": "nSToYPuQ0n_3"
      },
      "source": [
        "#Factorial using Gamma function\n",
        "The **Gamma** function\n",
        "$$\\Gamma(t) = \\int^∞_0 x^{t-1}e^{-x} dx $$\n",
        "From this, the factorial of a number $n= t-1$ is given by,\n",
        "$$n! = \\int^∞_0 x^{n}e^{-x} dx $$"
      ]
    },
    {
      "cell_type": "code",
      "execution_count": null,
      "metadata": {
        "id": "4AUVgiJR6zJ_"
      },
      "outputs": [],
      "source": [
        "def factrl(n=float(input())):\n",
        "  f = x**n*exp(-x)\n",
        "  return integrate(f, (x, 0, oo))\n",
        "\n",
        "factrl()"
      ]
    },
    {
      "cell_type": "markdown",
      "source": [
        "# Import `sympy` and define variables first"
      ],
      "metadata": {
        "id": "f6RMI5n0kB9X"
      }
    },
    {
      "cell_type": "code",
      "source": [
        "from sympy import *\n",
        "x = Symbol('x')"
      ],
      "metadata": {
        "id": "lttsWDj7jt8g"
      },
      "execution_count": 1,
      "outputs": []
    },
    {
      "cell_type": "markdown",
      "metadata": {
        "id": "cj6SsH6DrGr1"
      },
      "source": [
        "# Sympy Plotting\n",
        "Let's, for example, plot $\\sin(x)$ using the Sympy `plot()` function."
      ]
    },
    {
      "cell_type": "code",
      "execution_count": null,
      "metadata": {
        "id": "Hu1oEjjxqC4-"
      },
      "outputs": [],
      "source": [
        "plot(sin(x), title= 'sin(x) curve', xlabel= 'x', ylabel= 'sin(x)')"
      ]
    },
    {
      "cell_type": "code",
      "execution_count": null,
      "metadata": {
        "id": "Dox7F87-rE5d"
      },
      "outputs": [],
      "source": [
        "plot(sin(x), (x, -pi, pi))"
      ]
    },
    {
      "cell_type": "code",
      "execution_count": null,
      "metadata": {
        "id": "6W2Phsr-rbdL"
      },
      "outputs": [],
      "source": [
        "plot(sin(x), tanh(x), (x, -pi, pi))"
      ]
    },
    {
      "cell_type": "code",
      "execution_count": null,
      "metadata": {
        "id": "hekq5tM-rpAT"
      },
      "outputs": [],
      "source": [
        "plot((sin(x),(x, -pi, pi)), (tanh(x), (x, -2*pi, 2*pi)))"
      ]
    },
    {
      "cell_type": "markdown",
      "metadata": {
        "id": "KuLrYY5ZwqNv"
      },
      "source": [
        "# Evaluating value of Sympy expressions\n",
        "* To evaluate the value of any expression $f$, write `f.evalf()` or `N(f)`.\n",
        "* To substitute value of variables (let's say $x$) in any expression $f$, write `f.subs(x, new value)`."
      ]
    },
    {
      "cell_type": "code",
      "execution_count": 18,
      "metadata": {
        "colab": {
          "base_uri": "https://localhost:8080/",
          "height": 37
        },
        "id": "LYazs0kf8ara",
        "outputId": "899216b1-d1fc-4dcf-8fa4-9390dee058e2"
      },
      "outputs": [
        {
          "output_type": "execute_result",
          "data": {
            "text/plain": [
              "9.8696044010893586188344909998761511353136994072408"
            ],
            "text/latex": "$\\displaystyle 9.8696044010893586188344909998761511353136994072408$"
          },
          "metadata": {},
          "execution_count": 18
        }
      ],
      "source": [
        "f = pi**2\n",
        "N(f,50)"
      ]
    },
    {
      "cell_type": "code",
      "execution_count": 21,
      "metadata": {
        "colab": {
          "base_uri": "https://localhost:8080/",
          "height": 37
        },
        "id": "ssLjSiKYyB98",
        "outputId": "473ca45c-e5ed-41ec-b614-5eff5ab74181"
      },
      "outputs": [
        {
          "output_type": "execute_result",
          "data": {
            "text/plain": [
              "0.325444263372824"
            ],
            "text/latex": "$\\displaystyle 0.325444263372824$"
          },
          "metadata": {},
          "execution_count": 21
        }
      ],
      "source": [
        "f = sin(x) - cos(x) -1\n",
        "f.subs(x,2).evalf()"
      ]
    },
    {
      "cell_type": "markdown",
      "metadata": {
        "id": "66WZZLW5hAwU"
      },
      "source": [
        "#Maxima and Minima again!\n",
        "##Find extrema of\n",
        "$$f(x)= x^3+3x^2-9x-5$$"
      ]
    },
    {
      "cell_type": "code",
      "execution_count": 22,
      "metadata": {
        "colab": {
          "base_uri": "https://localhost:8080/"
        },
        "id": "P7iVdsdzzPY5",
        "outputId": "40be1cb6-7099-44a9-c0bc-a10b89708109"
      },
      "outputs": [
        {
          "output_type": "stream",
          "name": "stdout",
          "text": [
            "[-3, 1]\n",
            "Maxima=  22 for x=  -3\n",
            "Maxima=  -10 for x=  1\n"
          ]
        }
      ],
      "source": [
        "f = x**3 + 3*x**2 - 9*x - 5\n",
        "df = diff(f)\n",
        "ddf = diff(f,x,2)\n",
        "\n",
        "roots = solve(df)\n",
        "print(roots)\n",
        "\n",
        "for i in roots:\n",
        "  if ddf.subs(x, i)<0:\n",
        "    print(\"Maxima= \", f.subs(x,i), \"for x= \", i)\n",
        "  else:\n",
        "    print(\"Maxima= \", f.subs(x,i), \"for x= \", i)"
      ]
    }
  ],
  "metadata": {
    "colab": {
      "provenance": [],
      "include_colab_link": true
    },
    "kernelspec": {
      "display_name": "Python 3",
      "name": "python3"
    },
    "language_info": {
      "name": "python"
    }
  },
  "nbformat": 4,
  "nbformat_minor": 0
}