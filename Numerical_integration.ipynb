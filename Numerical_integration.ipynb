{
  "nbformat": 4,
  "nbformat_minor": 0,
  "metadata": {
    "colab": {
      "provenance": [],
      "authorship_tag": "ABX9TyPeGxfmvGOWMmOhfTMWpi/g",
      "include_colab_link": true
    },
    "kernelspec": {
      "name": "python3",
      "display_name": "Python 3"
    },
    "language_info": {
      "name": "python"
    }
  },
  "cells": [
    {
      "cell_type": "markdown",
      "metadata": {
        "id": "view-in-github",
        "colab_type": "text"
      },
      "source": [
        "<a href=\"https://colab.research.google.com/github/rakibulalamshamim/MAT120lab/blob/main/Numerical_integration.ipynb\" target=\"_parent\"><img src=\"https://colab.research.google.com/assets/colab-badge.svg\" alt=\"Open In Colab\"/></a>"
      ]
    },
    {
      "cell_type": "markdown",
      "source": [
        "# Trapezoidal Rule\n",
        " $$\\int^{a}_{b} y dx = \\frac{h}{2} \\left[y_0 + y_n + 2 \\sum_{i=1}^{n-1}y_i \\right]$$"
      ],
      "metadata": {
        "id": "18rPTccsOVox"
      }
    },
    {
      "cell_type": "code",
      "source": [
        "import numpy as np\n",
        "import sympy as sp"
      ],
      "metadata": {
        "id": "__uhVlmcZkrt"
      },
      "execution_count": null,
      "outputs": []
    },
    {
      "cell_type": "code",
      "execution_count": 40,
      "metadata": {
        "colab": {
          "base_uri": "https://localhost:8080/"
        },
        "id": "GugT_ywwOQpC",
        "outputId": "afd26857-dee1-46dc-bd40-34fade44c1de"
      },
      "outputs": [
        {
          "output_type": "execute_result",
          "data": {
            "text/plain": [
              "(0.4596938633113578, 0.45969769413186023)"
            ]
          },
          "metadata": {},
          "execution_count": 40
        }
      ],
      "source": [
        "a, b, n = 0, 1, 100\n",
        "h = (b-a)/n\n",
        "def y(x): return np.sin(x)\n",
        "\n",
        "x = np.linspace(a, b, n+1)\n",
        "I = y(a) + y(b)                               # Yo + Y1\n",
        "\n",
        "for i in range(1, n):\n",
        "  I = I + 2*y(x[i])\n",
        "\n",
        "Trapzoid = I*h/2                              # Trapezoidal rule\n",
        "real_int = - (np.cos(b)- np.cos(a))           # Real Integral\n",
        "\n",
        "Trapzoid, real_int"
      ]
    },
    {
      "cell_type": "markdown",
      "source": [
        "Or the simple code will do the same"
      ],
      "metadata": {
        "id": "26nWwyDSpM2_"
      }
    },
    {
      "cell_type": "code",
      "source": [
        "x = np.linspace(a, b, n+1)\n",
        "f = np.sin(x)\n",
        "(h/2)*(f[0] + f[n] + 2* sum(f[1:n]))\n"
      ],
      "metadata": {
        "colab": {
          "base_uri": "https://localhost:8080/"
        },
        "id": "1wiuB9ArnGoL",
        "outputId": "9f408795-e0a8-4c01-ca81-5f27533e97d1"
      },
      "execution_count": 48,
      "outputs": [
        {
          "output_type": "execute_result",
          "data": {
            "text/plain": [
              "0.4596938633113578"
            ]
          },
          "metadata": {},
          "execution_count": 48
        }
      ]
    },
    {
      "cell_type": "markdown",
      "source": [
        "## Trapezoidal rule Using `scipy`"
      ],
      "metadata": {
        "id": "ve7CvO7kZzHE"
      }
    },
    {
      "cell_type": "code",
      "source": [
        "from scipy import integrate as it\n",
        "\n",
        "it.trapezoid(np.sin(x), x)"
      ],
      "metadata": {
        "colab": {
          "base_uri": "https://localhost:8080/"
        },
        "id": "F_8el9QUZx8V",
        "outputId": "c1ca8fb5-13f1-4f17-c3da-6f34bccb011c"
      },
      "execution_count": 33,
      "outputs": [
        {
          "output_type": "execute_result",
          "data": {
            "text/plain": [
              "0.45969765582371847"
            ]
          },
          "metadata": {},
          "execution_count": 33
        }
      ]
    },
    {
      "cell_type": "markdown",
      "source": [
        "# Simpson's Rule\n",
        "\n",
        "$$\\int^b_a y dx = \\frac{h}{3}\\left[y_0 + y_n +\\ 4\\sum_{i=1, \\ i \\ \\textbf{ odd}}^{n-1}y_i +\\ 2\\sum_{i=2,\\ i\\ \\textbf{ even}}^{n-2}y_i \\right] $$\n",
        "\n",
        "where $n$ must be even."
      ],
      "metadata": {
        "id": "zxmPmSM4ePKU"
      }
    },
    {
      "cell_type": "code",
      "source": [
        "a, b, n = 0, 1, 100\n",
        "\n",
        "h = (b-a)/n\n",
        "\n",
        "x = np.linspace(a, b, n+1)\n",
        "\n",
        "def y(x): return np.sin(x)\n",
        "\n",
        "I = y(a) + y(b)\n",
        "\n",
        "for i in range(1, n):\n",
        "  if i%2 != 0:\n",
        "    I += 4*y(x[i])\n",
        "  else:\n",
        "    I += 2*y(x[i])\n",
        "\n",
        "Simpson= I*h/3\n",
        "Simpson"
      ],
      "metadata": {
        "colab": {
          "base_uri": "https://localhost:8080/"
        },
        "id": "HjziuSIMfkQe",
        "outputId": "d2f2b4cb-ebee-4f22-8dab-c43b583cf767"
      },
      "execution_count": 37,
      "outputs": [
        {
          "output_type": "execute_result",
          "data": {
            "text/plain": [
              "(0.4596938633113578, 0.4596976941573994, 0.45969769413186023)"
            ]
          },
          "metadata": {},
          "execution_count": 37
        }
      ]
    },
    {
      "cell_type": "code",
      "source": [
        "# Comparison\n",
        "\n",
        "Trapzoid, Simpson, real_int"
      ],
      "metadata": {
        "id": "JAZa_q62kFyl"
      },
      "execution_count": null,
      "outputs": []
    },
    {
      "cell_type": "markdown",
      "source": [
        "#Simpson's rule Using `scipy`\n"
      ],
      "metadata": {
        "id": "Ca1ysZyOjbe8"
      }
    },
    {
      "cell_type": "code",
      "source": [
        "from scipy import integrate as it\n",
        "\n",
        "it.simpson(y(x), x)"
      ],
      "metadata": {
        "colab": {
          "base_uri": "https://localhost:8080/"
        },
        "id": "4jlQxuMJjj2f",
        "outputId": "68e54b7f-016f-4ae8-85a6-557f3dec164d"
      },
      "execution_count": 38,
      "outputs": [
        {
          "output_type": "execute_result",
          "data": {
            "text/plain": [
              "0.45969769415739936"
            ]
          },
          "metadata": {},
          "execution_count": 38
        }
      ]
    }
  ]
}