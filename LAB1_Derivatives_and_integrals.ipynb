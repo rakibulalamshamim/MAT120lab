{
  "nbformat": 4,
  "nbformat_minor": 0,
  "metadata": {
    "colab": {
      "provenance": [],
      "toc_visible": true,
      "include_colab_link": true
    },
    "kernelspec": {
      "name": "python3",
      "display_name": "Python 3"
    },
    "language_info": {
      "name": "python"
    }
  },
  "cells": [
    {
      "cell_type": "markdown",
      "metadata": {
        "id": "view-in-github",
        "colab_type": "text"
      },
      "source": [
        "<a href=\"https://colab.research.google.com/github/rakibulalamshamim/MAT120lab/blob/main/LAB1_Derivatives_and_integrals.ipynb\" target=\"_parent\"><img src=\"https://colab.research.google.com/assets/colab-badge.svg\" alt=\"Open In Colab\"/></a>"
      ]
    },
    {
      "cell_type": "markdown",
      "source": [
        "# `sympy`\n",
        "The library `sympy` is used for **symbolic computation**. It carries out the computer algebra through expressions only containing variables that have no given value and are manipulated as symbols. Writing `symbols('x')` will create a symbolic variable $x$."
      ],
      "metadata": {
        "id": "Cdgmhl0_6yLr"
      }
    },
    {
      "cell_type": "code",
      "execution_count": null,
      "metadata": {
        "id": "Qomp7VNytL7Y"
      },
      "outputs": [],
      "source": [
        "import numpy as np\n",
        "from sympy import *"
      ]
    },
    {
      "cell_type": "code",
      "source": [
        "x = symbols('x')"
      ],
      "metadata": {
        "id": "Hzrh0OYD77op"
      },
      "execution_count": null,
      "outputs": []
    },
    {
      "cell_type": "markdown",
      "source": [
        "Let's say we want to solve the equation: $f(x)=0$. \\\\\n",
        "Use `sympy.solve(f, x)` function."
      ],
      "metadata": {
        "id": "irDP_S5h4GVV"
      }
    },
    {
      "cell_type": "code",
      "source": [
        "f= x**2 - 5*x + 6\n",
        "solve(f)"
      ],
      "metadata": {
        "colab": {
          "base_uri": "https://localhost:8080/"
        },
        "id": "ovn18WFS5H1D",
        "outputId": "8c41fa40-1f31-4036-c23e-91cfcca79285"
      },
      "execution_count": null,
      "outputs": [
        {
          "output_type": "execute_result",
          "data": {
            "text/plain": [
              "[2, 3]"
            ]
          },
          "metadata": {},
          "execution_count": 19
        }
      ]
    },
    {
      "cell_type": "markdown",
      "source": [
        "Solve $\\cos{x}-\\sin{x}=1$"
      ],
      "metadata": {
        "id": "WENypJVM8qkT"
      }
    },
    {
      "cell_type": "code",
      "source": [
        "f = cos(x) -sin(x) -1\n",
        "solve(f,x)"
      ],
      "metadata": {
        "colab": {
          "base_uri": "https://localhost:8080/",
          "height": 58
        },
        "id": "M4cCKU-e9MqR",
        "outputId": "9e02009a-3337-400c-c5ee-439e5ab0e618"
      },
      "execution_count": null,
      "outputs": [
        {
          "output_type": "execute_result",
          "data": {
            "text/plain": [
              "Union(ImageSet(Lambda(_n, 2*_n*pi), Integers), ImageSet(Lambda(_n, 2*_n*pi + 3*pi/2), Integers))"
            ],
            "text/latex": "$\\displaystyle \\left\\{2 n \\pi\\; \\middle|\\; n \\in \\mathbb{Z}\\right\\} \\cup \\left\\{2 n \\pi + \\frac{3 \\pi}{2}\\; \\middle|\\; n \\in \\mathbb{Z}\\right\\}$"
          },
          "metadata": {},
          "execution_count": 46
        }
      ]
    },
    {
      "cell_type": "markdown",
      "source": [
        "In interval:  $-2\\pi \\leq x \\leq 2\\pi $"
      ],
      "metadata": {
        "id": "XxV0XUnjDtgh"
      }
    },
    {
      "cell_type": "code",
      "source": [
        "i = Interval(-2*pi, 2*pi)\n",
        "solveset(f,x,i)"
      ],
      "metadata": {
        "colab": {
          "base_uri": "https://localhost:8080/",
          "height": 58
        },
        "id": "wPqUneNuERVF",
        "outputId": "fdd46cb7-cc83-4fde-e40d-3b41d7243838"
      },
      "execution_count": null,
      "outputs": [
        {
          "output_type": "execute_result",
          "data": {
            "text/plain": [
              "{0, -4*pi, -5*pi/2, -2*pi, -pi/2, 3*pi/2, 2*pi, 7*pi/2, 4*pi}"
            ],
            "text/latex": "$\\displaystyle \\left\\{0, - 4 \\pi, - \\frac{5 \\pi}{2}, - 2 \\pi, - \\frac{\\pi}{2}, \\frac{3 \\pi}{2}, 2 \\pi, \\frac{7 \\pi}{2}, 4 \\pi\\right\\}$"
          },
          "metadata": {},
          "execution_count": 47
        }
      ]
    },
    {
      "cell_type": "markdown",
      "source": [
        "Solve:\n",
        "\n",
        "\n",
        "1.   $4\\cos{x}\\cos{2x}\\cos{3x}=1$\n",
        "2.   $4\\sin^2{x} + \\cos{x} =5$\n",
        "\n"
      ],
      "metadata": {
        "id": "YnsD0mncCYU2"
      }
    },
    {
      "cell_type": "markdown",
      "source": [
        "# Differentiation\n",
        "Let's find the approximation of a derivative at some point. For a function $f(x)$, the first derivative at point $a$ reads by\n",
        "$$\\frac{d}{dx}f(a) = \\frac{f(a+h)-f(a)}{h} $$"
      ],
      "metadata": {
        "id": "GuEmRF9jm-5g"
      }
    },
    {
      "cell_type": "code",
      "source": [
        "def f(x): return np.sin(x)\n",
        "\n",
        "def df(h,  x):\n",
        "  return (f(x+h)-f(x))/h\n",
        "\n",
        "h = 10**(-10)\n",
        "df(h, 2), np.cos(2)\n"
      ],
      "metadata": {
        "colab": {
          "base_uri": "https://localhost:8080/"
        },
        "id": "X06bIpaToS4l",
        "outputId": "393269ea-4499-4dc6-ecaa-6912fbd56658"
      },
      "execution_count": null,
      "outputs": [
        {
          "output_type": "execute_result",
          "data": {
            "text/plain": [
              "(-0.4161471167662967, -0.4161468365471424)"
            ]
          },
          "metadata": {},
          "execution_count": 25
        }
      ]
    },
    {
      "cell_type": "code",
      "source": [
        "x = 2\n",
        "t = 10**(-5)                                    # This is the tolerance. which means our derivative will be accurate upto 5 decimal points.\n",
        "n = 1\n",
        "while np.fabs(df(h, x)-np.cos(x))>t:\n",
        "  n+=1\n",
        "  h = 10**(-n)\n",
        "  df(h, x)\n",
        "df(h,x), np.cos(x)\n",
        "\n",
        "\n",
        "\n"
      ],
      "metadata": {
        "colab": {
          "base_uri": "https://localhost:8080/"
        },
        "id": "ZFovmcDzvSPB",
        "outputId": "7d82f14e-1ac7-4452-e88e-7a9f65a94766"
      },
      "execution_count": null,
      "outputs": [
        {
          "output_type": "execute_result",
          "data": {
            "text/plain": [
              "(-0.4161471167662967, -0.4161468365471424)"
            ]
          },
          "metadata": {},
          "execution_count": 26
        }
      ]
    },
    {
      "cell_type": "markdown",
      "source": [
        "#Differentiation with `sympy`\n",
        "Start with simple functions:\n",
        "$f(x)= \\sin{x} $. Use\n",
        "`diff(f,x)`\n",
        " to find the first derivative, `diff(f, x, x)` for the second derivative and so on.\n",
        " \\\\\n",
        " Or just write `f.diff(x)` to get the derivative. `f.diff(x,x)` to get the second derivative and so on."
      ],
      "metadata": {
        "id": "zhuFAtI1ZA53"
      }
    },
    {
      "cell_type": "code",
      "source": [
        "x = symbols('x')\n",
        "f = sin(x)\n",
        "diff(f,x)"
      ],
      "metadata": {
        "id": "vxgphz0UZw6n",
        "colab": {
          "base_uri": "https://localhost:8080/",
          "height": 39
        },
        "outputId": "2601476f-70ff-4fb2-b190-23d854ff2a74"
      },
      "execution_count": null,
      "outputs": [
        {
          "output_type": "execute_result",
          "data": {
            "text/plain": [
              "cos(x)"
            ],
            "text/latex": "$\\displaystyle \\cos{\\left(x \\right)}$"
          },
          "metadata": {},
          "execution_count": 21
        }
      ]
    },
    {
      "cell_type": "markdown",
      "source": [
        "Let's say we want to calculate $n^{th}$ derivative. Use `diff(f,x,n)` to compute $\\frac{d^nf}{dx^n}$"
      ],
      "metadata": {
        "id": "kz5GNLoPblb4"
      }
    },
    {
      "cell_type": "code",
      "source": [
        "diff(f,x,2)"
      ],
      "metadata": {
        "id": "iRt04vD_bjzg"
      },
      "execution_count": null,
      "outputs": []
    },
    {
      "cell_type": "markdown",
      "source": [
        "Now let's find the derivatives of some usual functions: $x^n$, $a^x$, $e^x$, $ln(x)$, $log_a x$, and $tan^{-1}x$"
      ],
      "metadata": {
        "id": "e3JjODvOiD5e"
      }
    },
    {
      "cell_type": "code",
      "source": [
        "n, a = symbols('n a', real=True)"
      ],
      "metadata": {
        "id": "quRrl2JJ8Wxc"
      },
      "execution_count": null,
      "outputs": []
    },
    {
      "cell_type": "code",
      "source": [
        "diff(x**n, x)"
      ],
      "metadata": {
        "id": "OoHztEySEN3n"
      },
      "execution_count": null,
      "outputs": []
    },
    {
      "cell_type": "code",
      "source": [
        "diff(a**x, x)"
      ],
      "metadata": {
        "id": "Ylm3iYfhEQqg"
      },
      "execution_count": null,
      "outputs": []
    },
    {
      "cell_type": "code",
      "source": [
        "diff(exp(x), x)"
      ],
      "metadata": {
        "id": "8ahrNoM8EVt-"
      },
      "execution_count": null,
      "outputs": []
    },
    {
      "cell_type": "code",
      "source": [
        "diff(log(x), x)"
      ],
      "metadata": {
        "id": "tzAnFTTgEX7M"
      },
      "execution_count": null,
      "outputs": []
    },
    {
      "cell_type": "code",
      "source": [
        "diff(log(x,a), x)"
      ],
      "metadata": {
        "id": "a8iQprH2EbCf"
      },
      "execution_count": null,
      "outputs": []
    },
    {
      "cell_type": "code",
      "source": [
        "diff(atan(x), x)"
      ],
      "metadata": {
        "id": "SRaPvgFpEfVd"
      },
      "execution_count": null,
      "outputs": []
    },
    {
      "cell_type": "markdown",
      "source": [
        "##Partial derivatives:\n",
        "$f(x)= x^3y^2z-3xz^3$"
      ],
      "metadata": {
        "id": "z2HEOQdDrWkE"
      }
    },
    {
      "cell_type": "code",
      "source": [
        "x, y, z = symbols('x y z')\n",
        "f = x**3*y**2*z - 3*x*z**3\n",
        "dfdx = diff(f,x)                      # df/dx\n",
        "dfdy = diff(f,y)                      # df/dy\n",
        "\n",
        "ddfdxy= diff(f, x, y)\n"
      ],
      "metadata": {
        "colab": {
          "base_uri": "https://localhost:8080/"
        },
        "id": "LOFyFIGdsGXr",
        "outputId": "45c7265c-d59f-4d95-92dd-a64da3f2f226"
      },
      "execution_count": null,
      "outputs": [
        {
          "output_type": "stream",
          "name": "stdout",
          "text": [
            "$\frac{df}{dx}=$ 3*x**2*y**2*z - 3*z**3\n"
          ]
        }
      ]
    },
    {
      "cell_type": "markdown",
      "source": [
        "# Integration\n",
        "Write the integral using `Integral(f, x)` and to do the indefinite integration write `integrate(f, x)`."
      ],
      "metadata": {
        "id": "zUQMt8OauEHy"
      }
    },
    {
      "cell_type": "code",
      "source": [
        "x = Symbol('x')\n",
        "\n",
        "Integral(sin(x))"
      ],
      "metadata": {
        "colab": {
          "base_uri": "https://localhost:8080/",
          "height": 55
        },
        "id": "BR8PQOc0wlyQ",
        "outputId": "ec8fb4ac-8d1c-40ef-f903-65df0c60b87b"
      },
      "execution_count": null,
      "outputs": [
        {
          "output_type": "execute_result",
          "data": {
            "text/plain": [
              "Integral(sin(x), x)"
            ],
            "text/latex": "$\\displaystyle \\int \\sin{\\left(x \\right)}\\, dx$"
          },
          "metadata": {},
          "execution_count": 18
        }
      ]
    },
    {
      "cell_type": "code",
      "source": [
        "integrate(sin(x))"
      ],
      "metadata": {
        "colab": {
          "base_uri": "https://localhost:8080/",
          "height": 39
        },
        "id": "K9yAgKx_xsmJ",
        "outputId": "31bc3591-37c1-4c98-8e47-6196d342c456"
      },
      "execution_count": null,
      "outputs": [
        {
          "output_type": "execute_result",
          "data": {
            "text/plain": [
              "-cos(x)"
            ],
            "text/latex": "$\\displaystyle - \\cos{\\left(x \\right)}$"
          },
          "metadata": {},
          "execution_count": 12
        }
      ]
    },
    {
      "cell_type": "markdown",
      "source": [
        "## Definite Integral\n",
        "To get the definite integral, just write the integral in this format:\n",
        "`integrate(f,(x, lower_limit, upper_limit))`. Let's finish the integral  $$\\Gamma(1)= \\int^{∞}_0 e^{-x}dx$$"
      ],
      "metadata": {
        "id": "8pjlYB2Cxz5P"
      }
    },
    {
      "cell_type": "code",
      "source": [
        "f = exp(-x)\n",
        "\n",
        "integrate(f, (x, 0, oo))"
      ],
      "metadata": {
        "colab": {
          "base_uri": "https://localhost:8080/",
          "height": 47
        },
        "id": "yCWrb4yjyv9S",
        "outputId": "76e247ce-7d5c-48c3-a525-ddc57d33d08a"
      },
      "execution_count": null,
      "outputs": [
        {
          "output_type": "execute_result",
          "data": {
            "text/plain": [
              "pi/2"
            ],
            "text/latex": "$\\displaystyle \\frac{\\pi}{2}$"
          },
          "metadata": {},
          "execution_count": 19
        }
      ]
    },
    {
      "cell_type": "markdown",
      "source": [
        "Find:\n",
        "\n",
        "\n",
        "1.  Gaussian integral: $$\\int^∞_{-∞} e^{-x^2}$$\n",
        "2.  Dirichlet integral: $$\\int^{∞}_0 \\frac{\\sin{x}}{x} dx$$\n",
        "\n"
      ],
      "metadata": {
        "id": "scQUGWMRzfeo"
      }
    },
    {
      "cell_type": "markdown",
      "source": [
        "## The **Gamma** function\n",
        "$$\\Gamma(t) = \\int^∞_0 x^{t-1}e^{-x} dx $$\n",
        "From this, the factorial of a number $n= t-1$ is given by,\n",
        "$$n! = \\int^∞_0 x^{n}e^{-x} dx $$"
      ],
      "metadata": {
        "id": "nSToYPuQ0n_3"
      }
    },
    {
      "cell_type": "code",
      "source": [
        "def factrl(n=float(input())):\n",
        "  f = x**n*exp(-x)\n",
        "  return integrate(f, (x, 0, oo))\n",
        "\n",
        "factrl()"
      ],
      "metadata": {
        "colab": {
          "base_uri": "https://localhost:8080/",
          "height": 55
        },
        "id": "4AUVgiJR6zJ_",
        "outputId": "94bc6bf8-e74f-451d-bf3e-49a0d6454247"
      },
      "execution_count": null,
      "outputs": [
        {
          "name": "stdout",
          "output_type": "stream",
          "text": [
            "15.5\n"
          ]
        },
        {
          "output_type": "execute_result",
          "data": {
            "text/plain": [
              "5189998453040.13"
            ],
            "text/latex": "$\\displaystyle 5189998453040.13$"
          },
          "metadata": {},
          "execution_count": 27
        }
      ]
    }
  ]
}