{
  "nbformat": 4,
  "nbformat_minor": 0,
  "metadata": {
    "colab": {
      "provenance": [],
      "include_colab_link": true
    },
    "kernelspec": {
      "name": "python3",
      "display_name": "Python 3"
    },
    "language_info": {
      "name": "python"
    }
  },
  "cells": [
    {
      "cell_type": "markdown",
      "metadata": {
        "id": "view-in-github",
        "colab_type": "text"
      },
      "source": [
        "<a href=\"https://colab.research.google.com/github/rakibulalamshamim/MAT120lab/blob/main/Lab4_Numerical_integration.ipynb\" target=\"_parent\"><img src=\"https://colab.research.google.com/assets/colab-badge.svg\" alt=\"Open In Colab\"/></a>"
      ]
    },
    {
      "cell_type": "markdown",
      "source": [
        "#Numerical Integration\n",
        "\n",
        "\n",
        "1.   Trapezoidal Rule\n",
        "2.   Simpson's Rule\n",
        "3. Monte Carlo method\n",
        "\n"
      ],
      "metadata": {
        "id": "rMINP0vrgamB"
      }
    },
    {
      "cell_type": "markdown",
      "source": [
        "# Trapezoidal Rule\n",
        " $$\\int^{b}_{a} y dx = \\frac{h}{2} \\left[y_0 + y_n + 2 \\sum_{i=1}^{n-1}y_i \\right]$$"
      ],
      "metadata": {
        "id": "18rPTccsOVox"
      }
    },
    {
      "cell_type": "code",
      "source": [
        "import numpy as np"
      ],
      "metadata": {
        "id": "__uhVlmcZkrt"
      },
      "execution_count": 1,
      "outputs": []
    },
    {
      "cell_type": "markdown",
      "source": [
        "$$\\int^{\\pi}_0 \\sin(x) \\ dx = 2$$"
      ],
      "metadata": {
        "id": "0IMO5MA1smcZ"
      }
    },
    {
      "cell_type": "code",
      "execution_count": null,
      "metadata": {
        "colab": {
          "base_uri": "https://localhost:8080/"
        },
        "id": "GugT_ywwOQpC",
        "outputId": "ee73a4e7-7f35-4de0-9493-734fa5d462b4"
      },
      "outputs": [
        {
          "output_type": "execute_result",
          "data": {
            "text/plain": [
              "0.7834313348691375"
            ]
          },
          "metadata": {},
          "execution_count": 29
        }
      ],
      "source": [
        "a, b, n = 0, 1, 1000\n",
        "h = (b-a)/n\n",
        "def y(x): return x**x\n",
        "\n",
        "x = np.linspace(a, b, n+1)\n",
        "I = y(a) + y(b)                               # Yo + Y1\n",
        "\n",
        "for i in range(1, n):\n",
        "  I = I + 2*y(x[i])\n",
        "\n",
        "Trapzoid = I*h/2                              # Trapezoidal rule\n",
        "Trapzoid"
      ]
    },
    {
      "cell_type": "markdown",
      "source": [
        "## Classwork: Find the Bernoulli integral $$\\int_0^1 x^x dx ≈ 0.78343051071213$$"
      ],
      "metadata": {
        "id": "IZdh4d6meer8"
      }
    },
    {
      "cell_type": "markdown",
      "source": [
        "Or the simple code will do the same"
      ],
      "metadata": {
        "id": "26nWwyDSpM2_"
      }
    },
    {
      "cell_type": "code",
      "source": [
        "x = np.linspace(a, b, n+1)\n",
        "f = np.sin(x)\n",
        "(h/2)*(f[0] + f[n] + 2* sum(f[1:n]))\n"
      ],
      "metadata": {
        "colab": {
          "base_uri": "https://localhost:8080/"
        },
        "id": "1wiuB9ArnGoL",
        "outputId": "991435e4-8d8d-4db4-ade9-16b94b0e7d1a"
      },
      "execution_count": null,
      "outputs": [
        {
          "output_type": "execute_result",
          "data": {
            "text/plain": [
              "1.9999983550656624"
            ]
          },
          "metadata": {},
          "execution_count": 9
        }
      ]
    },
    {
      "cell_type": "code",
      "source": [
        "real_int = - (np.cos(b)- np.cos(a))           # Showing Real Integral for comparison\n",
        "\n",
        "real_int"
      ],
      "metadata": {
        "colab": {
          "base_uri": "https://localhost:8080/"
        },
        "id": "ek1n_A97nRby",
        "outputId": "fe8ad814-0c81-4061-bdaf-2d5ff67d4dfb"
      },
      "execution_count": null,
      "outputs": [
        {
          "output_type": "execute_result",
          "data": {
            "text/plain": [
              "2.0"
            ]
          },
          "metadata": {},
          "execution_count": 15
        }
      ]
    },
    {
      "cell_type": "markdown",
      "source": [
        "## Trapezoidal rule Using `scipy`\n",
        "The scipy.integrate sub-package provides several integration techniques including an ordinary differential equation integrator:\n",
        "Use `scipy.integrate.trapezoid(y, x)`"
      ],
      "metadata": {
        "id": "ve7CvO7kZzHE"
      }
    },
    {
      "cell_type": "code",
      "source": [
        "from scipy import integrate as it\n",
        "\n",
        "it.trapezoid(np.sin(x), x)"
      ],
      "metadata": {
        "colab": {
          "base_uri": "https://localhost:8080/"
        },
        "id": "F_8el9QUZx8V",
        "outputId": "42c236b4-217c-42f1-868f-06e39f08af69"
      },
      "execution_count": null,
      "outputs": [
        {
          "output_type": "execute_result",
          "data": {
            "text/plain": [
              "1.9999983550656628"
            ]
          },
          "metadata": {},
          "execution_count": 26
        }
      ]
    },
    {
      "cell_type": "markdown",
      "source": [
        "# Simpson's Rule\n",
        "\n",
        "$$\\int^b_a y dx = \\frac{h}{3}\\left[y_0 + y_n +\\ 4\\sum_{i=1, \\ i \\ \\textbf{ odd}}^{n-1}y_i +\\ 2\\sum_{i=2,\\ i\\ \\textbf{ even}}^{n-2}y_i \\right] $$\n",
        "\n",
        "where $n$ must be even."
      ],
      "metadata": {
        "id": "zxmPmSM4ePKU"
      }
    },
    {
      "cell_type": "code",
      "source": [
        "a, b, n = 0, np.pi, 1000\n",
        "\n",
        "h = (b-a)/n\n",
        "\n",
        "x = np.linspace(a, b, n+1)\n",
        "\n",
        "def y(x): return np.sin(x)\n",
        "\n",
        "I = y(a) + y(b)\n",
        "\n",
        "for i in range(1, n):\n",
        "  if i%2 != 0:\n",
        "    I += 4*y(x[i])\n",
        "  else:\n",
        "    I += 2*y(x[i])\n",
        "\n",
        "Simpson= I*h/3\n",
        "Simpson"
      ],
      "metadata": {
        "colab": {
          "base_uri": "https://localhost:8080/"
        },
        "id": "HjziuSIMfkQe",
        "outputId": "8812de06-b071-4838-e5cc-6eeb0ccf2a00"
      },
      "execution_count": null,
      "outputs": [
        {
          "output_type": "execute_result",
          "data": {
            "text/plain": [
              "2.0000000000010805"
            ]
          },
          "metadata": {},
          "execution_count": 27
        }
      ]
    },
    {
      "cell_type": "code",
      "source": [
        "# Comparison\n",
        "\n",
        "Trapzoid, Simpson, real_int"
      ],
      "metadata": {
        "id": "JAZa_q62kFyl",
        "colab": {
          "base_uri": "https://localhost:8080/"
        },
        "outputId": "43bdfe6e-548c-4181-b5db-ffaf20d3d3b8"
      },
      "execution_count": null,
      "outputs": [
        {
          "output_type": "execute_result",
          "data": {
            "text/plain": [
              "(1.9999983550656624, 2.0000000000010805, 2.0)"
            ]
          },
          "metadata": {},
          "execution_count": 28
        }
      ]
    },
    {
      "cell_type": "markdown",
      "source": [
        "#Simpson's rule Using `scipy`\n"
      ],
      "metadata": {
        "id": "Ca1ysZyOjbe8"
      }
    },
    {
      "cell_type": "code",
      "source": [
        "from scipy import integrate as it\n",
        "\n",
        "it.simpson(y(x), x)"
      ],
      "metadata": {
        "colab": {
          "base_uri": "https://localhost:8080/"
        },
        "id": "4jlQxuMJjj2f",
        "outputId": "eb340445-530a-4031-a0b1-3d7cf3151a70"
      },
      "execution_count": null,
      "outputs": [
        {
          "output_type": "execute_result",
          "data": {
            "text/plain": [
              "2.0000000000010822"
            ]
          },
          "metadata": {},
          "execution_count": 13
        }
      ]
    },
    {
      "cell_type": "markdown",
      "source": [
        "#How to deal with infinity\n",
        "\n",
        "1.   When the upper limit $b=∞$ take large value of $b$ instead and the sum will converge. Remember to make sure that $(b-a)< n. \\ $  (Take negative large value of $a$ if $a= -\\infty$)\n",
        "2.   Increase the value of $b$ and calculate the sum until the value has converged upto a point.\n",
        "\n",
        "\n"
      ],
      "metadata": {
        "id": "_f--KLko8uO3"
      }
    },
    {
      "cell_type": "markdown",
      "source": [
        "$$\\int^{∞}_0 e^{-x^2}dx$$"
      ],
      "metadata": {
        "id": "cB5x5itK_5od"
      }
    },
    {
      "cell_type": "code",
      "source": [
        "a = 0\n",
        "b = 1                                       # Large upper limit\n",
        "n = 10000\n",
        "h = (b-a)/n\n",
        "\n",
        "def y(x): return np.exp(-x**2)\n",
        "\n",
        "x = np.linspace(a, b, n+1)\n",
        "I = y(a) + y(b)                               # Yo + Y1\n",
        "\n",
        "for i in range(1, n):\n",
        "  I = I + 2*y(x[i])\n",
        "\n",
        "Trapzoid = I*h/2                              # Trapezoidal rule\n",
        "Trapzoid, np.sqrt(np.pi)/2"
      ],
      "metadata": {
        "colab": {
          "base_uri": "https://localhost:8080/"
        },
        "id": "WqyCmEa8_5Bd",
        "outputId": "d5ec3506-6d9e-454d-8128-e7412ac375ce"
      },
      "execution_count": 37,
      "outputs": [
        {
          "output_type": "execute_result",
          "data": {
            "text/plain": [
              "(0.7468241321992939, 0.8862269254527579)"
            ]
          },
          "metadata": {},
          "execution_count": 37
        }
      ]
    },
    {
      "cell_type": "markdown",
      "source": [
        "##With while loop"
      ],
      "metadata": {
        "id": "Extw3aFPCw4F"
      }
    },
    {
      "cell_type": "code",
      "source": [
        "a = 0\n",
        "b = 1                                         # Large upper limit\n",
        "n = 1000\n",
        "t = 10**(-3)                                  # Tolerance\n",
        "dummy_var = 10                                # This is a dummy variable, will be used only once\n",
        "\n",
        "def y(x): return np.exp(-x**2)\n",
        "\n",
        "while True:\n",
        "  h = (b-a)/n\n",
        "  x = np.linspace(a, b, n+1)\n",
        "  I = y(a) + y(b)\n",
        "\n",
        "  for i in range(1, n):\n",
        "    I = I + 2*y(x[i])\n",
        "  Trapzoid = I*h/2\n",
        "  if np.fabs(Trapzoid - dummy_var)<t:\n",
        "    break\n",
        "  else:\n",
        "    dummy_var = Trapzoid\n",
        "    b+=1\n",
        "\n",
        "Trapzoid"
      ],
      "metadata": {
        "colab": {
          "base_uri": "https://localhost:8080/"
        },
        "id": "NnC5IhrlC3p1",
        "outputId": "86483c37-ee4e-460d-a697-437a89053492"
      },
      "execution_count": 44,
      "outputs": [
        {
          "output_type": "execute_result",
          "data": {
            "text/plain": [
              "0.8862269117883679"
            ]
          },
          "metadata": {},
          "execution_count": 44
        }
      ]
    }
  ]
}